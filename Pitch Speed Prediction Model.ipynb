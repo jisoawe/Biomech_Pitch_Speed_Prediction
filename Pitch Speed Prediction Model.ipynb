{
 "cells": [
  {
   "cell_type": "markdown",
   "metadata": {},
   "source": [
    "# Pitch Performance Prediction - Open Biomechanics Project"
   ]
  },
  {
   "cell_type": "markdown",
   "metadata": {},
   "source": [
    "### By: Jiso Awe"
   ]
  },
  {
   "cell_type": "markdown",
   "metadata": {},
   "source": [
    "This project is intended to utilize biomechanics data to predict pitch speed, utilizing data from Driveline's Open Biomechanics Project."
   ]
  },
  {
   "cell_type": "code",
   "execution_count": 93,
   "metadata": {},
   "outputs": [],
   "source": [
    "import pandas as pd\n",
    "import numpy as np\n",
    "import seaborn as sns\n",
    "import matplotlib.pyplot as plt\n",
    "import xgboost as xgb\n",
    "from sklearn.model_selection import cross_val_score, train_test_split, KFold, GridSearchCV\n",
    "from sklearn.metrics import r2_score, mean_absolute_error\n",
    "from sklearn.ensemble import RandomForestRegressor, GradientBoostingRegressor\n",
    "from sklearn.linear_model import SGDRegressor\n",
    "from xgboost import XGBRegressor, plot_importance"
   ]
  },
  {
   "cell_type": "code",
   "execution_count": 44,
   "metadata": {},
   "outputs": [],
   "source": [
    "biomech = pd.read_csv(\"pitching_poi_metrics.csv\")\n",
    "metadata = pd.read_csv(\"pitching_metadata.csv\")"
   ]
  },
  {
   "cell_type": "code",
   "execution_count": 45,
   "metadata": {},
   "outputs": [
    {
     "data": {
      "text/html": [
       "<div>\n",
       "<style scoped>\n",
       "    .dataframe tbody tr th:only-of-type {\n",
       "        vertical-align: middle;\n",
       "    }\n",
       "\n",
       "    .dataframe tbody tr th {\n",
       "        vertical-align: top;\n",
       "    }\n",
       "\n",
       "    .dataframe thead th {\n",
       "        text-align: right;\n",
       "    }\n",
       "</style>\n",
       "<table border=\"1\" class=\"dataframe\">\n",
       "  <thead>\n",
       "    <tr style=\"text-align: right;\">\n",
       "      <th></th>\n",
       "      <th>session_pitch</th>\n",
       "      <th>session</th>\n",
       "      <th>p_throws</th>\n",
       "      <th>pitch_type</th>\n",
       "      <th>pitch_speed_mph</th>\n",
       "      <th>max_shoulder_internal_rotational_velo</th>\n",
       "      <th>max_elbow_extension_velo</th>\n",
       "      <th>max_torso_rotational_velo</th>\n",
       "      <th>max_rotation_hip_shoulder_separation</th>\n",
       "      <th>max_elbow_flexion</th>\n",
       "      <th>...</th>\n",
       "      <th>rear_grf_z_max</th>\n",
       "      <th>rear_grf_mag_max</th>\n",
       "      <th>rear_grf_angle_at_max</th>\n",
       "      <th>lead_grf_x_max</th>\n",
       "      <th>lead_grf_y_max</th>\n",
       "      <th>lead_grf_z_max</th>\n",
       "      <th>lead_grf_mag_max</th>\n",
       "      <th>lead_grf_angle_at_max</th>\n",
       "      <th>peak_rfd_rear</th>\n",
       "      <th>peak_rfd_lead</th>\n",
       "    </tr>\n",
       "  </thead>\n",
       "  <tbody>\n",
       "    <tr>\n",
       "      <th>0</th>\n",
       "      <td>1031_2</td>\n",
       "      <td>1031</td>\n",
       "      <td>R</td>\n",
       "      <td>FF</td>\n",
       "      <td>90.4</td>\n",
       "      <td>4533.2480</td>\n",
       "      <td>2445.8177</td>\n",
       "      <td>958.0878</td>\n",
       "      <td>32.3152</td>\n",
       "      <td>109.9971</td>\n",
       "      <td>...</td>\n",
       "      <td>1497.9859</td>\n",
       "      <td>1736.0368</td>\n",
       "      <td>55.7071</td>\n",
       "      <td>1278.4966</td>\n",
       "      <td>270.7849</td>\n",
       "      <td>2484.8747</td>\n",
       "      <td>2782.9580</td>\n",
       "      <td>63.3501</td>\n",
       "      <td>11.6564</td>\n",
       "      <td>170.4620</td>\n",
       "    </tr>\n",
       "    <tr>\n",
       "      <th>1</th>\n",
       "      <td>1031_3</td>\n",
       "      <td>1031</td>\n",
       "      <td>R</td>\n",
       "      <td>FF</td>\n",
       "      <td>90.4</td>\n",
       "      <td>4571.1735</td>\n",
       "      <td>2389.5438</td>\n",
       "      <td>969.5766</td>\n",
       "      <td>32.5547</td>\n",
       "      <td>109.1065</td>\n",
       "      <td>...</td>\n",
       "      <td>1502.8258</td>\n",
       "      <td>1728.0176</td>\n",
       "      <td>60.2863</td>\n",
       "      <td>1436.1255</td>\n",
       "      <td>252.1999</td>\n",
       "      <td>2690.7521</td>\n",
       "      <td>3038.8913</td>\n",
       "      <td>62.3087</td>\n",
       "      <td>9.5715</td>\n",
       "      <td>183.6636</td>\n",
       "    </tr>\n",
       "    <tr>\n",
       "      <th>2</th>\n",
       "      <td>1097_1</td>\n",
       "      <td>1097</td>\n",
       "      <td>R</td>\n",
       "      <td>FF</td>\n",
       "      <td>77.6</td>\n",
       "      <td>4165.3055</td>\n",
       "      <td>2426.3029</td>\n",
       "      <td>1090.2269</td>\n",
       "      <td>33.1477</td>\n",
       "      <td>123.4752</td>\n",
       "      <td>...</td>\n",
       "      <td>1094.7686</td>\n",
       "      <td>1283.0751</td>\n",
       "      <td>58.3164</td>\n",
       "      <td>957.3923</td>\n",
       "      <td>245.4411</td>\n",
       "      <td>1767.4604</td>\n",
       "      <td>2010.5341</td>\n",
       "      <td>61.5594</td>\n",
       "      <td>4.4432</td>\n",
       "      <td>52.9333</td>\n",
       "    </tr>\n",
       "    <tr>\n",
       "      <th>3</th>\n",
       "      <td>1097_2</td>\n",
       "      <td>1097</td>\n",
       "      <td>R</td>\n",
       "      <td>FF</td>\n",
       "      <td>77.0</td>\n",
       "      <td>3832.1715</td>\n",
       "      <td>2424.0493</td>\n",
       "      <td>1105.2275</td>\n",
       "      <td>27.9286</td>\n",
       "      <td>124.6578</td>\n",
       "      <td>...</td>\n",
       "      <td>1187.5810</td>\n",
       "      <td>1354.7150</td>\n",
       "      <td>58.7397</td>\n",
       "      <td>860.3796</td>\n",
       "      <td>280.5177</td>\n",
       "      <td>1715.1864</td>\n",
       "      <td>1864.0488</td>\n",
       "      <td>66.6789</td>\n",
       "      <td>6.4897</td>\n",
       "      <td>54.3727</td>\n",
       "    </tr>\n",
       "    <tr>\n",
       "      <th>4</th>\n",
       "      <td>1097_3</td>\n",
       "      <td>1097</td>\n",
       "      <td>R</td>\n",
       "      <td>FF</td>\n",
       "      <td>76.1</td>\n",
       "      <td>3970.7971</td>\n",
       "      <td>2497.6253</td>\n",
       "      <td>1110.4850</td>\n",
       "      <td>28.9909</td>\n",
       "      <td>124.8308</td>\n",
       "      <td>...</td>\n",
       "      <td>1214.0065</td>\n",
       "      <td>1425.2124</td>\n",
       "      <td>58.0297</td>\n",
       "      <td>1066.6047</td>\n",
       "      <td>337.4227</td>\n",
       "      <td>2120.4510</td>\n",
       "      <td>2283.1749</td>\n",
       "      <td>65.9014</td>\n",
       "      <td>7.2019</td>\n",
       "      <td>106.2719</td>\n",
       "    </tr>\n",
       "  </tbody>\n",
       "</table>\n",
       "<p>5 rows × 81 columns</p>\n",
       "</div>"
      ],
      "text/plain": [
       "  session_pitch  session p_throws pitch_type  pitch_speed_mph  \\\n",
       "0        1031_2     1031        R         FF             90.4   \n",
       "1        1031_3     1031        R         FF             90.4   \n",
       "2        1097_1     1097        R         FF             77.6   \n",
       "3        1097_2     1097        R         FF             77.0   \n",
       "4        1097_3     1097        R         FF             76.1   \n",
       "\n",
       "   max_shoulder_internal_rotational_velo  max_elbow_extension_velo  \\\n",
       "0                              4533.2480                 2445.8177   \n",
       "1                              4571.1735                 2389.5438   \n",
       "2                              4165.3055                 2426.3029   \n",
       "3                              3832.1715                 2424.0493   \n",
       "4                              3970.7971                 2497.6253   \n",
       "\n",
       "   max_torso_rotational_velo  max_rotation_hip_shoulder_separation  \\\n",
       "0                   958.0878                               32.3152   \n",
       "1                   969.5766                               32.5547   \n",
       "2                  1090.2269                               33.1477   \n",
       "3                  1105.2275                               27.9286   \n",
       "4                  1110.4850                               28.9909   \n",
       "\n",
       "   max_elbow_flexion  ...  rear_grf_z_max  rear_grf_mag_max  \\\n",
       "0           109.9971  ...       1497.9859         1736.0368   \n",
       "1           109.1065  ...       1502.8258         1728.0176   \n",
       "2           123.4752  ...       1094.7686         1283.0751   \n",
       "3           124.6578  ...       1187.5810         1354.7150   \n",
       "4           124.8308  ...       1214.0065         1425.2124   \n",
       "\n",
       "   rear_grf_angle_at_max  lead_grf_x_max  lead_grf_y_max  lead_grf_z_max  \\\n",
       "0                55.7071       1278.4966        270.7849       2484.8747   \n",
       "1                60.2863       1436.1255        252.1999       2690.7521   \n",
       "2                58.3164        957.3923        245.4411       1767.4604   \n",
       "3                58.7397        860.3796        280.5177       1715.1864   \n",
       "4                58.0297       1066.6047        337.4227       2120.4510   \n",
       "\n",
       "   lead_grf_mag_max  lead_grf_angle_at_max  peak_rfd_rear  peak_rfd_lead  \n",
       "0         2782.9580                63.3501        11.6564       170.4620  \n",
       "1         3038.8913                62.3087         9.5715       183.6636  \n",
       "2         2010.5341                61.5594         4.4432        52.9333  \n",
       "3         1864.0488                66.6789         6.4897        54.3727  \n",
       "4         2283.1749                65.9014         7.2019       106.2719  \n",
       "\n",
       "[5 rows x 81 columns]"
      ]
     },
     "execution_count": 45,
     "metadata": {},
     "output_type": "execute_result"
    }
   ],
   "source": [
    "biomech.head()"
   ]
  },
  {
   "cell_type": "code",
   "execution_count": 46,
   "metadata": {
    "scrolled": true
   },
   "outputs": [
    {
     "data": {
      "text/html": [
       "<div>\n",
       "<style scoped>\n",
       "    .dataframe tbody tr th:only-of-type {\n",
       "        vertical-align: middle;\n",
       "    }\n",
       "\n",
       "    .dataframe tbody tr th {\n",
       "        vertical-align: top;\n",
       "    }\n",
       "\n",
       "    .dataframe thead th {\n",
       "        text-align: right;\n",
       "    }\n",
       "</style>\n",
       "<table border=\"1\" class=\"dataframe\">\n",
       "  <thead>\n",
       "    <tr style=\"text-align: right;\">\n",
       "      <th></th>\n",
       "      <th>user</th>\n",
       "      <th>session</th>\n",
       "      <th>session_pitch</th>\n",
       "      <th>session_mass_kg</th>\n",
       "      <th>session_height_m</th>\n",
       "      <th>age_yrs</th>\n",
       "      <th>playing_level</th>\n",
       "      <th>pitch_speed_mph</th>\n",
       "      <th>filename_new</th>\n",
       "      <th>modelname_new</th>\n",
       "    </tr>\n",
       "  </thead>\n",
       "  <tbody>\n",
       "    <tr>\n",
       "      <th>0</th>\n",
       "      <td>750</td>\n",
       "      <td>1031</td>\n",
       "      <td>1031_2</td>\n",
       "      <td>110.6784</td>\n",
       "      <td>1.9304</td>\n",
       "      <td>21.40</td>\n",
       "      <td>college</td>\n",
       "      <td>90.4</td>\n",
       "      <td>000750_001031_76_244_013_FF_904.c3d</td>\n",
       "      <td>000750_001031_model.c3d</td>\n",
       "    </tr>\n",
       "    <tr>\n",
       "      <th>1</th>\n",
       "      <td>750</td>\n",
       "      <td>1031</td>\n",
       "      <td>1031_3</td>\n",
       "      <td>110.6784</td>\n",
       "      <td>1.9304</td>\n",
       "      <td>21.40</td>\n",
       "      <td>college</td>\n",
       "      <td>90.4</td>\n",
       "      <td>000750_001031_76_244_014_FF_904.c3d</td>\n",
       "      <td>000750_001031_model.c3d</td>\n",
       "    </tr>\n",
       "    <tr>\n",
       "      <th>2</th>\n",
       "      <td>774</td>\n",
       "      <td>1097</td>\n",
       "      <td>1097_1</td>\n",
       "      <td>101.1528</td>\n",
       "      <td>1.9304</td>\n",
       "      <td>19.41</td>\n",
       "      <td>college</td>\n",
       "      <td>77.6</td>\n",
       "      <td>000774_001097_76_223_001_FF_776.c3d</td>\n",
       "      <td>000774_001097_model.c3d</td>\n",
       "    </tr>\n",
       "    <tr>\n",
       "      <th>3</th>\n",
       "      <td>774</td>\n",
       "      <td>1097</td>\n",
       "      <td>1097_2</td>\n",
       "      <td>101.1528</td>\n",
       "      <td>1.9304</td>\n",
       "      <td>19.41</td>\n",
       "      <td>college</td>\n",
       "      <td>77.0</td>\n",
       "      <td>000774_001097_76_223_005_FF_770.c3d</td>\n",
       "      <td>000774_001097_model.c3d</td>\n",
       "    </tr>\n",
       "    <tr>\n",
       "      <th>4</th>\n",
       "      <td>774</td>\n",
       "      <td>1097</td>\n",
       "      <td>1097_3</td>\n",
       "      <td>101.1528</td>\n",
       "      <td>1.9304</td>\n",
       "      <td>19.41</td>\n",
       "      <td>college</td>\n",
       "      <td>76.1</td>\n",
       "      <td>000774_001097_76_223_006_FF_761.c3d</td>\n",
       "      <td>000774_001097_model.c3d</td>\n",
       "    </tr>\n",
       "  </tbody>\n",
       "</table>\n",
       "</div>"
      ],
      "text/plain": [
       "   user  session session_pitch  session_mass_kg  session_height_m  age_yrs  \\\n",
       "0   750     1031        1031_2         110.6784            1.9304    21.40   \n",
       "1   750     1031        1031_3         110.6784            1.9304    21.40   \n",
       "2   774     1097        1097_1         101.1528            1.9304    19.41   \n",
       "3   774     1097        1097_2         101.1528            1.9304    19.41   \n",
       "4   774     1097        1097_3         101.1528            1.9304    19.41   \n",
       "\n",
       "  playing_level  pitch_speed_mph                         filename_new  \\\n",
       "0       college             90.4  000750_001031_76_244_013_FF_904.c3d   \n",
       "1       college             90.4  000750_001031_76_244_014_FF_904.c3d   \n",
       "2       college             77.6  000774_001097_76_223_001_FF_776.c3d   \n",
       "3       college             77.0  000774_001097_76_223_005_FF_770.c3d   \n",
       "4       college             76.1  000774_001097_76_223_006_FF_761.c3d   \n",
       "\n",
       "             modelname_new  \n",
       "0  000750_001031_model.c3d  \n",
       "1  000750_001031_model.c3d  \n",
       "2  000774_001097_model.c3d  \n",
       "3  000774_001097_model.c3d  \n",
       "4  000774_001097_model.c3d  "
      ]
     },
     "execution_count": 46,
     "metadata": {},
     "output_type": "execute_result"
    }
   ],
   "source": [
    "metadata.head()"
   ]
  },
  {
   "cell_type": "code",
   "execution_count": 47,
   "metadata": {},
   "outputs": [
    {
     "data": {
      "text/plain": [
       "(411, 81)"
      ]
     },
     "execution_count": 47,
     "metadata": {},
     "output_type": "execute_result"
    }
   ],
   "source": [
    "biomech.shape"
   ]
  },
  {
   "cell_type": "code",
   "execution_count": 48,
   "metadata": {},
   "outputs": [
    {
     "data": {
      "text/plain": [
       "(411, 10)"
      ]
     },
     "execution_count": 48,
     "metadata": {},
     "output_type": "execute_result"
    }
   ],
   "source": [
    "metadata.shape"
   ]
  },
  {
   "cell_type": "code",
   "execution_count": 49,
   "metadata": {},
   "outputs": [
    {
     "data": {
      "text/plain": [
       "(411, 89)"
      ]
     },
     "execution_count": 49,
     "metadata": {},
     "output_type": "execute_result"
    }
   ],
   "source": [
    "# They have the same amount of rows, they can easily be joined\n",
    "merged_data = pd.merge(metadata, biomech, on = [\"session_pitch\", \"session\"])\n",
    "merged_data.shape"
   ]
  },
  {
   "cell_type": "code",
   "execution_count": 50,
   "metadata": {},
   "outputs": [
    {
     "data": {
      "text/html": [
       "<div>\n",
       "<style scoped>\n",
       "    .dataframe tbody tr th:only-of-type {\n",
       "        vertical-align: middle;\n",
       "    }\n",
       "\n",
       "    .dataframe tbody tr th {\n",
       "        vertical-align: top;\n",
       "    }\n",
       "\n",
       "    .dataframe thead th {\n",
       "        text-align: right;\n",
       "    }\n",
       "</style>\n",
       "<table border=\"1\" class=\"dataframe\">\n",
       "  <thead>\n",
       "    <tr style=\"text-align: right;\">\n",
       "      <th></th>\n",
       "      <th>user</th>\n",
       "      <th>session</th>\n",
       "      <th>session_pitch</th>\n",
       "      <th>session_mass_kg</th>\n",
       "      <th>session_height_m</th>\n",
       "      <th>age_yrs</th>\n",
       "      <th>playing_level</th>\n",
       "      <th>pitch_speed_mph_x</th>\n",
       "      <th>filename_new</th>\n",
       "      <th>modelname_new</th>\n",
       "      <th>...</th>\n",
       "      <th>rear_grf_z_max</th>\n",
       "      <th>rear_grf_mag_max</th>\n",
       "      <th>rear_grf_angle_at_max</th>\n",
       "      <th>lead_grf_x_max</th>\n",
       "      <th>lead_grf_y_max</th>\n",
       "      <th>lead_grf_z_max</th>\n",
       "      <th>lead_grf_mag_max</th>\n",
       "      <th>lead_grf_angle_at_max</th>\n",
       "      <th>peak_rfd_rear</th>\n",
       "      <th>peak_rfd_lead</th>\n",
       "    </tr>\n",
       "  </thead>\n",
       "  <tbody>\n",
       "    <tr>\n",
       "      <th>0</th>\n",
       "      <td>750</td>\n",
       "      <td>1031</td>\n",
       "      <td>1031_2</td>\n",
       "      <td>110.6784</td>\n",
       "      <td>1.9304</td>\n",
       "      <td>21.40</td>\n",
       "      <td>college</td>\n",
       "      <td>90.4</td>\n",
       "      <td>000750_001031_76_244_013_FF_904.c3d</td>\n",
       "      <td>000750_001031_model.c3d</td>\n",
       "      <td>...</td>\n",
       "      <td>1497.9859</td>\n",
       "      <td>1736.0368</td>\n",
       "      <td>55.7071</td>\n",
       "      <td>1278.4966</td>\n",
       "      <td>270.7849</td>\n",
       "      <td>2484.8747</td>\n",
       "      <td>2782.9580</td>\n",
       "      <td>63.3501</td>\n",
       "      <td>11.6564</td>\n",
       "      <td>170.4620</td>\n",
       "    </tr>\n",
       "    <tr>\n",
       "      <th>1</th>\n",
       "      <td>750</td>\n",
       "      <td>1031</td>\n",
       "      <td>1031_3</td>\n",
       "      <td>110.6784</td>\n",
       "      <td>1.9304</td>\n",
       "      <td>21.40</td>\n",
       "      <td>college</td>\n",
       "      <td>90.4</td>\n",
       "      <td>000750_001031_76_244_014_FF_904.c3d</td>\n",
       "      <td>000750_001031_model.c3d</td>\n",
       "      <td>...</td>\n",
       "      <td>1502.8258</td>\n",
       "      <td>1728.0176</td>\n",
       "      <td>60.2863</td>\n",
       "      <td>1436.1255</td>\n",
       "      <td>252.1999</td>\n",
       "      <td>2690.7521</td>\n",
       "      <td>3038.8913</td>\n",
       "      <td>62.3087</td>\n",
       "      <td>9.5715</td>\n",
       "      <td>183.6636</td>\n",
       "    </tr>\n",
       "    <tr>\n",
       "      <th>2</th>\n",
       "      <td>774</td>\n",
       "      <td>1097</td>\n",
       "      <td>1097_1</td>\n",
       "      <td>101.1528</td>\n",
       "      <td>1.9304</td>\n",
       "      <td>19.41</td>\n",
       "      <td>college</td>\n",
       "      <td>77.6</td>\n",
       "      <td>000774_001097_76_223_001_FF_776.c3d</td>\n",
       "      <td>000774_001097_model.c3d</td>\n",
       "      <td>...</td>\n",
       "      <td>1094.7686</td>\n",
       "      <td>1283.0751</td>\n",
       "      <td>58.3164</td>\n",
       "      <td>957.3923</td>\n",
       "      <td>245.4411</td>\n",
       "      <td>1767.4604</td>\n",
       "      <td>2010.5341</td>\n",
       "      <td>61.5594</td>\n",
       "      <td>4.4432</td>\n",
       "      <td>52.9333</td>\n",
       "    </tr>\n",
       "    <tr>\n",
       "      <th>3</th>\n",
       "      <td>774</td>\n",
       "      <td>1097</td>\n",
       "      <td>1097_2</td>\n",
       "      <td>101.1528</td>\n",
       "      <td>1.9304</td>\n",
       "      <td>19.41</td>\n",
       "      <td>college</td>\n",
       "      <td>77.0</td>\n",
       "      <td>000774_001097_76_223_005_FF_770.c3d</td>\n",
       "      <td>000774_001097_model.c3d</td>\n",
       "      <td>...</td>\n",
       "      <td>1187.5810</td>\n",
       "      <td>1354.7150</td>\n",
       "      <td>58.7397</td>\n",
       "      <td>860.3796</td>\n",
       "      <td>280.5177</td>\n",
       "      <td>1715.1864</td>\n",
       "      <td>1864.0488</td>\n",
       "      <td>66.6789</td>\n",
       "      <td>6.4897</td>\n",
       "      <td>54.3727</td>\n",
       "    </tr>\n",
       "    <tr>\n",
       "      <th>4</th>\n",
       "      <td>774</td>\n",
       "      <td>1097</td>\n",
       "      <td>1097_3</td>\n",
       "      <td>101.1528</td>\n",
       "      <td>1.9304</td>\n",
       "      <td>19.41</td>\n",
       "      <td>college</td>\n",
       "      <td>76.1</td>\n",
       "      <td>000774_001097_76_223_006_FF_761.c3d</td>\n",
       "      <td>000774_001097_model.c3d</td>\n",
       "      <td>...</td>\n",
       "      <td>1214.0065</td>\n",
       "      <td>1425.2124</td>\n",
       "      <td>58.0297</td>\n",
       "      <td>1066.6047</td>\n",
       "      <td>337.4227</td>\n",
       "      <td>2120.4510</td>\n",
       "      <td>2283.1749</td>\n",
       "      <td>65.9014</td>\n",
       "      <td>7.2019</td>\n",
       "      <td>106.2719</td>\n",
       "    </tr>\n",
       "  </tbody>\n",
       "</table>\n",
       "<p>5 rows × 89 columns</p>\n",
       "</div>"
      ],
      "text/plain": [
       "   user  session session_pitch  session_mass_kg  session_height_m  age_yrs  \\\n",
       "0   750     1031        1031_2         110.6784            1.9304    21.40   \n",
       "1   750     1031        1031_3         110.6784            1.9304    21.40   \n",
       "2   774     1097        1097_1         101.1528            1.9304    19.41   \n",
       "3   774     1097        1097_2         101.1528            1.9304    19.41   \n",
       "4   774     1097        1097_3         101.1528            1.9304    19.41   \n",
       "\n",
       "  playing_level  pitch_speed_mph_x                         filename_new  \\\n",
       "0       college               90.4  000750_001031_76_244_013_FF_904.c3d   \n",
       "1       college               90.4  000750_001031_76_244_014_FF_904.c3d   \n",
       "2       college               77.6  000774_001097_76_223_001_FF_776.c3d   \n",
       "3       college               77.0  000774_001097_76_223_005_FF_770.c3d   \n",
       "4       college               76.1  000774_001097_76_223_006_FF_761.c3d   \n",
       "\n",
       "             modelname_new  ... rear_grf_z_max rear_grf_mag_max  \\\n",
       "0  000750_001031_model.c3d  ...      1497.9859        1736.0368   \n",
       "1  000750_001031_model.c3d  ...      1502.8258        1728.0176   \n",
       "2  000774_001097_model.c3d  ...      1094.7686        1283.0751   \n",
       "3  000774_001097_model.c3d  ...      1187.5810        1354.7150   \n",
       "4  000774_001097_model.c3d  ...      1214.0065        1425.2124   \n",
       "\n",
       "   rear_grf_angle_at_max  lead_grf_x_max  lead_grf_y_max  lead_grf_z_max  \\\n",
       "0                55.7071       1278.4966        270.7849       2484.8747   \n",
       "1                60.2863       1436.1255        252.1999       2690.7521   \n",
       "2                58.3164        957.3923        245.4411       1767.4604   \n",
       "3                58.7397        860.3796        280.5177       1715.1864   \n",
       "4                58.0297       1066.6047        337.4227       2120.4510   \n",
       "\n",
       "   lead_grf_mag_max  lead_grf_angle_at_max  peak_rfd_rear  peak_rfd_lead  \n",
       "0         2782.9580                63.3501        11.6564       170.4620  \n",
       "1         3038.8913                62.3087         9.5715       183.6636  \n",
       "2         2010.5341                61.5594         4.4432        52.9333  \n",
       "3         1864.0488                66.6789         6.4897        54.3727  \n",
       "4         2283.1749                65.9014         7.2019       106.2719  \n",
       "\n",
       "[5 rows x 89 columns]"
      ]
     },
     "execution_count": 50,
     "metadata": {},
     "output_type": "execute_result"
    }
   ],
   "source": [
    "merged_data.head()"
   ]
  },
  {
   "cell_type": "code",
   "execution_count": 51,
   "metadata": {},
   "outputs": [
    {
     "data": {
      "text/plain": [
       "['user',\n",
       " 'session',\n",
       " 'session_pitch',\n",
       " 'session_mass_kg',\n",
       " 'session_height_m',\n",
       " 'age_yrs',\n",
       " 'playing_level',\n",
       " 'pitch_speed_mph_x',\n",
       " 'filename_new',\n",
       " 'modelname_new',\n",
       " 'p_throws',\n",
       " 'pitch_type',\n",
       " 'pitch_speed_mph_y',\n",
       " 'max_shoulder_internal_rotational_velo',\n",
       " 'max_elbow_extension_velo',\n",
       " 'max_torso_rotational_velo',\n",
       " 'max_rotation_hip_shoulder_separation',\n",
       " 'max_elbow_flexion',\n",
       " 'max_shoulder_external_rotation',\n",
       " 'elbow_flexion_fp',\n",
       " 'elbow_pronation_fp',\n",
       " 'rotation_hip_shoulder_separation_fp',\n",
       " 'shoulder_horizontal_abduction_fp',\n",
       " 'shoulder_abduction_fp',\n",
       " 'shoulder_external_rotation_fp',\n",
       " 'lead_knee_extension_angular_velo_fp',\n",
       " 'lead_knee_extension_angular_velo_br',\n",
       " 'lead_knee_extension_angular_velo_max',\n",
       " 'torso_anterior_tilt_fp',\n",
       " 'torso_lateral_tilt_fp',\n",
       " 'torso_rotation_fp',\n",
       " 'pelvis_anterior_tilt_fp',\n",
       " 'pelvis_lateral_tilt_fp',\n",
       " 'pelvis_rotation_fp',\n",
       " 'max_cog_velo_x',\n",
       " 'torso_rotation_min',\n",
       " 'max_pelvis_rotational_velo',\n",
       " 'glove_shoulder_horizontal_abduction_fp',\n",
       " 'glove_shoulder_abduction_fp',\n",
       " 'glove_shoulder_external_rotation_fp',\n",
       " 'glove_shoulder_abduction_mer',\n",
       " 'elbow_flexion_mer',\n",
       " 'torso_anterior_tilt_mer',\n",
       " 'torso_lateral_tilt_mer',\n",
       " 'torso_rotation_mer',\n",
       " 'elbow_varus_moment',\n",
       " 'shoulder_internal_rotation_moment',\n",
       " 'torso_anterior_tilt_br',\n",
       " 'torso_lateral_tilt_br',\n",
       " 'torso_rotation_br',\n",
       " 'lead_knee_extension_from_fp_to_br',\n",
       " 'cog_velo_pkh',\n",
       " 'stride_length',\n",
       " 'stride_angle',\n",
       " 'arm_slot',\n",
       " 'timing_peak_torso_to_peak_pelvis_rot_velo',\n",
       " 'max_shoulder_horizontal_abduction',\n",
       " 'shoulder_transfer_fp_br',\n",
       " 'shoulder_generation_fp_br',\n",
       " 'shoulder_absorption_fp_br',\n",
       " 'elbow_transfer_fp_br',\n",
       " 'elbow_generation_fp_br',\n",
       " 'elbow_absorption_fp_br',\n",
       " 'lead_hip_transfer_fp_br',\n",
       " 'lead_hip_generation_fp_br',\n",
       " 'lead_hip_absorption_fp_br',\n",
       " 'lead_knee_transfer_fp_br',\n",
       " 'lead_knee_generation_fp_br',\n",
       " 'lead_knee_absorption_fp_br',\n",
       " 'rear_hip_transfer_pkh_fp',\n",
       " 'rear_hip_generation_pkh_fp',\n",
       " 'rear_hip_absorption_pkh_fp',\n",
       " 'rear_knee_transfer_pkh_fp',\n",
       " 'rear_knee_generation_pkh_fp',\n",
       " 'rear_knee_absorption_pkh_fp',\n",
       " 'pelvis_lumbar_transfer_fp_br',\n",
       " 'thorax_distal_transfer_fp_br',\n",
       " 'rear_grf_x_max',\n",
       " 'rear_grf_y_max',\n",
       " 'rear_grf_z_max',\n",
       " 'rear_grf_mag_max',\n",
       " 'rear_grf_angle_at_max',\n",
       " 'lead_grf_x_max',\n",
       " 'lead_grf_y_max',\n",
       " 'lead_grf_z_max',\n",
       " 'lead_grf_mag_max',\n",
       " 'lead_grf_angle_at_max',\n",
       " 'peak_rfd_rear',\n",
       " 'peak_rfd_lead']"
      ]
     },
     "execution_count": 51,
     "metadata": {},
     "output_type": "execute_result"
    }
   ],
   "source": [
    "list(merged_data.columns)"
   ]
  },
  {
   "cell_type": "code",
   "execution_count": 52,
   "metadata": {},
   "outputs": [
    {
     "data": {
      "text/plain": [
       "8"
      ]
     },
     "execution_count": 52,
     "metadata": {},
     "output_type": "execute_result"
    }
   ],
   "source": [
    "merged_data.isnull().sum().max()"
   ]
  },
  {
   "cell_type": "code",
   "execution_count": 53,
   "metadata": {},
   "outputs": [],
   "source": [
    "merged_data = merged_data.dropna()"
   ]
  },
  {
   "cell_type": "code",
   "execution_count": 54,
   "metadata": {},
   "outputs": [
    {
     "data": {
      "text/plain": [
       "user                     0\n",
       "session                  0\n",
       "session_pitch            0\n",
       "session_mass_kg          0\n",
       "session_height_m         0\n",
       "                        ..\n",
       "lead_grf_z_max           0\n",
       "lead_grf_mag_max         0\n",
       "lead_grf_angle_at_max    0\n",
       "peak_rfd_rear            0\n",
       "peak_rfd_lead            0\n",
       "Length: 89, dtype: int64"
      ]
     },
     "execution_count": 54,
     "metadata": {},
     "output_type": "execute_result"
    }
   ],
   "source": [
    "merged_data.isna().sum()"
   ]
  },
  {
   "cell_type": "code",
   "execution_count": 55,
   "metadata": {},
   "outputs": [
    {
     "name": "stdout",
     "output_type": "stream",
     "text": [
      "<class 'pandas.core.frame.DataFrame'>\n",
      "Int64Index: 403 entries, 0 to 410\n",
      "Data columns (total 89 columns):\n",
      " #   Column                                     Non-Null Count  Dtype  \n",
      "---  ------                                     --------------  -----  \n",
      " 0   user                                       403 non-null    int64  \n",
      " 1   session                                    403 non-null    int64  \n",
      " 2   session_pitch                              403 non-null    object \n",
      " 3   session_mass_kg                            403 non-null    float64\n",
      " 4   session_height_m                           403 non-null    float64\n",
      " 5   age_yrs                                    403 non-null    float64\n",
      " 6   playing_level                              403 non-null    object \n",
      " 7   pitch_speed_mph_x                          403 non-null    float64\n",
      " 8   filename_new                               403 non-null    object \n",
      " 9   modelname_new                              403 non-null    object \n",
      " 10  p_throws                                   403 non-null    object \n",
      " 11  pitch_type                                 403 non-null    object \n",
      " 12  pitch_speed_mph_y                          403 non-null    float64\n",
      " 13  max_shoulder_internal_rotational_velo      403 non-null    float64\n",
      " 14  max_elbow_extension_velo                   403 non-null    float64\n",
      " 15  max_torso_rotational_velo                  403 non-null    float64\n",
      " 16  max_rotation_hip_shoulder_separation       403 non-null    float64\n",
      " 17  max_elbow_flexion                          403 non-null    float64\n",
      " 18  max_shoulder_external_rotation             403 non-null    float64\n",
      " 19  elbow_flexion_fp                           403 non-null    float64\n",
      " 20  elbow_pronation_fp                         403 non-null    float64\n",
      " 21  rotation_hip_shoulder_separation_fp        403 non-null    float64\n",
      " 22  shoulder_horizontal_abduction_fp           403 non-null    float64\n",
      " 23  shoulder_abduction_fp                      403 non-null    float64\n",
      " 24  shoulder_external_rotation_fp              403 non-null    float64\n",
      " 25  lead_knee_extension_angular_velo_fp        403 non-null    float64\n",
      " 26  lead_knee_extension_angular_velo_br        403 non-null    float64\n",
      " 27  lead_knee_extension_angular_velo_max       403 non-null    float64\n",
      " 28  torso_anterior_tilt_fp                     403 non-null    float64\n",
      " 29  torso_lateral_tilt_fp                      403 non-null    float64\n",
      " 30  torso_rotation_fp                          403 non-null    float64\n",
      " 31  pelvis_anterior_tilt_fp                    403 non-null    float64\n",
      " 32  pelvis_lateral_tilt_fp                     403 non-null    float64\n",
      " 33  pelvis_rotation_fp                         403 non-null    float64\n",
      " 34  max_cog_velo_x                             403 non-null    float64\n",
      " 35  torso_rotation_min                         403 non-null    float64\n",
      " 36  max_pelvis_rotational_velo                 403 non-null    float64\n",
      " 37  glove_shoulder_horizontal_abduction_fp     403 non-null    float64\n",
      " 38  glove_shoulder_abduction_fp                403 non-null    float64\n",
      " 39  glove_shoulder_external_rotation_fp        403 non-null    float64\n",
      " 40  glove_shoulder_abduction_mer               403 non-null    float64\n",
      " 41  elbow_flexion_mer                          403 non-null    float64\n",
      " 42  torso_anterior_tilt_mer                    403 non-null    float64\n",
      " 43  torso_lateral_tilt_mer                     403 non-null    float64\n",
      " 44  torso_rotation_mer                         403 non-null    float64\n",
      " 45  elbow_varus_moment                         403 non-null    float64\n",
      " 46  shoulder_internal_rotation_moment          403 non-null    float64\n",
      " 47  torso_anterior_tilt_br                     403 non-null    float64\n",
      " 48  torso_lateral_tilt_br                      403 non-null    float64\n",
      " 49  torso_rotation_br                          403 non-null    float64\n",
      " 50  lead_knee_extension_from_fp_to_br          403 non-null    float64\n",
      " 51  cog_velo_pkh                               403 non-null    float64\n",
      " 52  stride_length                              403 non-null    float64\n",
      " 53  stride_angle                               403 non-null    float64\n",
      " 54  arm_slot                                   403 non-null    float64\n",
      " 55  timing_peak_torso_to_peak_pelvis_rot_velo  403 non-null    float64\n",
      " 56  max_shoulder_horizontal_abduction          403 non-null    float64\n",
      " 57  shoulder_transfer_fp_br                    403 non-null    float64\n",
      " 58  shoulder_generation_fp_br                  403 non-null    float64\n",
      " 59  shoulder_absorption_fp_br                  403 non-null    float64\n",
      " 60  elbow_transfer_fp_br                       403 non-null    float64\n",
      " 61  elbow_generation_fp_br                     403 non-null    float64\n",
      " 62  elbow_absorption_fp_br                     403 non-null    float64\n",
      " 63  lead_hip_transfer_fp_br                    403 non-null    float64\n",
      " 64  lead_hip_generation_fp_br                  403 non-null    float64\n",
      " 65  lead_hip_absorption_fp_br                  403 non-null    float64\n",
      " 66  lead_knee_transfer_fp_br                   403 non-null    float64\n",
      " 67  lead_knee_generation_fp_br                 403 non-null    float64\n",
      " 68  lead_knee_absorption_fp_br                 403 non-null    float64\n",
      " 69  rear_hip_transfer_pkh_fp                   403 non-null    float64\n",
      " 70  rear_hip_generation_pkh_fp                 403 non-null    float64\n",
      " 71  rear_hip_absorption_pkh_fp                 403 non-null    float64\n",
      " 72  rear_knee_transfer_pkh_fp                  403 non-null    float64\n",
      " 73  rear_knee_generation_pkh_fp                403 non-null    float64\n",
      " 74  rear_knee_absorption_pkh_fp                403 non-null    float64\n",
      " 75  pelvis_lumbar_transfer_fp_br               403 non-null    float64\n",
      " 76  thorax_distal_transfer_fp_br               403 non-null    float64\n",
      " 77  rear_grf_x_max                             403 non-null    float64\n",
      " 78  rear_grf_y_max                             403 non-null    float64\n",
      " 79  rear_grf_z_max                             403 non-null    float64\n",
      " 80  rear_grf_mag_max                           403 non-null    float64\n",
      " 81  rear_grf_angle_at_max                      403 non-null    float64\n",
      " 82  lead_grf_x_max                             403 non-null    float64\n",
      " 83  lead_grf_y_max                             403 non-null    float64\n",
      " 84  lead_grf_z_max                             403 non-null    float64\n",
      " 85  lead_grf_mag_max                           403 non-null    float64\n",
      " 86  lead_grf_angle_at_max                      403 non-null    float64\n",
      " 87  peak_rfd_rear                              403 non-null    float64\n",
      " 88  peak_rfd_lead                              403 non-null    float64\n",
      "dtypes: float64(81), int64(2), object(6)\n",
      "memory usage: 283.4+ KB\n"
     ]
    }
   ],
   "source": [
    "merged_data.info()"
   ]
  },
  {
   "cell_type": "code",
   "execution_count": 56,
   "metadata": {},
   "outputs": [
    {
     "name": "stdout",
     "output_type": "stream",
     "text": [
      "count    403.000000\n",
      "mean      84.777667\n",
      "std        4.694036\n",
      "min       69.500000\n",
      "25%       81.450000\n",
      "50%       85.400000\n",
      "75%       87.900000\n",
      "max       94.400000\n",
      "Name: pitch_speed_mph_x, dtype: float64\n"
     ]
    },
    {
     "name": "stderr",
     "output_type": "stream",
     "text": [
      "/Users/jisoluawe/opt/anaconda3/lib/python3.8/site-packages/seaborn/distributions.py:2551: FutureWarning: `distplot` is a deprecated function and will be removed in a future version. Please adapt your code to use either `displot` (a figure-level function with similar flexibility) or `histplot` (an axes-level function for histograms).\n",
      "  warnings.warn(msg, FutureWarning)\n"
     ]
    },
    {
     "data": {
      "text/plain": [
       "<AxesSubplot:xlabel='pitch_speed_mph_x', ylabel='Density'>"
      ]
     },
     "execution_count": 56,
     "metadata": {},
     "output_type": "execute_result"
    },
    {
     "data": {
      "image/png": "[encoded data removed]",
      "text/plain": [
       "<Figure size 648x576 with 1 Axes>"
      ]
     },
     "metadata": {
      "needs_background": "light"
     },
     "output_type": "display_data"
    }
   ],
   "source": [
    "print(merged_data['pitch_speed_mph_x'].describe())\n",
    "plt.figure(figsize=(9, 8))\n",
    "sns.distplot(merged_data['pitch_speed_mph_x'], color = 'b', bins = 100, hist_kws = {'alpha': 0.5})"
   ]
  },
  {
   "cell_type": "markdown",
   "metadata": {},
   "source": [
    "# One Hot Encoding"
   ]
  },
  {
   "cell_type": "code",
   "execution_count": 57,
   "metadata": {
    "scrolled": true
   },
   "outputs": [
    {
     "name": "stdout",
     "output_type": "stream",
     "text": [
      "    session_pitch playing_level                         filename_new  \\\n",
      "0          1031_2       college  000750_001031_76_244_013_FF_904.c3d   \n",
      "1          1031_3       college  000750_001031_76_244_014_FF_904.c3d   \n",
      "2          1097_1       college  000774_001097_76_223_001_FF_776.c3d   \n",
      "3          1097_2       college  000774_001097_76_223_005_FF_770.c3d   \n",
      "4          1097_3       college  000774_001097_76_223_006_FF_761.c3d   \n",
      "..            ...           ...                                  ...   \n",
      "406        3252_1       college  000870_003252_74_195_002_FF_808.c3d   \n",
      "407        3252_2       college  000870_003252_74_195_003_FF_808.c3d   \n",
      "408        3252_3       college  000870_003252_74_195_005_FF_808.c3d   \n",
      "409        3252_4       college  000870_003252_74_195_012_FF_833.c3d   \n",
      "410        3252_5       college  000870_003252_74_195_014_FF_812.c3d   \n",
      "\n",
      "               modelname_new p_throws pitch_type  \n",
      "0    000750_001031_model.c3d        R         FF  \n",
      "1    000750_001031_model.c3d        R         FF  \n",
      "2    000774_001097_model.c3d        R         FF  \n",
      "3    000774_001097_model.c3d        R         FF  \n",
      "4    000774_001097_model.c3d        R         FF  \n",
      "..                       ...      ...        ...  \n",
      "406  000870_003252_model.c3d        R         FF  \n",
      "407  000870_003252_model.c3d        R         FF  \n",
      "408  000870_003252_model.c3d        R         FF  \n",
      "409  000870_003252_model.c3d        R         FF  \n",
      "410  000870_003252_model.c3d        R         FF  \n",
      "\n",
      "[403 rows x 6 columns]\n"
     ]
    }
   ],
   "source": [
    "cat = merged_data.select_dtypes(include = ['object', 'category'])\n",
    "print(cat)"
   ]
  },
  {
   "cell_type": "code",
   "execution_count": 58,
   "metadata": {},
   "outputs": [],
   "source": [
    "merged_data = merged_data.drop(columns = ['user', 'session','session_pitch','filename_new', 'modelname_new'])"
   ]
  },
  {
   "cell_type": "code",
   "execution_count": 59,
   "metadata": {},
   "outputs": [],
   "source": [
    "encoded_data = pd.get_dummies(merged_data)"
   ]
  },
  {
   "cell_type": "code",
   "execution_count": 60,
   "metadata": {
    "scrolled": true
   },
   "outputs": [
    {
     "data": {
      "text/html": [
       "<div>\n",
       "<style scoped>\n",
       "    .dataframe tbody tr th:only-of-type {\n",
       "        vertical-align: middle;\n",
       "    }\n",
       "\n",
       "    .dataframe tbody tr th {\n",
       "        vertical-align: top;\n",
       "    }\n",
       "\n",
       "    .dataframe thead th {\n",
       "        text-align: right;\n",
       "    }\n",
       "</style>\n",
       "<table border=\"1\" class=\"dataframe\">\n",
       "  <thead>\n",
       "    <tr style=\"text-align: right;\">\n",
       "      <th></th>\n",
       "      <th>session_mass_kg</th>\n",
       "      <th>session_height_m</th>\n",
       "      <th>age_yrs</th>\n",
       "      <th>pitch_speed_mph_x</th>\n",
       "      <th>pitch_speed_mph_y</th>\n",
       "      <th>max_shoulder_internal_rotational_velo</th>\n",
       "      <th>max_elbow_extension_velo</th>\n",
       "      <th>max_torso_rotational_velo</th>\n",
       "      <th>max_rotation_hip_shoulder_separation</th>\n",
       "      <th>max_elbow_flexion</th>\n",
       "      <th>...</th>\n",
       "      <th>lead_grf_angle_at_max</th>\n",
       "      <th>peak_rfd_rear</th>\n",
       "      <th>peak_rfd_lead</th>\n",
       "      <th>playing_level_college</th>\n",
       "      <th>playing_level_high_school</th>\n",
       "      <th>playing_level_independent</th>\n",
       "      <th>playing_level_milb</th>\n",
       "      <th>p_throws_L</th>\n",
       "      <th>p_throws_R</th>\n",
       "      <th>pitch_type_FF</th>\n",
       "    </tr>\n",
       "  </thead>\n",
       "  <tbody>\n",
       "    <tr>\n",
       "      <th>0</th>\n",
       "      <td>110.6784</td>\n",
       "      <td>1.9304</td>\n",
       "      <td>21.40</td>\n",
       "      <td>90.4</td>\n",
       "      <td>90.4</td>\n",
       "      <td>4533.2480</td>\n",
       "      <td>2445.8177</td>\n",
       "      <td>958.0878</td>\n",
       "      <td>32.3152</td>\n",
       "      <td>109.9971</td>\n",
       "      <td>...</td>\n",
       "      <td>63.3501</td>\n",
       "      <td>11.6564</td>\n",
       "      <td>170.4620</td>\n",
       "      <td>1</td>\n",
       "      <td>0</td>\n",
       "      <td>0</td>\n",
       "      <td>0</td>\n",
       "      <td>0</td>\n",
       "      <td>1</td>\n",
       "      <td>1</td>\n",
       "    </tr>\n",
       "    <tr>\n",
       "      <th>1</th>\n",
       "      <td>110.6784</td>\n",
       "      <td>1.9304</td>\n",
       "      <td>21.40</td>\n",
       "      <td>90.4</td>\n",
       "      <td>90.4</td>\n",
       "      <td>4571.1735</td>\n",
       "      <td>2389.5438</td>\n",
       "      <td>969.5766</td>\n",
       "      <td>32.5547</td>\n",
       "      <td>109.1065</td>\n",
       "      <td>...</td>\n",
       "      <td>62.3087</td>\n",
       "      <td>9.5715</td>\n",
       "      <td>183.6636</td>\n",
       "      <td>1</td>\n",
       "      <td>0</td>\n",
       "      <td>0</td>\n",
       "      <td>0</td>\n",
       "      <td>0</td>\n",
       "      <td>1</td>\n",
       "      <td>1</td>\n",
       "    </tr>\n",
       "    <tr>\n",
       "      <th>2</th>\n",
       "      <td>101.1528</td>\n",
       "      <td>1.9304</td>\n",
       "      <td>19.41</td>\n",
       "      <td>77.6</td>\n",
       "      <td>77.6</td>\n",
       "      <td>4165.3055</td>\n",
       "      <td>2426.3029</td>\n",
       "      <td>1090.2269</td>\n",
       "      <td>33.1477</td>\n",
       "      <td>123.4752</td>\n",
       "      <td>...</td>\n",
       "      <td>61.5594</td>\n",
       "      <td>4.4432</td>\n",
       "      <td>52.9333</td>\n",
       "      <td>1</td>\n",
       "      <td>0</td>\n",
       "      <td>0</td>\n",
       "      <td>0</td>\n",
       "      <td>0</td>\n",
       "      <td>1</td>\n",
       "      <td>1</td>\n",
       "    </tr>\n",
       "    <tr>\n",
       "      <th>3</th>\n",
       "      <td>101.1528</td>\n",
       "      <td>1.9304</td>\n",
       "      <td>19.41</td>\n",
       "      <td>77.0</td>\n",
       "      <td>77.0</td>\n",
       "      <td>3832.1715</td>\n",
       "      <td>2424.0493</td>\n",
       "      <td>1105.2275</td>\n",
       "      <td>27.9286</td>\n",
       "      <td>124.6578</td>\n",
       "      <td>...</td>\n",
       "      <td>66.6789</td>\n",
       "      <td>6.4897</td>\n",
       "      <td>54.3727</td>\n",
       "      <td>1</td>\n",
       "      <td>0</td>\n",
       "      <td>0</td>\n",
       "      <td>0</td>\n",
       "      <td>0</td>\n",
       "      <td>1</td>\n",
       "      <td>1</td>\n",
       "    </tr>\n",
       "    <tr>\n",
       "      <th>4</th>\n",
       "      <td>101.1528</td>\n",
       "      <td>1.9304</td>\n",
       "      <td>19.41</td>\n",
       "      <td>76.1</td>\n",
       "      <td>76.1</td>\n",
       "      <td>3970.7971</td>\n",
       "      <td>2497.6253</td>\n",
       "      <td>1110.4850</td>\n",
       "      <td>28.9909</td>\n",
       "      <td>124.8308</td>\n",
       "      <td>...</td>\n",
       "      <td>65.9014</td>\n",
       "      <td>7.2019</td>\n",
       "      <td>106.2719</td>\n",
       "      <td>1</td>\n",
       "      <td>0</td>\n",
       "      <td>0</td>\n",
       "      <td>0</td>\n",
       "      <td>0</td>\n",
       "      <td>1</td>\n",
       "      <td>1</td>\n",
       "    </tr>\n",
       "  </tbody>\n",
       "</table>\n",
       "<p>5 rows × 88 columns</p>\n",
       "</div>"
      ],
      "text/plain": [
       "   session_mass_kg  session_height_m  age_yrs  pitch_speed_mph_x  \\\n",
       "0         110.6784            1.9304    21.40               90.4   \n",
       "1         110.6784            1.9304    21.40               90.4   \n",
       "2         101.1528            1.9304    19.41               77.6   \n",
       "3         101.1528            1.9304    19.41               77.0   \n",
       "4         101.1528            1.9304    19.41               76.1   \n",
       "\n",
       "   pitch_speed_mph_y  max_shoulder_internal_rotational_velo  \\\n",
       "0               90.4                              4533.2480   \n",
       "1               90.4                              4571.1735   \n",
       "2               77.6                              4165.3055   \n",
       "3               77.0                              3832.1715   \n",
       "4               76.1                              3970.7971   \n",
       "\n",
       "   max_elbow_extension_velo  max_torso_rotational_velo  \\\n",
       "0                 2445.8177                   958.0878   \n",
       "1                 2389.5438                   969.5766   \n",
       "2                 2426.3029                  1090.2269   \n",
       "3                 2424.0493                  1105.2275   \n",
       "4                 2497.6253                  1110.4850   \n",
       "\n",
       "   max_rotation_hip_shoulder_separation  max_elbow_flexion  ...  \\\n",
       "0                               32.3152           109.9971  ...   \n",
       "1                               32.5547           109.1065  ...   \n",
       "2                               33.1477           123.4752  ...   \n",
       "3                               27.9286           124.6578  ...   \n",
       "4                               28.9909           124.8308  ...   \n",
       "\n",
       "   lead_grf_angle_at_max  peak_rfd_rear  peak_rfd_lead  playing_level_college  \\\n",
       "0                63.3501        11.6564       170.4620                      1   \n",
       "1                62.3087         9.5715       183.6636                      1   \n",
       "2                61.5594         4.4432        52.9333                      1   \n",
       "3                66.6789         6.4897        54.3727                      1   \n",
       "4                65.9014         7.2019       106.2719                      1   \n",
       "\n",
       "   playing_level_high_school  playing_level_independent  playing_level_milb  \\\n",
       "0                          0                          0                   0   \n",
       "1                          0                          0                   0   \n",
       "2                          0                          0                   0   \n",
       "3                          0                          0                   0   \n",
       "4                          0                          0                   0   \n",
       "\n",
       "   p_throws_L  p_throws_R  pitch_type_FF  \n",
       "0           0           1              1  \n",
       "1           0           1              1  \n",
       "2           0           1              1  \n",
       "3           0           1              1  \n",
       "4           0           1              1  \n",
       "\n",
       "[5 rows x 88 columns]"
      ]
     },
     "execution_count": 60,
     "metadata": {},
     "output_type": "execute_result"
    }
   ],
   "source": [
    "encoded_data.head() # = encoded_data.drop(columns = ['playing_level', 'p_throws', 'pitch_type'])"
   ]
  },
  {
   "cell_type": "code",
   "execution_count": 70,
   "metadata": {},
   "outputs": [],
   "source": [
    "y = encoded_data['pitch_speed_mph_x']\n",
    "X = encoded_data.drop(['pitch_speed_mph_x', 'pitch_speed_mph_y'], axis = 1)"
   ]
  },
  {
   "cell_type": "markdown",
   "metadata": {},
   "source": [
    "# Model Comparisions"
   ]
  },
  {
   "cell_type": "code",
   "execution_count": 71,
   "metadata": {},
   "outputs": [],
   "source": [
    "X_train, X_test, y_train, y_test = train_test_split(X, y, test_size = 0.33, random_state = 22)"
   ]
  },
  {
   "cell_type": "markdown",
   "metadata": {},
   "source": [
    "## Random Forest"
   ]
  },
  {
   "cell_type": "code",
   "execution_count": 63,
   "metadata": {
    "scrolled": true
   },
   "outputs": [
    {
     "name": "stdout",
     "output_type": "stream",
     "text": [
      "R-Squared Score: 0.8345773763481177\n",
      "MAE Score: 1.3520526315789434\n"
     ]
    }
   ],
   "source": [
    "model_RF = RandomForestRegressor()\n",
    "model_RF.fit(X_train, y_train)\n",
    "y_pred_RF = model_RF.predict(X_test)\n",
    "\n",
    "scores = cross_val_score(model_RF, X_test, y_test, cv = 5)\n",
    "#print(scores)\n",
    "print(\"R-Squared Score:\", r2_score(y_test, y_pred_RF))\n",
    "print(\"MAE Score:\", mean_absolute_error(y_test, y_pred_RF))"
   ]
  },
  {
   "cell_type": "markdown",
   "metadata": {},
   "source": [
    "## Gradient Boosting Regressor"
   ]
  },
  {
   "cell_type": "code",
   "execution_count": 64,
   "metadata": {},
   "outputs": [
    {
     "name": "stdout",
     "output_type": "stream",
     "text": [
      "R-Squared Score: 0.8552100804059374\n",
      "MAE Score: 1.2746129243389634\n"
     ]
    }
   ],
   "source": [
    "model_GBR = GradientBoostingRegressor()\n",
    "model_GBR.fit(X_train, y_train)\n",
    "y_pred_gbr = model_GBR.predict(X_test)\n",
    "\n",
    "scores = cross_val_score(model_GBR, X_test, y_test, cv = 5)\n",
    "\n",
    "print(\"R-Squared Score:\", r2_score(y_test, y_pred_gbr))\n",
    "print(\"MAE Score:\", mean_absolute_error(y_test, y_pred_gbr))"
   ]
  },
  {
   "cell_type": "markdown",
   "metadata": {},
   "source": [
    "## SGD Regressor"
   ]
  },
  {
   "cell_type": "code",
   "execution_count": 65,
   "metadata": {},
   "outputs": [
    {
     "name": "stdout",
     "output_type": "stream",
     "text": [
      "R-Squared Score: -1.1001393950195313e+35\n",
      "MAE Score: 3.7173480465698234e+17\n"
     ]
    }
   ],
   "source": [
    "model_SGD = SGDRegressor()\n",
    "model_SGD.fit(X_train, y_train)\n",
    "y_pred_sgd = model_SGD.predict(X_test)\n",
    "\n",
    "scores = cross_val_score(model_SGD, X_test, y_test, cv = 5)\n",
    "\n",
    "print(\"R-Squared Score:\", r2_score(y_test, y_pred_sgd))\n",
    "print(\"MAE Score:\", mean_absolute_error(y_test, y_pred_sgd))"
   ]
  },
  {
   "cell_type": "markdown",
   "metadata": {},
   "source": [
    "## XGBoost"
   ]
  },
  {
   "cell_type": "code",
   "execution_count": 66,
   "metadata": {},
   "outputs": [
    {
     "name": "stdout",
     "output_type": "stream",
     "text": [
      "R-Squared Score: 0.8710624309918977\n",
      "MAE Score: 1.186248767824102\n"
     ]
    }
   ],
   "source": [
    "model_XGBR = XGBRegressor(n_estimators = 200, objective = 'reg:squarederror')\n",
    "model_XGBR.fit(X_train, y_train)\n",
    "y_pred_XGB = model_XGBR.predict(X_test)\n",
    "\n",
    "scores = cross_val_score(model_XGBR, X_test, y_test, cv = 10)\n",
    "\n",
    "print(\"R-Squared Score:\", r2_score(y_test, y_pred_XGB))\n",
    "print(\"MAE Score:\", mean_absolute_error(y_test, y_pred_XGB))"
   ]
  },
  {
   "cell_type": "code",
   "execution_count": 67,
   "metadata": {
    "scrolled": true
   },
   "outputs": [
    {
     "data": {
      "text/plain": [
       "<matplotlib.legend.Legend at 0x7f815fe0b310>"
      ]
     },
     "execution_count": 67,
     "metadata": {},
     "output_type": "execute_result"
    },
    {
     "data": {
      "image/png": "[encoded data removed]",
      "text/plain": [
       "<Figure size 432x288 with 1 Axes>"
      ]
     },
     "metadata": {
      "needs_background": "light"
     },
     "output_type": "display_data"
    }
   ],
   "source": [
    "# Plotting comaparison of predicted velo vs actual\n",
    "plt.figure()\n",
    "plt.title('Comparison of Predicted vs Actual Velocities')\n",
    "plt.scatter(y_train, model_GBR.predict(X_train), label = \"Gradient Boosting Regressor\")\n",
    "plt.scatter(y_train, model_XGBR.predict(X_train), label = \"XGBoost\")\n",
    "plt.legend()"
   ]
  },
  {
   "cell_type": "markdown",
   "metadata": {},
   "source": [
    "# Feature Selection"
   ]
  },
  {
   "cell_type": "code",
   "execution_count": 68,
   "metadata": {},
   "outputs": [
    {
     "data": {
      "image/png": "[encoded data removed]",
      "text/plain": [
       "<Figure size 1080x720 with 1 Axes>"
      ]
     },
     "metadata": {
      "needs_background": "light"
     },
     "output_type": "display_data"
    }
   ],
   "source": [
    "fig, ax = plt.subplots(ncols = 1, figsize = (15,10))\n",
    "\n",
    "plot_importance(model_XGBR, height = 3, ax = ax, title = 'Feature Importance of XGBoost Model')\n",
    "plt.show()"
   ]
  },
  {
   "cell_type": "markdown",
   "metadata": {},
   "source": [
    "From plotting the feature importance of the XGBoost model, I found the model places a lot of importance on the pitchers mass (kg), maximum shoulder internal rotational velocity, and maximum torso rotational velocity. Here I will present some reasons why I believe the model placed high importance on these specific factors.\n",
    "\n",
    "### Mass (kg)\n",
    "When determining the ideal range for the ground reaction force (GRF), the pitcher should be generating the standard is 1.5x - 2x the pitchers body mass. GRF are an indictator of how well the pitcher is able to transfer the energy that is generated through their lower body. Generally higher GRF are correlated with higher pitching velocities. I believe that the reason the model is placing such a high level of importance on pitcher mass is because greater mass should produce higher GRF, which is correlated with velocity.\n",
    "\n",
    "### Maximum Shoulder Internal Rotational Velocity\n",
    "Internal shoulder rotation is the last movement the pitching sequence before ball release. It makes sense that the model would place high importance on this metric because the higher the velocity that internal shoulder rotation reaches the more energy is able to be released from the pitchers arm onto the ball as it is leaving their hand.\n",
    "\n",
    "### Maximum Torso Rotational Velocity\n",
    "Torso rotation is a movement that is fundamental to efficient energy transfer in pitching. When pitching the energy the generated from the lower body (GRF), are passed through the core and into the arm for the pitch. For this energy transfer to efficiently occur from lower body to core to upper body, the pitcher should have a swift torso rotation (core movement), so that the energy doesn't \"leak out\" during the pitching sequence. Additionally, higher torso rotational velocities are correlated with higher pitch velocities."
   ]
  },
  {
   "cell_type": "code",
   "execution_count": 72,
   "metadata": {},
   "outputs": [],
   "source": [
    "drop_cols = ['lead_knee_generation_fp_br', 'thorax_distal_transfer_fp_br', 'rear_hip_generation_pkh_fp',\n",
    "             'lead_grf_mag_max', 'torso_lateral_tilt_br', 'torso_anterior_tilt_br',\n",
    "             'torso_anterior_tilt_mer', 'elbow_transfer_fp_br']\n",
    "\n",
    "X_train = X_train.drop(drop_cols, axis = 1)\n",
    "\n",
    "X_test = X_test.drop(drop_cols, axis = 1)\n",
    "\n",
    "'''dtrain = xgb.DMatrix(X_train, y_train)\n",
    "dtest = xgb.DMatrix(X_test, y_test)\n",
    "\n",
    "watchlist = [(dtrain, 'train'), (dtest, 'test')]'''"
   ]
  },
  {
   "cell_type": "markdown",
   "metadata": {},
   "source": [
    "# Hyperparameter Tuning"
   ]
  },
  {
   "cell_type": "code",
   "execution_count": 100,
   "metadata": {},
   "outputs": [
    {
     "data": {
      "text/html": [
       "<style>#sk-container-id-6 {color: black;}#sk-container-id-6 pre{padding: 0;}#sk-container-id-6 div.sk-toggleable {background-color: white;}#sk-container-id-6 label.sk-toggleable__label {cursor: pointer;display: block;width: 100%;margin-bottom: 0;padding: 0.3em;box-sizing: border-box;text-align: center;}#sk-container-id-6 label.sk-toggleable__label-arrow:before {content: \"▸\";float: left;margin-right: 0.25em;color: #696969;}#sk-container-id-6 label.sk-toggleable__label-arrow:hover:before {color: black;}#sk-container-id-6 div.sk-estimator:hover label.sk-toggleable__label-arrow:before {color: black;}#sk-container-id-6 div.sk-toggleable__content {max-height: 0;max-width: 0;overflow: hidden;text-align: left;background-color: #f0f8ff;}#sk-container-id-6 div.sk-toggleable__content pre {margin: 0.2em;color: black;border-radius: 0.25em;background-color: #f0f8ff;}#sk-container-id-6 input.sk-toggleable__control:checked~div.sk-toggleable__content {max-height: 200px;max-width: 100%;overflow: auto;}#sk-container-id-6 input.sk-toggleable__control:checked~label.sk-toggleable__label-arrow:before {content: \"▾\";}#sk-container-id-6 div.sk-estimator input.sk-toggleable__control:checked~label.sk-toggleable__label {background-color: #d4ebff;}#sk-container-id-6 div.sk-label input.sk-toggleable__control:checked~label.sk-toggleable__label {background-color: #d4ebff;}#sk-container-id-6 input.sk-hidden--visually {border: 0;clip: rect(1px 1px 1px 1px);clip: rect(1px, 1px, 1px, 1px);height: 1px;margin: -1px;overflow: hidden;padding: 0;position: absolute;width: 1px;}#sk-container-id-6 div.sk-estimator {font-family: monospace;background-color: #f0f8ff;border: 1px dotted black;border-radius: 0.25em;box-sizing: border-box;margin-bottom: 0.5em;}#sk-container-id-6 div.sk-estimator:hover {background-color: #d4ebff;}#sk-container-id-6 div.sk-parallel-item::after {content: \"\";width: 100%;border-bottom: 1px solid gray;flex-grow: 1;}#sk-container-id-6 div.sk-label:hover label.sk-toggleable__label {background-color: #d4ebff;}#sk-container-id-6 div.sk-serial::before {content: \"\";position: absolute;border-left: 1px solid gray;box-sizing: border-box;top: 0;bottom: 0;left: 50%;z-index: 0;}#sk-container-id-6 div.sk-serial {display: flex;flex-direction: column;align-items: center;background-color: white;padding-right: 0.2em;padding-left: 0.2em;position: relative;}#sk-container-id-6 div.sk-item {position: relative;z-index: 1;}#sk-container-id-6 div.sk-parallel {display: flex;align-items: stretch;justify-content: center;background-color: white;position: relative;}#sk-container-id-6 div.sk-item::before, #sk-container-id-6 div.sk-parallel-item::before {content: \"\";position: absolute;border-left: 1px solid gray;box-sizing: border-box;top: 0;bottom: 0;left: 50%;z-index: -1;}#sk-container-id-6 div.sk-parallel-item {display: flex;flex-direction: column;z-index: 1;position: relative;background-color: white;}#sk-container-id-6 div.sk-parallel-item:first-child::after {align-self: flex-end;width: 50%;}#sk-container-id-6 div.sk-parallel-item:last-child::after {align-self: flex-start;width: 50%;}#sk-container-id-6 div.sk-parallel-item:only-child::after {width: 0;}#sk-container-id-6 div.sk-dashed-wrapped {border: 1px dashed gray;margin: 0 0.4em 0.5em 0.4em;box-sizing: border-box;padding-bottom: 0.4em;background-color: white;}#sk-container-id-6 div.sk-label label {font-family: monospace;font-weight: bold;display: inline-block;line-height: 1.2em;}#sk-container-id-6 div.sk-label-container {text-align: center;}#sk-container-id-6 div.sk-container {/* jupyter's `normalize.less` sets `[hidden] { display: none; }` but bootstrap.min.css set `[hidden] { display: none !important; }` so we also need the `!important` here to be able to override the default hidden behavior on the sphinx rendered scikit-learn.org. See: https://github.com/scikit-learn/scikit-learn/issues/21755 */display: inline-block !important;position: relative;}#sk-container-id-6 div.sk-text-repr-fallback {display: none;}</style><div id=\"sk-container-id-6\" class=\"sk-top-container\"><div class=\"sk-text-repr-fallback\"><pre>GridSearchCV(cv=5,\n",
       "             estimator=XGBRegressor(base_score=None, booster=None,\n",
       "                                    callbacks=None, colsample_bylevel=None,\n",
       "                                    colsample_bynode=None,\n",
       "                                    colsample_bytree=None,\n",
       "                                    early_stopping_rounds=None,\n",
       "                                    enable_categorical=False, eval_metric=None,\n",
       "                                    feature_types=None, gamma=None, gpu_id=None,\n",
       "                                    grow_policy=None, importance_type=None,\n",
       "                                    interaction_constraints=None,\n",
       "                                    learning_rate=None, m...\n",
       "                                    min_child_weight=None, missing=nan,\n",
       "                                    monotone_constraints=None, n_estimators=100,\n",
       "                                    n_jobs=None, num_parallel_tree=None,\n",
       "                                    predictor=None, random_state=None, ...),\n",
       "             n_jobs=-1,\n",
       "             param_grid={&#x27;learning_rate&#x27;: [0.05, 0.1], &#x27;max_depth&#x27;: [2],\n",
       "                         &#x27;n_estimators&#x27;: range(485, 500),\n",
       "                         &#x27;objective&#x27;: [&#x27;reg:squarederror&#x27;], &#x27;reg_alpha&#x27;: [0, 5],\n",
       "                         &#x27;reg_lambda&#x27;: [0, 5]},\n",
       "             scoring=&#x27;neg_mean_absolute_error&#x27;)</pre><b>In a Jupyter environment, please rerun this cell to show the HTML representation or trust the notebook. <br />On GitHub, the HTML representation is unable to render, please try loading this page with nbviewer.org.</b></div><div class=\"sk-container\" hidden><div class=\"sk-item sk-dashed-wrapped\"><div class=\"sk-label-container\"><div class=\"sk-label sk-toggleable\"><input class=\"sk-toggleable__control sk-hidden--visually\" id=\"sk-estimator-id-16\" type=\"checkbox\" ><label for=\"sk-estimator-id-16\" class=\"sk-toggleable__label sk-toggleable__label-arrow\">GridSearchCV</label><div class=\"sk-toggleable__content\"><pre>GridSearchCV(cv=5,\n",
       "             estimator=XGBRegressor(base_score=None, booster=None,\n",
       "                                    callbacks=None, colsample_bylevel=None,\n",
       "                                    colsample_bynode=None,\n",
       "                                    colsample_bytree=None,\n",
       "                                    early_stopping_rounds=None,\n",
       "                                    enable_categorical=False, eval_metric=None,\n",
       "                                    feature_types=None, gamma=None, gpu_id=None,\n",
       "                                    grow_policy=None, importance_type=None,\n",
       "                                    interaction_constraints=None,\n",
       "                                    learning_rate=None, m...\n",
       "                                    min_child_weight=None, missing=nan,\n",
       "                                    monotone_constraints=None, n_estimators=100,\n",
       "                                    n_jobs=None, num_parallel_tree=None,\n",
       "                                    predictor=None, random_state=None, ...),\n",
       "             n_jobs=-1,\n",
       "             param_grid={&#x27;learning_rate&#x27;: [0.05, 0.1], &#x27;max_depth&#x27;: [2],\n",
       "                         &#x27;n_estimators&#x27;: range(485, 500),\n",
       "                         &#x27;objective&#x27;: [&#x27;reg:squarederror&#x27;], &#x27;reg_alpha&#x27;: [0, 5],\n",
       "                         &#x27;reg_lambda&#x27;: [0, 5]},\n",
       "             scoring=&#x27;neg_mean_absolute_error&#x27;)</pre></div></div></div><div class=\"sk-parallel\"><div class=\"sk-parallel-item\"><div class=\"sk-item\"><div class=\"sk-label-container\"><div class=\"sk-label sk-toggleable\"><input class=\"sk-toggleable__control sk-hidden--visually\" id=\"sk-estimator-id-17\" type=\"checkbox\" ><label for=\"sk-estimator-id-17\" class=\"sk-toggleable__label sk-toggleable__label-arrow\">estimator: XGBRegressor</label><div class=\"sk-toggleable__content\"><pre>XGBRegressor(base_score=None, booster=None, callbacks=None,\n",
       "             colsample_bylevel=None, colsample_bynode=None,\n",
       "             colsample_bytree=None, early_stopping_rounds=None,\n",
       "             enable_categorical=False, eval_metric=None, feature_types=None,\n",
       "             gamma=None, gpu_id=None, grow_policy=None, importance_type=None,\n",
       "             interaction_constraints=None, learning_rate=None, max_bin=None,\n",
       "             max_cat_threshold=None, max_cat_to_onehot=None,\n",
       "             max_delta_step=None, max_depth=None, max_leaves=None,\n",
       "             min_child_weight=None, missing=nan, monotone_constraints=None,\n",
       "             n_estimators=100, n_jobs=None, num_parallel_tree=None,\n",
       "             predictor=None, random_state=None, ...)</pre></div></div></div><div class=\"sk-serial\"><div class=\"sk-item\"><div class=\"sk-estimator sk-toggleable\"><input class=\"sk-toggleable__control sk-hidden--visually\" id=\"sk-estimator-id-18\" type=\"checkbox\" ><label for=\"sk-estimator-id-18\" class=\"sk-toggleable__label sk-toggleable__label-arrow\">XGBRegressor</label><div class=\"sk-toggleable__content\"><pre>XGBRegressor(base_score=None, booster=None, callbacks=None,\n",
       "             colsample_bylevel=None, colsample_bynode=None,\n",
       "             colsample_bytree=None, early_stopping_rounds=None,\n",
       "             enable_categorical=False, eval_metric=None, feature_types=None,\n",
       "             gamma=None, gpu_id=None, grow_policy=None, importance_type=None,\n",
       "             interaction_constraints=None, learning_rate=None, max_bin=None,\n",
       "             max_cat_threshold=None, max_cat_to_onehot=None,\n",
       "             max_delta_step=None, max_depth=None, max_leaves=None,\n",
       "             min_child_weight=None, missing=nan, monotone_constraints=None,\n",
       "             n_estimators=100, n_jobs=None, num_parallel_tree=None,\n",
       "             predictor=None, random_state=None, ...)</pre></div></div></div></div></div></div></div></div></div></div>"
      ],
      "text/plain": [
       "GridSearchCV(cv=5,\n",
       "             estimator=XGBRegressor(base_score=None, booster=None,\n",
       "                                    callbacks=None, colsample_bylevel=None,\n",
       "                                    colsample_bynode=None,\n",
       "                                    colsample_bytree=None,\n",
       "                                    early_stopping_rounds=None,\n",
       "                                    enable_categorical=False, eval_metric=None,\n",
       "                                    feature_types=None, gamma=None, gpu_id=None,\n",
       "                                    grow_policy=None, importance_type=None,\n",
       "                                    interaction_constraints=None,\n",
       "                                    learning_rate=None, m...\n",
       "                                    min_child_weight=None, missing=nan,\n",
       "                                    monotone_constraints=None, n_estimators=100,\n",
       "                                    n_jobs=None, num_parallel_tree=None,\n",
       "                                    predictor=None, random_state=None, ...),\n",
       "             n_jobs=-1,\n",
       "             param_grid={'learning_rate': [0.05, 0.1], 'max_depth': [2],\n",
       "                         'n_estimators': range(485, 500),\n",
       "                         'objective': ['reg:squarederror'], 'reg_alpha': [0, 5],\n",
       "                         'reg_lambda': [0, 5]},\n",
       "             scoring='neg_mean_absolute_error')"
      ]
     },
     "execution_count": 100,
     "metadata": {},
     "output_type": "execute_result"
    }
   ],
   "source": [
    "## hyperparameter tuning\n",
    "model = XGBRegressor()\n",
    "\n",
    "params = {\"n_estimators\": range(485,500, 1), #between 400-500, {450, 475, 480, 495, 493}\n",
    "          \"learning_rate\" : [0.05, 0.1, 0.5], # 0.1\n",
    "          \"max_depth\" : [2, 4, 8, 16], #max_depth consistently 2\n",
    "          \"reg_alpha\" : [0, 5], # consistently 0\n",
    "          \"reg_lambda\": [0, 5], # consistently 0\n",
    "          \"objective\": [\"reg:squarederror\"]}\n",
    "\n",
    "cv_xgb = GridSearchCV(estimator = model, param_grid = params,\n",
    "                      scoring = 'neg_mean_absolute_error', cv= 5, n_jobs = -1)\n",
    "\n",
    "cv_xgb.fit(X_train, y_train)\n"
   ]
  },
  {
   "cell_type": "code",
   "execution_count": 101,
   "metadata": {},
   "outputs": [
    {
     "data": {
      "text/plain": [
       "({'learning_rate': 0.1,\n",
       "  'max_depth': 2,\n",
       "  'n_estimators': 493,\n",
       "  'objective': 'reg:squarederror',\n",
       "  'reg_alpha': 0,\n",
       "  'reg_lambda': 0},\n",
       " -1.2595065307617193)"
      ]
     },
     "execution_count": 101,
     "metadata": {},
     "output_type": "execute_result"
    }
   ],
   "source": [
    "cv_xgb.best_params_, cv_xgb.best_score_"
   ]
  },
  {
   "cell_type": "code",
   "execution_count": 102,
   "metadata": {},
   "outputs": [
    {
     "name": "stdout",
     "output_type": "stream",
     "text": [
      "R-Squared Score: 0.8821441925466708\n",
      "MAE Score: 1.1797043076135167\n"
     ]
    }
   ],
   "source": [
    "model1 = XGBRegressor(**cv_xgb.best_params_)\n",
    "model1.fit(X_train, y_train)\n",
    "y_pred_XGB1 = model1.predict(X_test)\n",
    "\n",
    "scores = cross_val_score(model1, X_test, y_test, cv = 10)\n",
    "\n",
    "print(\"R-Squared Score:\", r2_score(y_test, y_pred_XGB1))\n",
    "print(\"MAE Score:\", mean_absolute_error(y_test, y_pred_XGB1))"
   ]
  },
  {
   "cell_type": "code",
   "execution_count": null,
   "metadata": {},
   "outputs": [],
   "source": [
    "'''\n",
    "results = pd.DataFrame(cv_xgb.cv_results_)\n",
    "\n",
    "plt.figure(figsize=(10, 6))\n",
    "\n",
    "# Create a scatter plot for each learning rate\n",
    "for lr in params['learning_rate']:\n",
    "    subset = results[results['param_learning_rate'] == lr]\n",
    "    plt.scatter(subset['param_n_estimators'], -subset['mean_test_score'], label=f'learning_rate={lr}', s=100)\n",
    "\n",
    "plt.xlabel('Number of Estimators')\n",
    "plt.ylabel('Negative Mean Squared Error')\n",
    "plt.title('Grid Search Results')\n",
    "plt.legend(title='Learning Rate')\n",
    "plt.grid(True)\n",
    "plt.show()'''"
   ]
  }
 ],
 "metadata": {
  "kernelspec": {
   "display_name": "Python 3",
   "language": "python",
   "name": "python3"
  },
  "language_info": {
   "codemirror_mode": {
    "name": "ipython",
    "version": 3
   },
   "file_extension": ".py",
   "mimetype": "text/x-python",
   "name": "python",
   "nbconvert_exporter": "python",
   "pygments_lexer": "ipython3",
   "version": "3.8.5"
  }
 },
 "nbformat": 4,
 "nbformat_minor": 4
}
