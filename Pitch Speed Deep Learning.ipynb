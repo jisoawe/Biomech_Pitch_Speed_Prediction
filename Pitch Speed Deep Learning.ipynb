{
 "cells": [
  {
   "cell_type": "markdown",
   "id": "64b97e33-a4e4-438b-ba37-3fdee2eae81c",
   "metadata": {},
   "source": [
    "# TensorFlow Biomech Pitch Speed Prediction\n",
    "### Mojisoluwa (Jiso) Awe\n",
    "\n",
    "In this notebook I will be implementing TensorFlow to try and predict pitch velocity based on kinematic movements."
   ]
  },
  {
   "cell_type": "code",
   "execution_count": 2,
   "id": "df75dcd9-b218-487b-875d-f7ff2e980be2",
   "metadata": {},
   "outputs": [
    {
     "name": "stderr",
     "output_type": "stream",
     "text": [
      "2024-10-20 17:52:37.734956: I tensorflow/core/platform/cpu_feature_guard.cc:210] This TensorFlow binary is optimized to use available CPU instructions in performance-critical operations.\n",
      "To enable the following instructions: AVX2 FMA, in other operations, rebuild TensorFlow with the appropriate compiler flags.\n"
     ]
    }
   ],
   "source": [
    "import numpy as np\n",
    "import pandas as pd\n",
    "import seaborn as sns\n",
    "import matplotlib.pyplot as plt\n",
    "import tensorflow as tf\n",
    "from tensorflow import keras\n",
    "from tensorflow.keras import layers\n",
    "from tensorflow.keras.callbacks import EarlyStopping, ReduceLROnPlateau\n",
    "from tensorflow.keras.optimizers import Adam\n",
    "from sklearn.model_selection import train_test_split\n",
    "from sklearn.metrics import mean_absolute_error, mean_squared_error, explained_variance_score"
   ]
  },
  {
   "cell_type": "code",
   "execution_count": 3,
   "id": "c0cc4e58-ee9f-48f0-81dc-83d89f0155f3",
   "metadata": {},
   "outputs": [],
   "source": [
    "biomech = pd.read_csv('pitching_poi_metrics.csv')\n",
    "metadata = pd.read_csv('pitching_metadata.csv')\n",
    "data = pd.merge(biomech, metadata)"
   ]
  },
  {
   "cell_type": "code",
   "execution_count": 4,
   "id": "197f08df-fa31-4fbc-8e61-29ac126aac42",
   "metadata": {},
   "outputs": [
    {
     "data": {
      "text/html": [
       "<div>\n",
       "<style scoped>\n",
       "    .dataframe tbody tr th:only-of-type {\n",
       "        vertical-align: middle;\n",
       "    }\n",
       "\n",
       "    .dataframe tbody tr th {\n",
       "        vertical-align: top;\n",
       "    }\n",
       "\n",
       "    .dataframe thead th {\n",
       "        text-align: right;\n",
       "    }\n",
       "</style>\n",
       "<table border=\"1\" class=\"dataframe\">\n",
       "  <thead>\n",
       "    <tr style=\"text-align: right;\">\n",
       "      <th></th>\n",
       "      <th>count</th>\n",
       "      <th>mean</th>\n",
       "      <th>std</th>\n",
       "      <th>min</th>\n",
       "      <th>25%</th>\n",
       "      <th>50%</th>\n",
       "      <th>75%</th>\n",
       "      <th>max</th>\n",
       "    </tr>\n",
       "  </thead>\n",
       "  <tbody>\n",
       "    <tr>\n",
       "      <th>session</th>\n",
       "      <td>411.0</td>\n",
       "      <td>2601.425791</td>\n",
       "      <td>621.963916</td>\n",
       "      <td>1031.0000</td>\n",
       "      <td>1830.00000</td>\n",
       "      <td>2861.0000</td>\n",
       "      <td>2999.00000</td>\n",
       "      <td>3252.0000</td>\n",
       "    </tr>\n",
       "    <tr>\n",
       "      <th>pitch_speed_mph</th>\n",
       "      <td>411.0</td>\n",
       "      <td>84.703650</td>\n",
       "      <td>4.717685</td>\n",
       "      <td>69.5000</td>\n",
       "      <td>81.40000</td>\n",
       "      <td>85.3000</td>\n",
       "      <td>87.90000</td>\n",
       "      <td>94.4000</td>\n",
       "    </tr>\n",
       "    <tr>\n",
       "      <th>max_shoulder_internal_rotational_velo</th>\n",
       "      <td>411.0</td>\n",
       "      <td>4531.491520</td>\n",
       "      <td>316.168115</td>\n",
       "      <td>2717.6363</td>\n",
       "      <td>4325.99210</td>\n",
       "      <td>4533.2480</td>\n",
       "      <td>4746.19065</td>\n",
       "      <td>5412.5614</td>\n",
       "    </tr>\n",
       "    <tr>\n",
       "      <th>max_elbow_extension_velo</th>\n",
       "      <td>411.0</td>\n",
       "      <td>2464.545988</td>\n",
       "      <td>239.251235</td>\n",
       "      <td>1771.5880</td>\n",
       "      <td>2307.80385</td>\n",
       "      <td>2445.8177</td>\n",
       "      <td>2610.56920</td>\n",
       "      <td>3100.2661</td>\n",
       "    </tr>\n",
       "    <tr>\n",
       "      <th>max_torso_rotational_velo</th>\n",
       "      <td>411.0</td>\n",
       "      <td>1054.802963</td>\n",
       "      <td>88.359211</td>\n",
       "      <td>848.3836</td>\n",
       "      <td>997.25935</td>\n",
       "      <td>1049.6915</td>\n",
       "      <td>1110.14260</td>\n",
       "      <td>1383.2367</td>\n",
       "    </tr>\n",
       "    <tr>\n",
       "      <th>...</th>\n",
       "      <td>...</td>\n",
       "      <td>...</td>\n",
       "      <td>...</td>\n",
       "      <td>...</td>\n",
       "      <td>...</td>\n",
       "      <td>...</td>\n",
       "      <td>...</td>\n",
       "      <td>...</td>\n",
       "    </tr>\n",
       "    <tr>\n",
       "      <th>peak_rfd_lead</th>\n",
       "      <td>403.0</td>\n",
       "      <td>6742.597778</td>\n",
       "      <td>24859.420751</td>\n",
       "      <td>14.3196</td>\n",
       "      <td>51.91420</td>\n",
       "      <td>73.9312</td>\n",
       "      <td>116.00690</td>\n",
       "      <td>144366.6836</td>\n",
       "    </tr>\n",
       "    <tr>\n",
       "      <th>user</th>\n",
       "      <td>411.0</td>\n",
       "      <td>1219.394161</td>\n",
       "      <td>472.942641</td>\n",
       "      <td>2.0000</td>\n",
       "      <td>890.00000</td>\n",
       "      <td>1540.0000</td>\n",
       "      <td>1620.00000</td>\n",
       "      <td>1756.0000</td>\n",
       "    </tr>\n",
       "    <tr>\n",
       "      <th>session_mass_kg</th>\n",
       "      <td>411.0</td>\n",
       "      <td>90.289577</td>\n",
       "      <td>9.904289</td>\n",
       "      <td>69.4008</td>\n",
       "      <td>83.46240</td>\n",
       "      <td>88.9056</td>\n",
       "      <td>96.16320</td>\n",
       "      <td>118.3896</td>\n",
       "    </tr>\n",
       "    <tr>\n",
       "      <th>session_height_m</th>\n",
       "      <td>411.0</td>\n",
       "      <td>1.851419</td>\n",
       "      <td>0.069528</td>\n",
       "      <td>1.6764</td>\n",
       "      <td>1.80340</td>\n",
       "      <td>1.8542</td>\n",
       "      <td>1.90500</td>\n",
       "      <td>2.0320</td>\n",
       "    </tr>\n",
       "    <tr>\n",
       "      <th>age_yrs</th>\n",
       "      <td>411.0</td>\n",
       "      <td>21.291071</td>\n",
       "      <td>2.254456</td>\n",
       "      <td>17.6800</td>\n",
       "      <td>19.61000</td>\n",
       "      <td>20.6800</td>\n",
       "      <td>22.75500</td>\n",
       "      <td>27.5900</td>\n",
       "    </tr>\n",
       "  </tbody>\n",
       "</table>\n",
       "<p>82 rows × 8 columns</p>\n",
       "</div>"
      ],
      "text/plain": [
       "                                       count         mean           std  \\\n",
       "session                                411.0  2601.425791    621.963916   \n",
       "pitch_speed_mph                        411.0    84.703650      4.717685   \n",
       "max_shoulder_internal_rotational_velo  411.0  4531.491520    316.168115   \n",
       "max_elbow_extension_velo               411.0  2464.545988    239.251235   \n",
       "max_torso_rotational_velo              411.0  1054.802963     88.359211   \n",
       "...                                      ...          ...           ...   \n",
       "peak_rfd_lead                          403.0  6742.597778  24859.420751   \n",
       "user                                   411.0  1219.394161    472.942641   \n",
       "session_mass_kg                        411.0    90.289577      9.904289   \n",
       "session_height_m                       411.0     1.851419      0.069528   \n",
       "age_yrs                                411.0    21.291071      2.254456   \n",
       "\n",
       "                                             min         25%        50%  \\\n",
       "session                                1031.0000  1830.00000  2861.0000   \n",
       "pitch_speed_mph                          69.5000    81.40000    85.3000   \n",
       "max_shoulder_internal_rotational_velo  2717.6363  4325.99210  4533.2480   \n",
       "max_elbow_extension_velo               1771.5880  2307.80385  2445.8177   \n",
       "max_torso_rotational_velo               848.3836   997.25935  1049.6915   \n",
       "...                                          ...         ...        ...   \n",
       "peak_rfd_lead                            14.3196    51.91420    73.9312   \n",
       "user                                      2.0000   890.00000  1540.0000   \n",
       "session_mass_kg                          69.4008    83.46240    88.9056   \n",
       "session_height_m                          1.6764     1.80340     1.8542   \n",
       "age_yrs                                  17.6800    19.61000    20.6800   \n",
       "\n",
       "                                              75%          max  \n",
       "session                                2999.00000    3252.0000  \n",
       "pitch_speed_mph                          87.90000      94.4000  \n",
       "max_shoulder_internal_rotational_velo  4746.19065    5412.5614  \n",
       "max_elbow_extension_velo               2610.56920    3100.2661  \n",
       "max_torso_rotational_velo              1110.14260    1383.2367  \n",
       "...                                           ...          ...  \n",
       "peak_rfd_lead                           116.00690  144366.6836  \n",
       "user                                   1620.00000    1756.0000  \n",
       "session_mass_kg                          96.16320     118.3896  \n",
       "session_height_m                          1.90500       2.0320  \n",
       "age_yrs                                  22.75500      27.5900  \n",
       "\n",
       "[82 rows x 8 columns]"
      ]
     },
     "execution_count": 4,
     "metadata": {},
     "output_type": "execute_result"
    }
   ],
   "source": [
    "data.describe().transpose()"
   ]
  },
  {
   "cell_type": "code",
   "execution_count": 5,
   "id": "26c11d6f-3601-4d86-82bd-cff9b40cbce7",
   "metadata": {},
   "outputs": [
    {
     "data": {
      "text/plain": [
       "8"
      ]
     },
     "execution_count": 5,
     "metadata": {},
     "output_type": "execute_result"
    }
   ],
   "source": [
    "data.isnull().sum().max()"
   ]
  },
  {
   "cell_type": "code",
   "execution_count": 6,
   "id": "ffd52a4d-9e0c-4d19-82e2-26f54b585f76",
   "metadata": {},
   "outputs": [],
   "source": [
    "data = data.dropna()"
   ]
  },
  {
   "cell_type": "code",
   "execution_count": 7,
   "id": "cb363d4b-a01d-42d9-bae8-5312c4add65a",
   "metadata": {},
   "outputs": [
    {
     "data": {
      "text/plain": [
       "['session_pitch',\n",
       " 'p_throws',\n",
       " 'pitch_type',\n",
       " 'playing_level',\n",
       " 'filename_new',\n",
       " 'modelname_new']"
      ]
     },
     "execution_count": 7,
     "metadata": {},
     "output_type": "execute_result"
    }
   ],
   "source": [
    "cat = data.select_dtypes(include = ['object', 'category'])\n",
    "list(cat.columns)"
   ]
  },
  {
   "cell_type": "code",
   "execution_count": 8,
   "id": "20e5bc54-66d7-4c8b-a1b7-f22232833ce8",
   "metadata": {},
   "outputs": [],
   "source": [
    "merged_data = data.drop(columns = ['session_pitch','filename_new', 'modelname_new', 'pitch_type'])\n",
    "data = pd.get_dummies(merged_data)"
   ]
  },
  {
   "cell_type": "code",
   "execution_count": 9,
   "id": "f1c9c296-6add-4709-8b7e-bd3101586086",
   "metadata": {},
   "outputs": [
    {
     "data": {
      "text/plain": [
       "playing_level_high_school           -0.329637\n",
       "arm_slot                            -0.307393\n",
       "p_throws_L                          -0.231591\n",
       "torso_lateral_tilt_br               -0.213563\n",
       "stride_angle                        -0.197838\n",
       "                                       ...   \n",
       "shoulder_internal_rotation_moment    0.516925\n",
       "thorax_distal_transfer_fp_br         0.636098\n",
       "shoulder_transfer_fp_br              0.642701\n",
       "elbow_transfer_fp_br                 0.682210\n",
       "pitch_speed_mph                      1.000000\n",
       "Name: pitch_speed_mph, Length: 88, dtype: float64"
      ]
     },
     "execution_count": 9,
     "metadata": {},
     "output_type": "execute_result"
    }
   ],
   "source": [
    "data.corr()['pitch_speed_mph'].sort_values()"
   ]
  },
  {
   "cell_type": "code",
   "execution_count": 10,
   "id": "d4f627cf-febd-4460-a888-72229296c69a",
   "metadata": {},
   "outputs": [],
   "source": [
    "y = data['pitch_speed_mph']\n",
    "X = data.drop(columns = ['pitch_speed_mph'])"
   ]
  },
  {
   "cell_type": "code",
   "execution_count": 11,
   "id": "a5d2ec25-28d9-486b-b9b1-fcabc46009cd",
   "metadata": {},
   "outputs": [],
   "source": [
    "X_train, X_test, y_train, y_test = train_test_split(X, y, test_size = 0.33, random_state = 234)"
   ]
  },
  {
   "cell_type": "code",
   "execution_count": 12,
   "id": "67b332ce-185b-4281-82d5-e142311e866f",
   "metadata": {},
   "outputs": [
    {
     "data": {
      "text/plain": [
       "(270, 87)"
      ]
     },
     "execution_count": 12,
     "metadata": {},
     "output_type": "execute_result"
    }
   ],
   "source": [
    "X_train.shape"
   ]
  },
  {
   "cell_type": "code",
   "execution_count": 13,
   "id": "43374eea-cd3f-4620-9a03-1c9dce33def4",
   "metadata": {},
   "outputs": [],
   "source": [
    "#building tensorflow model\n",
    "model = keras.Sequential([\n",
    "    layers.InputLayer(shape = (X_train.shape[1],)),\n",
    "    layers.Dense(87, activation = 'relu'),\n",
    "    layers.Dense(45, activation = 'relu'),\n",
    "    layers.Dense(32, activation = 'relu'),\n",
    "    layers.Dense(1)\n",
    "])\n",
    "\n",
    "model.compile(optimizer = 'adam', loss = 'mean_squared_error', metrics = ['mean_absolute_error'])"
   ]
  },
  {
   "cell_type": "code",
   "execution_count": 14,
   "id": "24f52a69-fb74-4cb3-9425-33be53d12c9c",
   "metadata": {},
   "outputs": [
    {
     "name": "stdout",
     "output_type": "stream",
     "text": [
      "Epoch 1/100\n",
      "\u001b[1m9/9\u001b[0m \u001b[32m━━━━━━━━━━━━━━━━━━━━\u001b[0m\u001b[37m\u001b[0m \u001b[1m3s\u001b[0m 65ms/step - loss: 1457238.3750 - mean_absolute_error: 454.4163 - val_loss: 226746.7188 - val_mean_absolute_error: 190.7962\n",
      "Epoch 2/100\n",
      "\u001b[1m9/9\u001b[0m \u001b[32m━━━━━━━━━━━━━━━━━━━━\u001b[0m\u001b[37m\u001b[0m \u001b[1m0s\u001b[0m 11ms/step - loss: 123445.8828 - mean_absolute_error: 127.9427 - val_loss: 67476.9609 - val_mean_absolute_error: 127.4469\n",
      "Epoch 3/100\n",
      "\u001b[1m9/9\u001b[0m \u001b[32m━━━━━━━━━━━━━━━━━━━━\u001b[0m\u001b[37m\u001b[0m \u001b[1m0s\u001b[0m 15ms/step - loss: 44072.9609 - mean_absolute_error: 99.5107 - val_loss: 69532.9922 - val_mean_absolute_error: 107.0831\n",
      "Epoch 4/100\n",
      "\u001b[1m9/9\u001b[0m \u001b[32m━━━━━━━━━━━━━━━━━━━━\u001b[0m\u001b[37m\u001b[0m \u001b[1m0s\u001b[0m 18ms/step - loss: 63905.4336 - mean_absolute_error: 101.8652 - val_loss: 12392.0342 - val_mean_absolute_error: 43.5135\n",
      "Epoch 5/100\n",
      "\u001b[1m9/9\u001b[0m \u001b[32m━━━━━━━━━━━━━━━━━━━━\u001b[0m\u001b[37m\u001b[0m \u001b[1m0s\u001b[0m 11ms/step - loss: 8236.0537 - mean_absolute_error: 38.0559 - val_loss: 12104.4287 - val_mean_absolute_error: 42.6395\n",
      "Epoch 6/100\n",
      "\u001b[1m9/9\u001b[0m \u001b[32m━━━━━━━━━━━━━━━━━━━━\u001b[0m\u001b[37m\u001b[0m \u001b[1m0s\u001b[0m 10ms/step - loss: 3212.2910 - mean_absolute_error: 26.6771 - val_loss: 4348.3975 - val_mean_absolute_error: 28.4101\n",
      "Epoch 7/100\n",
      "\u001b[1m9/9\u001b[0m \u001b[32m━━━━━━━━━━━━━━━━━━━━\u001b[0m\u001b[37m\u001b[0m \u001b[1m0s\u001b[0m 9ms/step - loss: 4057.1216 - mean_absolute_error: 26.3771 - val_loss: 3644.5098 - val_mean_absolute_error: 26.0129\n",
      "Epoch 8/100\n",
      "\u001b[1m9/9\u001b[0m \u001b[32m━━━━━━━━━━━━━━━━━━━━\u001b[0m\u001b[37m\u001b[0m \u001b[1m0s\u001b[0m 16ms/step - loss: 3677.7354 - mean_absolute_error: 26.6725 - val_loss: 1621.9370 - val_mean_absolute_error: 20.3009\n",
      "Epoch 9/100\n",
      "\u001b[1m9/9\u001b[0m \u001b[32m━━━━━━━━━━━━━━━━━━━━\u001b[0m\u001b[37m\u001b[0m \u001b[1m0s\u001b[0m 10ms/step - loss: 1182.6376 - mean_absolute_error: 18.6163 - val_loss: 1419.8223 - val_mean_absolute_error: 19.1499\n",
      "Epoch 10/100\n",
      "\u001b[1m9/9\u001b[0m \u001b[32m━━━━━━━━━━━━━━━━━━━━\u001b[0m\u001b[37m\u001b[0m \u001b[1m0s\u001b[0m 10ms/step - loss: 902.9387 - mean_absolute_error: 16.8081 - val_loss: 588.3782 - val_mean_absolute_error: 14.9860\n",
      "Epoch 11/100\n",
      "\u001b[1m9/9\u001b[0m \u001b[32m━━━━━━━━━━━━━━━━━━━━\u001b[0m\u001b[37m\u001b[0m \u001b[1m0s\u001b[0m 12ms/step - loss: 1204.0865 - mean_absolute_error: 17.3904 - val_loss: 1070.3567 - val_mean_absolute_error: 17.3519\n",
      "Epoch 12/100\n",
      "\u001b[1m9/9\u001b[0m \u001b[32m━━━━━━━━━━━━━━━━━━━━\u001b[0m\u001b[37m\u001b[0m \u001b[1m0s\u001b[0m 11ms/step - loss: 1616.7931 - mean_absolute_error: 17.0608 - val_loss: 1155.1019 - val_mean_absolute_error: 17.1933\n",
      "Epoch 13/100\n",
      "\u001b[1m9/9\u001b[0m \u001b[32m━━━━━━━━━━━━━━━━━━━━\u001b[0m\u001b[37m\u001b[0m \u001b[1m0s\u001b[0m 10ms/step - loss: 819.3851 - mean_absolute_error: 14.5565 - val_loss: 700.6898 - val_mean_absolute_error: 15.1263\n",
      "Epoch 14/100\n",
      "\u001b[1m9/9\u001b[0m \u001b[32m━━━━━━━━━━━━━━━━━━━━\u001b[0m\u001b[37m\u001b[0m \u001b[1m0s\u001b[0m 48ms/step - loss: 834.8798 - mean_absolute_error: 13.3214 - val_loss: 1281.0757 - val_mean_absolute_error: 17.0551\n",
      "Epoch 15/100\n",
      "\u001b[1m9/9\u001b[0m \u001b[32m━━━━━━━━━━━━━━━━━━━━\u001b[0m\u001b[37m\u001b[0m \u001b[1m0s\u001b[0m 13ms/step - loss: 1291.7952 - mean_absolute_error: 16.1004 - val_loss: 1013.7837 - val_mean_absolute_error: 15.8411\n",
      "Epoch 16/100\n",
      "\u001b[1m9/9\u001b[0m \u001b[32m━━━━━━━━━━━━━━━━━━━━\u001b[0m\u001b[37m\u001b[0m \u001b[1m0s\u001b[0m 10ms/step - loss: 788.4575 - mean_absolute_error: 12.5469 - val_loss: 639.2041 - val_mean_absolute_error: 14.0735\n",
      "Epoch 17/100\n",
      "\u001b[1m9/9\u001b[0m \u001b[32m━━━━━━━━━━━━━━━━━━━━\u001b[0m\u001b[37m\u001b[0m \u001b[1m0s\u001b[0m 9ms/step - loss: 902.4384 - mean_absolute_error: 13.3000 - val_loss: 341.8464 - val_mean_absolute_error: 11.9130\n",
      "Epoch 18/100\n",
      "\u001b[1m9/9\u001b[0m \u001b[32m━━━━━━━━━━━━━━━━━━━━\u001b[0m\u001b[37m\u001b[0m \u001b[1m0s\u001b[0m 29ms/step - loss: 800.8709 - mean_absolute_error: 12.2028 - val_loss: 2219.6235 - val_mean_absolute_error: 19.8355\n",
      "Epoch 19/100\n",
      "\u001b[1m9/9\u001b[0m \u001b[32m━━━━━━━━━━━━━━━━━━━━\u001b[0m\u001b[37m\u001b[0m \u001b[1m0s\u001b[0m 31ms/step - loss: 1752.9792 - mean_absolute_error: 16.2549 - val_loss: 357.7314 - val_mean_absolute_error: 11.8083\n",
      "Epoch 20/100\n",
      "\u001b[1m9/9\u001b[0m \u001b[32m━━━━━━━━━━━━━━━━━━━━\u001b[0m\u001b[37m\u001b[0m \u001b[1m1s\u001b[0m 31ms/step - loss: 2207.9790 - mean_absolute_error: 17.7739 - val_loss: 2904.5635 - val_mean_absolute_error: 21.9977\n",
      "Epoch 21/100\n",
      "\u001b[1m9/9\u001b[0m \u001b[32m━━━━━━━━━━━━━━━━━━━━\u001b[0m\u001b[37m\u001b[0m \u001b[1m0s\u001b[0m 32ms/step - loss: 1287.9077 - mean_absolute_error: 16.6248 - val_loss: 301.1717 - val_mean_absolute_error: 11.1640\n",
      "Epoch 22/100\n",
      "\u001b[1m9/9\u001b[0m \u001b[32m━━━━━━━━━━━━━━━━━━━━\u001b[0m\u001b[37m\u001b[0m \u001b[1m1s\u001b[0m 24ms/step - loss: 616.5554 - mean_absolute_error: 12.3240 - val_loss: 425.7162 - val_mean_absolute_error: 12.3725\n",
      "Epoch 23/100\n",
      "\u001b[1m9/9\u001b[0m \u001b[32m━━━━━━━━━━━━━━━━━━━━\u001b[0m\u001b[37m\u001b[0m \u001b[1m0s\u001b[0m 18ms/step - loss: 413.8818 - mean_absolute_error: 11.0526 - val_loss: 273.0337 - val_mean_absolute_error: 10.2947\n",
      "Epoch 24/100\n",
      "\u001b[1m9/9\u001b[0m \u001b[32m━━━━━━━━━━━━━━━━━━━━\u001b[0m\u001b[37m\u001b[0m \u001b[1m0s\u001b[0m 16ms/step - loss: 451.2628 - mean_absolute_error: 10.2064 - val_loss: 274.7165 - val_mean_absolute_error: 10.0601\n",
      "Epoch 25/100\n",
      "\u001b[1m9/9\u001b[0m \u001b[32m━━━━━━━━━━━━━━━━━━━━\u001b[0m\u001b[37m\u001b[0m \u001b[1m0s\u001b[0m 17ms/step - loss: 240.7829 - mean_absolute_error: 8.8393 - val_loss: 257.9870 - val_mean_absolute_error: 10.2206\n",
      "Epoch 26/100\n",
      "\u001b[1m9/9\u001b[0m \u001b[32m━━━━━━━━━━━━━━━━━━━━\u001b[0m\u001b[37m\u001b[0m \u001b[1m0s\u001b[0m 19ms/step - loss: 367.8478 - mean_absolute_error: 9.8351 - val_loss: 564.5451 - val_mean_absolute_error: 12.0308\n",
      "Epoch 27/100\n",
      "\u001b[1m9/9\u001b[0m \u001b[32m━━━━━━━━━━━━━━━━━━━━\u001b[0m\u001b[37m\u001b[0m \u001b[1m0s\u001b[0m 10ms/step - loss: 399.9272 - mean_absolute_error: 10.0217 - val_loss: 232.1023 - val_mean_absolute_error: 9.9949\n",
      "Epoch 28/100\n",
      "\u001b[1m9/9\u001b[0m \u001b[32m━━━━━━━━━━━━━━━━━━━━\u001b[0m\u001b[37m\u001b[0m \u001b[1m0s\u001b[0m 18ms/step - loss: 320.1097 - mean_absolute_error: 9.0611 - val_loss: 205.5271 - val_mean_absolute_error: 9.3002\n",
      "Epoch 29/100\n",
      "\u001b[1m9/9\u001b[0m \u001b[32m━━━━━━━━━━━━━━━━━━━━\u001b[0m\u001b[37m\u001b[0m \u001b[1m1s\u001b[0m 83ms/step - loss: 401.3820 - mean_absolute_error: 9.8161 - val_loss: 429.4767 - val_mean_absolute_error: 11.6338\n",
      "Epoch 30/100\n",
      "\u001b[1m9/9\u001b[0m \u001b[32m━━━━━━━━━━━━━━━━━━━━\u001b[0m\u001b[37m\u001b[0m \u001b[1m0s\u001b[0m 12ms/step - loss: 421.7859 - mean_absolute_error: 9.6470 - val_loss: 187.9290 - val_mean_absolute_error: 9.1927\n",
      "Epoch 31/100\n",
      "\u001b[1m9/9\u001b[0m \u001b[32m━━━━━━━━━━━━━━━━━━━━\u001b[0m\u001b[37m\u001b[0m \u001b[1m0s\u001b[0m 20ms/step - loss: 226.4923 - mean_absolute_error: 8.2337 - val_loss: 871.7500 - val_mean_absolute_error: 13.4281\n",
      "Epoch 32/100\n",
      "\u001b[1m9/9\u001b[0m \u001b[32m━━━━━━━━━━━━━━━━━━━━\u001b[0m\u001b[37m\u001b[0m \u001b[1m1s\u001b[0m 34ms/step - loss: 993.6846 - mean_absolute_error: 12.2019 - val_loss: 188.7741 - val_mean_absolute_error: 8.6651\n",
      "Epoch 33/100\n",
      "\u001b[1m9/9\u001b[0m \u001b[32m━━━━━━━━━━━━━━━━━━━━\u001b[0m\u001b[37m\u001b[0m \u001b[1m0s\u001b[0m 23ms/step - loss: 351.7467 - mean_absolute_error: 9.2501 - val_loss: 173.9787 - val_mean_absolute_error: 8.5611\n",
      "Epoch 34/100\n",
      "\u001b[1m9/9\u001b[0m \u001b[32m━━━━━━━━━━━━━━━━━━━━\u001b[0m\u001b[37m\u001b[0m \u001b[1m0s\u001b[0m 23ms/step - loss: 126.7180 - mean_absolute_error: 6.5309 - val_loss: 175.2483 - val_mean_absolute_error: 9.0337\n",
      "Epoch 35/100\n",
      "\u001b[1m9/9\u001b[0m \u001b[32m━━━━━━━━━━━━━━━━━━━━\u001b[0m\u001b[37m\u001b[0m \u001b[1m0s\u001b[0m 21ms/step - loss: 153.6351 - mean_absolute_error: 6.8801 - val_loss: 165.5405 - val_mean_absolute_error: 8.1003\n",
      "Epoch 36/100\n",
      "\u001b[1m9/9\u001b[0m \u001b[32m━━━━━━━━━━━━━━━━━━━━\u001b[0m\u001b[37m\u001b[0m \u001b[1m0s\u001b[0m 15ms/step - loss: 171.0596 - mean_absolute_error: 7.1014 - val_loss: 213.3993 - val_mean_absolute_error: 8.8759\n",
      "Epoch 37/100\n",
      "\u001b[1m9/9\u001b[0m \u001b[32m━━━━━━━━━━━━━━━━━━━━\u001b[0m\u001b[37m\u001b[0m \u001b[1m0s\u001b[0m 20ms/step - loss: 398.6130 - mean_absolute_error: 9.5933 - val_loss: 285.0593 - val_mean_absolute_error: 9.3404\n",
      "Epoch 38/100\n",
      "\u001b[1m9/9\u001b[0m \u001b[32m━━━━━━━━━━━━━━━━━━━━\u001b[0m\u001b[37m\u001b[0m \u001b[1m0s\u001b[0m 16ms/step - loss: 486.5733 - mean_absolute_error: 9.7553 - val_loss: 295.2373 - val_mean_absolute_error: 9.4092\n",
      "Epoch 39/100\n",
      "\u001b[1m9/9\u001b[0m \u001b[32m━━━━━━━━━━━━━━━━━━━━\u001b[0m\u001b[37m\u001b[0m \u001b[1m0s\u001b[0m 15ms/step - loss: 436.3781 - mean_absolute_error: 9.6293 - val_loss: 1150.4951 - val_mean_absolute_error: 14.0199\n",
      "Epoch 40/100\n",
      "\u001b[1m9/9\u001b[0m \u001b[32m━━━━━━━━━━━━━━━━━━━━\u001b[0m\u001b[37m\u001b[0m \u001b[1m0s\u001b[0m 28ms/step - loss: 1327.5793 - mean_absolute_error: 13.7408 - val_loss: 238.5218 - val_mean_absolute_error: 9.1300\n",
      "Epoch 41/100\n",
      "\u001b[1m9/9\u001b[0m \u001b[32m━━━━━━━━━━━━━━━━━━━━\u001b[0m\u001b[37m\u001b[0m \u001b[1m0s\u001b[0m 11ms/step - loss: 355.5924 - mean_absolute_error: 9.4749 - val_loss: 393.2268 - val_mean_absolute_error: 10.9768\n",
      "Epoch 42/100\n",
      "\u001b[1m9/9\u001b[0m \u001b[32m━━━━━━━━━━━━━━━━━━━━\u001b[0m\u001b[37m\u001b[0m \u001b[1m0s\u001b[0m 16ms/step - loss: 472.5453 - mean_absolute_error: 9.7049 - val_loss: 162.1181 - val_mean_absolute_error: 8.7809\n",
      "Epoch 43/100\n",
      "\u001b[1m9/9\u001b[0m \u001b[32m━━━━━━━━━━━━━━━━━━━━\u001b[0m\u001b[37m\u001b[0m \u001b[1m1s\u001b[0m 61ms/step - loss: 660.9344 - mean_absolute_error: 11.0583 - val_loss: 885.6259 - val_mean_absolute_error: 13.4938\n",
      "Epoch 44/100\n",
      "\u001b[1m9/9\u001b[0m \u001b[32m━━━━━━━━━━━━━━━━━━━━\u001b[0m\u001b[37m\u001b[0m \u001b[1m0s\u001b[0m 25ms/step - loss: 357.9311 - mean_absolute_error: 9.3153 - val_loss: 191.1299 - val_mean_absolute_error: 8.7628\n",
      "Epoch 45/100\n",
      "\u001b[1m9/9\u001b[0m \u001b[32m━━━━━━━━━━━━━━━━━━━━\u001b[0m\u001b[37m\u001b[0m \u001b[1m0s\u001b[0m 12ms/step - loss: 413.4759 - mean_absolute_error: 9.9189 - val_loss: 2535.6970 - val_mean_absolute_error: 18.3584\n",
      "Epoch 46/100\n",
      "\u001b[1m9/9\u001b[0m \u001b[32m━━━━━━━━━━━━━━━━━━━━\u001b[0m\u001b[37m\u001b[0m \u001b[1m0s\u001b[0m 20ms/step - loss: 1312.3678 - mean_absolute_error: 12.0815 - val_loss: 1200.2004 - val_mean_absolute_error: 14.6083\n",
      "Epoch 47/100\n",
      "\u001b[1m9/9\u001b[0m \u001b[32m━━━━━━━━━━━━━━━━━━━━\u001b[0m\u001b[37m\u001b[0m \u001b[1m1s\u001b[0m 49ms/step - loss: 1992.2928 - mean_absolute_error: 15.5800 - val_loss: 237.3737 - val_mean_absolute_error: 8.7165\n",
      "Epoch 48/100\n",
      "\u001b[1m9/9\u001b[0m \u001b[32m━━━━━━━━━━━━━━━━━━━━\u001b[0m\u001b[37m\u001b[0m \u001b[1m0s\u001b[0m 23ms/step - loss: 651.7798 - mean_absolute_error: 12.1882 - val_loss: 353.8010 - val_mean_absolute_error: 9.7902\n",
      "Epoch 49/100\n",
      "\u001b[1m9/9\u001b[0m \u001b[32m━━━━━━━━━━━━━━━━━━━━\u001b[0m\u001b[37m\u001b[0m \u001b[1m0s\u001b[0m 29ms/step - loss: 341.6040 - mean_absolute_error: 9.0685 - val_loss: 302.3533 - val_mean_absolute_error: 10.0801\n",
      "Epoch 50/100\n",
      "\u001b[1m9/9\u001b[0m \u001b[32m━━━━━━━━━━━━━━━━━━━━\u001b[0m\u001b[37m\u001b[0m \u001b[1m0s\u001b[0m 12ms/step - loss: 342.4675 - mean_absolute_error: 9.1444 - val_loss: 940.7155 - val_mean_absolute_error: 13.7291\n",
      "Epoch 51/100\n",
      "\u001b[1m9/9\u001b[0m \u001b[32m━━━━━━━━━━━━━━━━━━━━\u001b[0m\u001b[37m\u001b[0m \u001b[1m0s\u001b[0m 13ms/step - loss: 704.8014 - mean_absolute_error: 10.5989 - val_loss: 194.7231 - val_mean_absolute_error: 9.6006\n",
      "Epoch 52/100\n",
      "\u001b[1m9/9\u001b[0m \u001b[32m━━━━━━━━━━━━━━━━━━━━\u001b[0m\u001b[37m\u001b[0m \u001b[1m0s\u001b[0m 32ms/step - loss: 275.6930 - mean_absolute_error: 8.9046 - val_loss: 223.9298 - val_mean_absolute_error: 8.6642\n",
      "Epoch 53/100\n",
      "\u001b[1m9/9\u001b[0m \u001b[32m━━━━━━━━━━━━━━━━━━━━\u001b[0m\u001b[37m\u001b[0m \u001b[1m0s\u001b[0m 37ms/step - loss: 280.6618 - mean_absolute_error: 8.2328 - val_loss: 98.2847 - val_mean_absolute_error: 7.2854\n",
      "Epoch 54/100\n",
      "\u001b[1m9/9\u001b[0m \u001b[32m━━━━━━━━━━━━━━━━━━━━\u001b[0m\u001b[37m\u001b[0m \u001b[1m0s\u001b[0m 28ms/step - loss: 187.6739 - mean_absolute_error: 7.1257 - val_loss: 335.2980 - val_mean_absolute_error: 8.9822\n",
      "Epoch 55/100\n",
      "\u001b[1m9/9\u001b[0m \u001b[32m━━━━━━━━━━━━━━━━━━━━\u001b[0m\u001b[37m\u001b[0m \u001b[1m0s\u001b[0m 18ms/step - loss: 319.0242 - mean_absolute_error: 7.7990 - val_loss: 232.2604 - val_mean_absolute_error: 8.6990\n",
      "Epoch 56/100\n",
      "\u001b[1m9/9\u001b[0m \u001b[32m━━━━━━━━━━━━━━━━━━━━\u001b[0m\u001b[37m\u001b[0m \u001b[1m0s\u001b[0m 17ms/step - loss: 245.5593 - mean_absolute_error: 7.4350 - val_loss: 165.7596 - val_mean_absolute_error: 8.3516\n",
      "Epoch 57/100\n",
      "\u001b[1m9/9\u001b[0m \u001b[32m━━━━━━━━━━━━━━━━━━━━\u001b[0m\u001b[37m\u001b[0m \u001b[1m0s\u001b[0m 43ms/step - loss: 137.2834 - mean_absolute_error: 6.2092 - val_loss: 101.3209 - val_mean_absolute_error: 7.2653\n",
      "Epoch 58/100\n",
      "\u001b[1m9/9\u001b[0m \u001b[32m━━━━━━━━━━━━━━━━━━━━\u001b[0m\u001b[37m\u001b[0m \u001b[1m0s\u001b[0m 29ms/step - loss: 168.1268 - mean_absolute_error: 6.8486 - val_loss: 94.1796 - val_mean_absolute_error: 7.3732\n",
      "Epoch 59/100\n",
      "\u001b[1m9/9\u001b[0m \u001b[32m━━━━━━━━━━━━━━━━━━━━\u001b[0m\u001b[37m\u001b[0m \u001b[1m1s\u001b[0m 21ms/step - loss: 95.2300 - mean_absolute_error: 6.2001 - val_loss: 120.5972 - val_mean_absolute_error: 7.5143\n",
      "Epoch 60/100\n",
      "\u001b[1m9/9\u001b[0m \u001b[32m━━━━━━━━━━━━━━━━━━━━\u001b[0m\u001b[37m\u001b[0m \u001b[1m0s\u001b[0m 30ms/step - loss: 114.8557 - mean_absolute_error: 5.9504 - val_loss: 94.9612 - val_mean_absolute_error: 6.2599\n",
      "Epoch 61/100\n",
      "\u001b[1m9/9\u001b[0m \u001b[32m━━━━━━━━━━━━━━━━━━━━\u001b[0m\u001b[37m\u001b[0m \u001b[1m0s\u001b[0m 11ms/step - loss: 76.0954 - mean_absolute_error: 5.2757 - val_loss: 139.1363 - val_mean_absolute_error: 7.1034\n",
      "Epoch 62/100\n",
      "\u001b[1m9/9\u001b[0m \u001b[32m━━━━━━━━━━━━━━━━━━━━\u001b[0m\u001b[37m\u001b[0m \u001b[1m0s\u001b[0m 15ms/step - loss: 180.7941 - mean_absolute_error: 6.7505 - val_loss: 137.1359 - val_mean_absolute_error: 6.9128\n",
      "Epoch 63/100\n",
      "\u001b[1m9/9\u001b[0m \u001b[32m━━━━━━━━━━━━━━━━━━━━\u001b[0m\u001b[37m\u001b[0m \u001b[1m0s\u001b[0m 16ms/step - loss: 216.2937 - mean_absolute_error: 7.1599 - val_loss: 296.8405 - val_mean_absolute_error: 9.7054\n",
      "Epoch 64/100\n",
      "\u001b[1m9/9\u001b[0m \u001b[32m━━━━━━━━━━━━━━━━━━━━\u001b[0m\u001b[37m\u001b[0m \u001b[1m0s\u001b[0m 15ms/step - loss: 351.6687 - mean_absolute_error: 8.6659 - val_loss: 329.0931 - val_mean_absolute_error: 9.1415\n",
      "Epoch 65/100\n",
      "\u001b[1m9/9\u001b[0m \u001b[32m━━━━━━━━━━━━━━━━━━━━\u001b[0m\u001b[37m\u001b[0m \u001b[1m0s\u001b[0m 34ms/step - loss: 220.7283 - mean_absolute_error: 7.4245 - val_loss: 428.4708 - val_mean_absolute_error: 10.3415\n",
      "Epoch 66/100\n",
      "\u001b[1m9/9\u001b[0m \u001b[32m━━━━━━━━━━━━━━━━━━━━\u001b[0m\u001b[37m\u001b[0m \u001b[1m0s\u001b[0m 18ms/step - loss: 277.3226 - mean_absolute_error: 8.5108 - val_loss: 91.6253 - val_mean_absolute_error: 6.8784\n",
      "Epoch 67/100\n",
      "\u001b[1m9/9\u001b[0m \u001b[32m━━━━━━━━━━━━━━━━━━━━\u001b[0m\u001b[37m\u001b[0m \u001b[1m0s\u001b[0m 13ms/step - loss: 88.7745 - mean_absolute_error: 5.3051 - val_loss: 78.8554 - val_mean_absolute_error: 6.3005\n",
      "Epoch 68/100\n",
      "\u001b[1m9/9\u001b[0m \u001b[32m━━━━━━━━━━━━━━━━━━━━\u001b[0m\u001b[37m\u001b[0m \u001b[1m1s\u001b[0m 41ms/step - loss: 41.3790 - mean_absolute_error: 4.2985 - val_loss: 85.8609 - val_mean_absolute_error: 6.1516\n",
      "Epoch 69/100\n",
      "\u001b[1m9/9\u001b[0m \u001b[32m━━━━━━━━━━━━━━━━━━━━\u001b[0m\u001b[37m\u001b[0m \u001b[1m0s\u001b[0m 12ms/step - loss: 179.7643 - mean_absolute_error: 7.0016 - val_loss: 75.0910 - val_mean_absolute_error: 6.2044\n",
      "Epoch 70/100\n",
      "\u001b[1m9/9\u001b[0m \u001b[32m━━━━━━━━━━━━━━━━━━━━\u001b[0m\u001b[37m\u001b[0m \u001b[1m0s\u001b[0m 23ms/step - loss: 262.1496 - mean_absolute_error: 6.4889 - val_loss: 807.6647 - val_mean_absolute_error: 11.6309\n",
      "Epoch 71/100\n",
      "\u001b[1m9/9\u001b[0m \u001b[32m━━━━━━━━━━━━━━━━━━━━\u001b[0m\u001b[37m\u001b[0m \u001b[1m0s\u001b[0m 11ms/step - loss: 953.4869 - mean_absolute_error: 10.6636 - val_loss: 907.5539 - val_mean_absolute_error: 12.7601\n",
      "Epoch 72/100\n",
      "\u001b[1m9/9\u001b[0m \u001b[32m━━━━━━━━━━━━━━━━━━━━\u001b[0m\u001b[37m\u001b[0m \u001b[1m0s\u001b[0m 37ms/step - loss: 629.9936 - mean_absolute_error: 9.1310 - val_loss: 917.8500 - val_mean_absolute_error: 12.7973\n",
      "Epoch 73/100\n",
      "\u001b[1m9/9\u001b[0m \u001b[32m━━━━━━━━━━━━━━━━━━━━\u001b[0m\u001b[37m\u001b[0m \u001b[1m0s\u001b[0m 13ms/step - loss: 1649.1360 - mean_absolute_error: 15.5216 - val_loss: 2855.5098 - val_mean_absolute_error: 17.9669\n",
      "Epoch 74/100\n",
      "\u001b[1m9/9\u001b[0m \u001b[32m━━━━━━━━━━━━━━━━━━━━\u001b[0m\u001b[37m\u001b[0m \u001b[1m0s\u001b[0m 26ms/step - loss: 4933.4453 - mean_absolute_error: 23.6174 - val_loss: 2277.1287 - val_mean_absolute_error: 18.7651\n",
      "Epoch 75/100\n",
      "\u001b[1m9/9\u001b[0m \u001b[32m━━━━━━━━━━━━━━━━━━━━\u001b[0m\u001b[37m\u001b[0m \u001b[1m0s\u001b[0m 10ms/step - loss: 1624.1117 - mean_absolute_error: 17.3516 - val_loss: 10387.3369 - val_mean_absolute_error: 34.0752\n",
      "Epoch 76/100\n",
      "\u001b[1m9/9\u001b[0m \u001b[32m━━━━━━━━━━━━━━━━━━━━\u001b[0m\u001b[37m\u001b[0m \u001b[1m0s\u001b[0m 19ms/step - loss: 6881.2007 - mean_absolute_error: 29.1685 - val_loss: 470.7167 - val_mean_absolute_error: 17.0311\n",
      "Epoch 77/100\n",
      "\u001b[1m9/9\u001b[0m \u001b[32m━━━━━━━━━━━━━━━━━━━━\u001b[0m\u001b[37m\u001b[0m \u001b[1m0s\u001b[0m 27ms/step - loss: 366.6842 - mean_absolute_error: 12.9126 - val_loss: 303.5558 - val_mean_absolute_error: 9.8402\n",
      "Epoch 78/100\n",
      "\u001b[1m9/9\u001b[0m \u001b[32m━━━━━━━━━━━━━━━━━━━━\u001b[0m\u001b[37m\u001b[0m \u001b[1m0s\u001b[0m 21ms/step - loss: 282.2400 - mean_absolute_error: 8.6089 - val_loss: 250.9586 - val_mean_absolute_error: 7.8067\n",
      "Epoch 79/100\n",
      "\u001b[1m9/9\u001b[0m \u001b[32m━━━━━━━━━━━━━━━━━━━━\u001b[0m\u001b[37m\u001b[0m \u001b[1m0s\u001b[0m 36ms/step - loss: 322.4586 - mean_absolute_error: 7.7956 - val_loss: 226.5017 - val_mean_absolute_error: 7.4980\n",
      "Epoch 80/100\n",
      "\u001b[1m9/9\u001b[0m \u001b[32m━━━━━━━━━━━━━━━━━━━━\u001b[0m\u001b[37m\u001b[0m \u001b[1m0s\u001b[0m 28ms/step - loss: 191.5004 - mean_absolute_error: 6.9777 - val_loss: 85.7616 - val_mean_absolute_error: 6.6331\n",
      "Epoch 81/100\n",
      "\u001b[1m9/9\u001b[0m \u001b[32m━━━━━━━━━━━━━━━━━━━━\u001b[0m\u001b[37m\u001b[0m \u001b[1m0s\u001b[0m 30ms/step - loss: 50.6107 - mean_absolute_error: 4.6417 - val_loss: 112.2032 - val_mean_absolute_error: 6.7460\n",
      "Epoch 82/100\n",
      "\u001b[1m9/9\u001b[0m \u001b[32m━━━━━━━━━━━━━━━━━━━━\u001b[0m\u001b[37m\u001b[0m \u001b[1m0s\u001b[0m 21ms/step - loss: 73.2150 - mean_absolute_error: 4.6862 - val_loss: 122.9573 - val_mean_absolute_error: 6.7259\n",
      "Epoch 83/100\n",
      "\u001b[1m9/9\u001b[0m \u001b[32m━━━━━━━━━━━━━━━━━━━━\u001b[0m\u001b[37m\u001b[0m \u001b[1m0s\u001b[0m 32ms/step - loss: 102.7657 - mean_absolute_error: 5.2721 - val_loss: 279.8124 - val_mean_absolute_error: 9.1223\n",
      "Epoch 84/100\n",
      "\u001b[1m9/9\u001b[0m \u001b[32m━━━━━━━━━━━━━━━━━━━━\u001b[0m\u001b[37m\u001b[0m \u001b[1m1s\u001b[0m 20ms/step - loss: 367.0891 - mean_absolute_error: 8.2935 - val_loss: 94.7151 - val_mean_absolute_error: 7.4123\n",
      "Epoch 85/100\n",
      "\u001b[1m9/9\u001b[0m \u001b[32m━━━━━━━━━━━━━━━━━━━━\u001b[0m\u001b[37m\u001b[0m \u001b[1m0s\u001b[0m 26ms/step - loss: 102.0039 - mean_absolute_error: 6.3407 - val_loss: 100.6779 - val_mean_absolute_error: 7.0548\n",
      "Epoch 86/100\n",
      "\u001b[1m9/9\u001b[0m \u001b[32m━━━━━━━━━━━━━━━━━━━━\u001b[0m\u001b[37m\u001b[0m \u001b[1m0s\u001b[0m 21ms/step - loss: 148.0284 - mean_absolute_error: 6.5991 - val_loss: 78.3981 - val_mean_absolute_error: 6.7995\n",
      "Epoch 87/100\n",
      "\u001b[1m9/9\u001b[0m \u001b[32m━━━━━━━━━━━━━━━━━━━━\u001b[0m\u001b[37m\u001b[0m \u001b[1m0s\u001b[0m 39ms/step - loss: 131.2225 - mean_absolute_error: 6.2644 - val_loss: 71.4417 - val_mean_absolute_error: 5.8075\n",
      "Epoch 88/100\n",
      "\u001b[1m9/9\u001b[0m \u001b[32m━━━━━━━━━━━━━━━━━━━━\u001b[0m\u001b[37m\u001b[0m \u001b[1m1s\u001b[0m 28ms/step - loss: 109.8769 - mean_absolute_error: 5.6262 - val_loss: 149.3486 - val_mean_absolute_error: 7.2727\n",
      "Epoch 89/100\n",
      "\u001b[1m9/9\u001b[0m \u001b[32m━━━━━━━━━━━━━━━━━━━━\u001b[0m\u001b[37m\u001b[0m \u001b[1m0s\u001b[0m 18ms/step - loss: 289.9640 - mean_absolute_error: 7.5669 - val_loss: 389.4179 - val_mean_absolute_error: 9.1019\n",
      "Epoch 90/100\n",
      "\u001b[1m9/9\u001b[0m \u001b[32m━━━━━━━━━━━━━━━━━━━━\u001b[0m\u001b[37m\u001b[0m \u001b[1m0s\u001b[0m 18ms/step - loss: 282.8876 - mean_absolute_error: 7.3026 - val_loss: 266.1743 - val_mean_absolute_error: 7.7537\n",
      "Epoch 91/100\n",
      "\u001b[1m9/9\u001b[0m \u001b[32m━━━━━━━━━━━━━━━━━━━━\u001b[0m\u001b[37m\u001b[0m \u001b[1m0s\u001b[0m 17ms/step - loss: 533.6791 - mean_absolute_error: 8.9534 - val_loss: 182.7732 - val_mean_absolute_error: 7.3221\n",
      "Epoch 92/100\n",
      "\u001b[1m9/9\u001b[0m \u001b[32m━━━━━━━━━━━━━━━━━━━━\u001b[0m\u001b[37m\u001b[0m \u001b[1m0s\u001b[0m 31ms/step - loss: 49.2672 - mean_absolute_error: 4.5381 - val_loss: 365.5612 - val_mean_absolute_error: 8.8194\n",
      "Epoch 93/100\n",
      "\u001b[1m9/9\u001b[0m \u001b[32m━━━━━━━━━━━━━━━━━━━━\u001b[0m\u001b[37m\u001b[0m \u001b[1m1s\u001b[0m 33ms/step - loss: 280.0680 - mean_absolute_error: 7.3128 - val_loss: 217.9854 - val_mean_absolute_error: 7.7951\n",
      "Epoch 94/100\n",
      "\u001b[1m9/9\u001b[0m \u001b[32m━━━━━━━━━━━━━━━━━━━━\u001b[0m\u001b[37m\u001b[0m \u001b[1m0s\u001b[0m 16ms/step - loss: 130.0292 - mean_absolute_error: 5.6548 - val_loss: 279.7003 - val_mean_absolute_error: 8.5174\n",
      "Epoch 95/100\n",
      "\u001b[1m9/9\u001b[0m \u001b[32m━━━━━━━━━━━━━━━━━━━━\u001b[0m\u001b[37m\u001b[0m \u001b[1m1s\u001b[0m 24ms/step - loss: 277.6431 - mean_absolute_error: 7.0320 - val_loss: 432.6307 - val_mean_absolute_error: 9.0741\n",
      "Epoch 96/100\n",
      "\u001b[1m9/9\u001b[0m \u001b[32m━━━━━━━━━━━━━━━━━━━━\u001b[0m\u001b[37m\u001b[0m \u001b[1m1s\u001b[0m 53ms/step - loss: 390.7181 - mean_absolute_error: 7.2150 - val_loss: 63.9463 - val_mean_absolute_error: 5.4434\n",
      "Epoch 97/100\n",
      "\u001b[1m9/9\u001b[0m \u001b[32m━━━━━━━━━━━━━━━━━━━━\u001b[0m\u001b[37m\u001b[0m \u001b[1m0s\u001b[0m 15ms/step - loss: 154.0168 - mean_absolute_error: 6.1458 - val_loss: 149.8875 - val_mean_absolute_error: 6.6909\n",
      "Epoch 98/100\n",
      "\u001b[1m9/9\u001b[0m \u001b[32m━━━━━━━━━━━━━━━━━━━━\u001b[0m\u001b[37m\u001b[0m \u001b[1m0s\u001b[0m 11ms/step - loss: 198.1404 - mean_absolute_error: 6.0378 - val_loss: 56.4893 - val_mean_absolute_error: 5.3054\n",
      "Epoch 99/100\n",
      "\u001b[1m9/9\u001b[0m \u001b[32m━━━━━━━━━━━━━━━━━━━━\u001b[0m\u001b[37m\u001b[0m \u001b[1m0s\u001b[0m 11ms/step - loss: 232.3796 - mean_absolute_error: 6.3823 - val_loss: 880.9596 - val_mean_absolute_error: 11.3039\n",
      "Epoch 100/100\n",
      "\u001b[1m9/9\u001b[0m \u001b[32m━━━━━━━━━━━━━━━━━━━━\u001b[0m\u001b[37m\u001b[0m \u001b[1m0s\u001b[0m 22ms/step - loss: 1148.1517 - mean_absolute_error: 10.7690 - val_loss: 2984.3455 - val_mean_absolute_error: 17.7676\n"
     ]
    }
   ],
   "source": [
    "history = model.fit(X_train, y_train, validation_data = (X_test, y_test), epochs = 100)"
   ]
  },
  {
   "cell_type": "code",
   "execution_count": 15,
   "id": "ad3c95e8-bf05-43f6-909e-164843a51f19",
   "metadata": {},
   "outputs": [
    {
     "name": "stdout",
     "output_type": "stream",
     "text": [
      "\u001b[1m5/5\u001b[0m \u001b[32m━━━━━━━━━━━━━━━━━━━━\u001b[0m\u001b[37m\u001b[0m \u001b[1m0s\u001b[0m 26ms/step\n"
     ]
    }
   ],
   "source": [
    "predictions = model.predict(X_test)"
   ]
  },
  {
   "cell_type": "code",
   "execution_count": 17,
   "id": "3563c668-cd3c-41b3-ad6c-0c8ea52b8047",
   "metadata": {},
   "outputs": [
    {
     "name": "stdout",
     "output_type": "stream",
     "text": [
      "Mean Absolute Error: 17.76755465744133\n",
      "Mean Squared Error: 2984.345366383074\n",
      "Mean Square Root Error: 54.629162233948584\n"
     ]
    }
   ],
   "source": [
    "print('Mean Absolute Error:', mean_absolute_error(y_test, predictions))\n",
    "print('Mean Squared Error:', mean_squared_error(y_test, predictions))\n",
    "print('Mean Square Root Error:', np.sqrt(mean_squared_error(y_test, predictions)))"
   ]
  },
  {
   "cell_type": "code",
   "execution_count": 19,
   "id": "b8980aa9-7669-4d04-929b-ebce6a618e77",
   "metadata": {},
   "outputs": [
    {
     "data": {
      "image/png": "[encoded data removed]",
      "text/plain": [
       "<Figure size 640x480 with 1 Axes>"
      ]
     },
     "metadata": {},
     "output_type": "display_data"
    }
   ],
   "source": [
    "plt.plot(history.history['loss'], label = 'loss')\n",
    "plt.plot(history.history['val_loss'], label = 'val_loss')\n",
    "plt.xlabel('Epoch')\n",
    "plt.ylabel('Loss')\n",
    "plt.legend()\n",
    "plt.show()"
   ]
  },
  {
   "cell_type": "markdown",
   "id": "9019dbc0-78ce-42f2-9921-a66c7aa62f18",
   "metadata": {},
   "source": [
    "Looking at the loss and validation loss, at the beginning the model isn't fitting the data well, with a large spike around the 10th epoch. The training loss and validation loss begin to stabilize around the 20th epoch. The big spikes from 0-19 epochs indicate the model needs more hyperparameter tuning."
   ]
  },
  {
   "cell_type": "markdown",
   "id": "98179e79-b86a-4c18-a820-98a3bc68d0db",
   "metadata": {},
   "source": [
    "## Hyperparameter Tuning"
   ]
  },
  {
   "cell_type": "code",
   "execution_count": 21,
   "id": "4b264a43-3015-4a2a-a39d-245e2b1e7f7e",
   "metadata": {},
   "outputs": [
    {
     "name": "stdout",
     "output_type": "stream",
     "text": [
      "Epoch 1/100\n",
      "\u001b[1m5/5\u001b[0m \u001b[32m━━━━━━━━━━━━━━━━━━━━\u001b[0m\u001b[37m\u001b[0m \u001b[1m3s\u001b[0m 105ms/step - loss: 2426.8284 - mean_absolute_error: 14.2187 - val_loss: 383.0619 - val_mean_absolute_error: 10.0899 - learning_rate: 1.0000e-04\n",
      "Epoch 2/100\n",
      "\u001b[1m5/5\u001b[0m \u001b[32m━━━━━━━━━━━━━━━━━━━━\u001b[0m\u001b[37m\u001b[0m \u001b[1m0s\u001b[0m 22ms/step - loss: 710.4286 - mean_absolute_error: 10.6694 - val_loss: 3865.0493 - val_mean_absolute_error: 20.2401 - learning_rate: 1.0000e-04\n",
      "Epoch 3/100\n",
      "\u001b[1m5/5\u001b[0m \u001b[32m━━━━━━━━━━━━━━━━━━━━\u001b[0m\u001b[37m\u001b[0m \u001b[1m0s\u001b[0m 21ms/step - loss: 4214.3604 - mean_absolute_error: 20.4062 - val_loss: 71.2145 - val_mean_absolute_error: 6.0596 - learning_rate: 1.0000e-04\n",
      "Epoch 4/100\n",
      "\u001b[1m5/5\u001b[0m \u001b[32m━━━━━━━━━━━━━━━━━━━━\u001b[0m\u001b[37m\u001b[0m \u001b[1m0s\u001b[0m 24ms/step - loss: 392.0370 - mean_absolute_error: 7.9126 - val_loss: 2009.3572 - val_mean_absolute_error: 15.7510 - learning_rate: 1.0000e-04\n",
      "Epoch 5/100\n",
      "\u001b[1m5/5\u001b[0m \u001b[32m━━━━━━━━━━━━━━━━━━━━\u001b[0m\u001b[37m\u001b[0m \u001b[1m0s\u001b[0m 19ms/step - loss: 1845.8474 - mean_absolute_error: 14.6387 - val_loss: 96.6843 - val_mean_absolute_error: 6.0855 - learning_rate: 1.0000e-04\n",
      "Epoch 6/100\n",
      "\u001b[1m5/5\u001b[0m \u001b[32m━━━━━━━━━━━━━━━━━━━━\u001b[0m\u001b[37m\u001b[0m \u001b[1m0s\u001b[0m 18ms/step - loss: 351.3550 - mean_absolute_error: 6.9665 - val_loss: 1187.0121 - val_mean_absolute_error: 12.3964 - learning_rate: 1.0000e-04\n",
      "Epoch 7/100\n",
      "\u001b[1m5/5\u001b[0m \u001b[32m━━━━━━━━━━━━━━━━━━━━\u001b[0m\u001b[37m\u001b[0m \u001b[1m0s\u001b[0m 44ms/step - loss: 1256.0405 - mean_absolute_error: 12.2872 - val_loss: 61.6210 - val_mean_absolute_error: 5.2635 - learning_rate: 1.0000e-04\n",
      "Epoch 8/100\n",
      "\u001b[1m5/5\u001b[0m \u001b[32m━━━━━━━━━━━━━━━━━━━━\u001b[0m\u001b[37m\u001b[0m \u001b[1m0s\u001b[0m 18ms/step - loss: 329.2339 - mean_absolute_error: 6.4614 - val_loss: 510.6763 - val_mean_absolute_error: 10.2029 - learning_rate: 1.0000e-04\n",
      "Epoch 9/100\n",
      "\u001b[1m5/5\u001b[0m \u001b[32m━━━━━━━━━━━━━━━━━━━━\u001b[0m\u001b[37m\u001b[0m \u001b[1m0s\u001b[0m 24ms/step - loss: 213.4527 - mean_absolute_error: 6.1975 - val_loss: 231.1474 - val_mean_absolute_error: 7.3265 - learning_rate: 1.0000e-04\n",
      "Epoch 10/100\n",
      "\u001b[1m5/5\u001b[0m \u001b[32m━━━━━━━━━━━━━━━━━━━━\u001b[0m\u001b[37m\u001b[0m \u001b[1m0s\u001b[0m 47ms/step - loss: 390.2582 - mean_absolute_error: 7.7891 - val_loss: 71.7061 - val_mean_absolute_error: 5.5902 - learning_rate: 1.0000e-04\n",
      "Epoch 11/100\n",
      "\u001b[1m5/5\u001b[0m \u001b[32m━━━━━━━━━━━━━━━━━━━━\u001b[0m\u001b[37m\u001b[0m \u001b[1m0s\u001b[0m 14ms/step - loss: 109.1907 - mean_absolute_error: 5.0292 - val_loss: 279.5622 - val_mean_absolute_error: 8.0401 - learning_rate: 1.0000e-04\n",
      "Epoch 12/100\n",
      "\u001b[1m5/5\u001b[0m \u001b[32m━━━━━━━━━━━━━━━━━━━━\u001b[0m\u001b[37m\u001b[0m \u001b[1m0s\u001b[0m 26ms/step - loss: 173.0136 - mean_absolute_error: 5.8793 - val_loss: 61.0841 - val_mean_absolute_error: 5.3661 - learning_rate: 1.0000e-04\n",
      "Epoch 13/100\n",
      "\u001b[1m5/5\u001b[0m \u001b[32m━━━━━━━━━━━━━━━━━━━━\u001b[0m\u001b[37m\u001b[0m \u001b[1m0s\u001b[0m 23ms/step - loss: 106.4000 - mean_absolute_error: 5.1170 - val_loss: 72.0224 - val_mean_absolute_error: 5.4419 - learning_rate: 1.0000e-04\n",
      "Epoch 14/100\n",
      "\u001b[1m5/5\u001b[0m \u001b[32m━━━━━━━━━━━━━━━━━━━━\u001b[0m\u001b[37m\u001b[0m \u001b[1m0s\u001b[0m 21ms/step - loss: 51.9995 - mean_absolute_error: 4.1010 - val_loss: 125.3727 - val_mean_absolute_error: 6.5491 - learning_rate: 1.0000e-04\n",
      "Epoch 15/100\n",
      "\u001b[1m5/5\u001b[0m \u001b[32m━━━━━━━━━━━━━━━━━━━━\u001b[0m\u001b[37m\u001b[0m \u001b[1m0s\u001b[0m 18ms/step - loss: 83.1070 - mean_absolute_error: 4.7317 - val_loss: 57.3548 - val_mean_absolute_error: 5.1292 - learning_rate: 1.0000e-04\n",
      "Epoch 16/100\n",
      "\u001b[1m5/5\u001b[0m \u001b[32m━━━━━━━━━━━━━━━━━━━━\u001b[0m\u001b[37m\u001b[0m \u001b[1m1s\u001b[0m 44ms/step - loss: 35.7262 - mean_absolute_error: 3.8733 - val_loss: 79.0430 - val_mean_absolute_error: 5.4884 - learning_rate: 1.0000e-04\n",
      "Epoch 17/100\n",
      "\u001b[1m5/5\u001b[0m \u001b[32m━━━━━━━━━━━━━━━━━━━━\u001b[0m\u001b[37m\u001b[0m \u001b[1m0s\u001b[0m 49ms/step - loss: 81.6656 - mean_absolute_error: 4.7772 - val_loss: 78.2321 - val_mean_absolute_error: 5.4895 - learning_rate: 1.0000e-04\n",
      "Epoch 18/100\n",
      "\u001b[1m5/5\u001b[0m \u001b[32m━━━━━━━━━━━━━━━━━━━━\u001b[0m\u001b[37m\u001b[0m \u001b[1m0s\u001b[0m 43ms/step - loss: 66.1671 - mean_absolute_error: 4.4211 - val_loss: 58.3291 - val_mean_absolute_error: 5.1820 - learning_rate: 1.0000e-04\n",
      "Epoch 19/100\n",
      "\u001b[1m5/5\u001b[0m \u001b[32m━━━━━━━━━━━━━━━━━━━━\u001b[0m\u001b[37m\u001b[0m \u001b[1m0s\u001b[0m 77ms/step - loss: 43.3595 - mean_absolute_error: 4.0901 - val_loss: 64.5787 - val_mean_absolute_error: 5.3205 - learning_rate: 1.0000e-04\n",
      "Epoch 20/100\n",
      "\u001b[1m5/5\u001b[0m \u001b[32m━━━━━━━━━━━━━━━━━━━━\u001b[0m\u001b[37m\u001b[0m \u001b[1m0s\u001b[0m 20ms/step - loss: 58.6051 - mean_absolute_error: 4.3955 - val_loss: 114.8131 - val_mean_absolute_error: 6.1449 - learning_rate: 1.0000e-04\n",
      "Epoch 21/100\n",
      "\u001b[1m5/5\u001b[0m \u001b[32m━━━━━━━━━━━━━━━━━━━━\u001b[0m\u001b[37m\u001b[0m \u001b[1m0s\u001b[0m 22ms/step - loss: 59.3706 - mean_absolute_error: 4.3678 - val_loss: 95.7723 - val_mean_absolute_error: 5.8093 - learning_rate: 1.0000e-05\n",
      "Epoch 22/100\n",
      "\u001b[1m5/5\u001b[0m \u001b[32m━━━━━━━━━━━━━━━━━━━━\u001b[0m\u001b[37m\u001b[0m \u001b[1m0s\u001b[0m 23ms/step - loss: 84.7877 - mean_absolute_error: 4.7014 - val_loss: 58.6862 - val_mean_absolute_error: 5.1364 - learning_rate: 1.0000e-05\n",
      "Epoch 23/100\n",
      "\u001b[1m5/5\u001b[0m \u001b[32m━━━━━━━━━━━━━━━━━━━━\u001b[0m\u001b[37m\u001b[0m \u001b[1m0s\u001b[0m 40ms/step - loss: 24.8939 - mean_absolute_error: 3.3475 - val_loss: 51.1091 - val_mean_absolute_error: 5.0286 - learning_rate: 1.0000e-05\n",
      "Epoch 24/100\n",
      "\u001b[1m5/5\u001b[0m \u001b[32m━━━━━━━━━━━━━━━━━━━━\u001b[0m\u001b[37m\u001b[0m \u001b[1m0s\u001b[0m 26ms/step - loss: 27.1055 - mean_absolute_error: 3.4989 - val_loss: 50.9173 - val_mean_absolute_error: 4.9942 - learning_rate: 1.0000e-05\n",
      "Epoch 25/100\n",
      "\u001b[1m5/5\u001b[0m \u001b[32m━━━━━━━━━━━━━━━━━━━━\u001b[0m\u001b[37m\u001b[0m \u001b[1m0s\u001b[0m 21ms/step - loss: 38.5388 - mean_absolute_error: 3.8158 - val_loss: 50.7456 - val_mean_absolute_error: 4.9961 - learning_rate: 1.0000e-05\n",
      "Epoch 26/100\n",
      "\u001b[1m5/5\u001b[0m \u001b[32m━━━━━━━━━━━━━━━━━━━━\u001b[0m\u001b[37m\u001b[0m \u001b[1m0s\u001b[0m 29ms/step - loss: 31.0870 - mean_absolute_error: 3.6266 - val_loss: 53.1074 - val_mean_absolute_error: 5.0573 - learning_rate: 1.0000e-05\n",
      "Epoch 27/100\n",
      "\u001b[1m5/5\u001b[0m \u001b[32m━━━━━━━━━━━━━━━━━━━━\u001b[0m\u001b[37m\u001b[0m \u001b[1m0s\u001b[0m 34ms/step - loss: 27.7521 - mean_absolute_error: 3.4581 - val_loss: 55.7653 - val_mean_absolute_error: 5.1435 - learning_rate: 1.0000e-05\n",
      "Epoch 28/100\n",
      "\u001b[1m5/5\u001b[0m \u001b[32m━━━━━━━━━━━━━━━━━━━━\u001b[0m\u001b[37m\u001b[0m \u001b[1m1s\u001b[0m 40ms/step - loss: 37.5799 - mean_absolute_error: 3.6419 - val_loss: 56.5664 - val_mean_absolute_error: 5.1435 - learning_rate: 1.0000e-05\n",
      "Epoch 29/100\n",
      "\u001b[1m5/5\u001b[0m \u001b[32m━━━━━━━━━━━━━━━━━━━━\u001b[0m\u001b[37m\u001b[0m \u001b[1m1s\u001b[0m 68ms/step - loss: 29.6084 - mean_absolute_error: 3.4731 - val_loss: 55.9718 - val_mean_absolute_error: 5.1002 - learning_rate: 1.0000e-05\n",
      "Epoch 30/100\n",
      "\u001b[1m5/5\u001b[0m \u001b[32m━━━━━━━━━━━━━━━━━━━━\u001b[0m\u001b[37m\u001b[0m \u001b[1m0s\u001b[0m 59ms/step - loss: 30.1707 - mean_absolute_error: 3.4512 - val_loss: 54.8081 - val_mean_absolute_error: 5.0732 - learning_rate: 1.0000e-05\n",
      "Epoch 31/100\n",
      "\u001b[1m5/5\u001b[0m \u001b[32m━━━━━━━━━━━━━━━━━━━━\u001b[0m\u001b[37m\u001b[0m \u001b[1m1s\u001b[0m 66ms/step - loss: 35.2141 - mean_absolute_error: 3.5807 - val_loss: 54.8223 - val_mean_absolute_error: 5.0745 - learning_rate: 1.0000e-06\n",
      "Epoch 32/100\n",
      "\u001b[1m5/5\u001b[0m \u001b[32m━━━━━━━━━━━━━━━━━━━━\u001b[0m\u001b[37m\u001b[0m \u001b[1m0s\u001b[0m 36ms/step - loss: 29.9622 - mean_absolute_error: 3.4145 - val_loss: 54.9693 - val_mean_absolute_error: 5.0779 - learning_rate: 1.0000e-06\n",
      "Epoch 33/100\n",
      "\u001b[1m5/5\u001b[0m \u001b[32m━━━━━━━━━━━━━━━━━━━━\u001b[0m\u001b[37m\u001b[0m \u001b[1m0s\u001b[0m 72ms/step - loss: 29.1161 - mean_absolute_error: 3.4440 - val_loss: 55.1345 - val_mean_absolute_error: 5.0840 - learning_rate: 1.0000e-06\n",
      "Epoch 34/100\n",
      "\u001b[1m5/5\u001b[0m \u001b[32m━━━━━━━━━━━━━━━━━━━━\u001b[0m\u001b[37m\u001b[0m \u001b[1m0s\u001b[0m 32ms/step - loss: 31.5313 - mean_absolute_error: 3.5892 - val_loss: 55.2298 - val_mean_absolute_error: 5.0912 - learning_rate: 1.0000e-06\n",
      "Epoch 35/100\n",
      "\u001b[1m5/5\u001b[0m \u001b[32m━━━━━━━━━━━━━━━━━━━━\u001b[0m\u001b[37m\u001b[0m \u001b[1m0s\u001b[0m 20ms/step - loss: 28.4476 - mean_absolute_error: 3.3609 - val_loss: 55.2550 - val_mean_absolute_error: 5.0952 - learning_rate: 1.0000e-06\n"
     ]
    }
   ],
   "source": [
    "early_stopping = EarlyStopping(monitor = 'val_loss', patience = 10, restore_best_weights = True)\n",
    "\n",
    "reduce_lr = ReduceLROnPlateau(monitor = 'val_loss', factor = 0.1, patience = 5, min_lr = 1e-6)\n",
    "\n",
    "model.compile(optimizer = Adam(learning_rate = 1e-4),\n",
    "             loss = 'mean_squared_error')\n",
    "\n",
    "history = model.fit(X_train, y_train, validation_data = (X_test, y_test),\n",
    "                   epochs = 100, batch_size = 64,\n",
    "                   callbacks = [early_stopping, reduce_lr])"
   ]
  },
  {
   "cell_type": "code",
   "execution_count": 22,
   "id": "e98d673e-862c-4f28-8134-8bb73c6daaaa",
   "metadata": {},
   "outputs": [
    {
     "data": {
      "image/png": "[encoded data removed]",
      "text/plain": [
       "<Figure size 640x480 with 1 Axes>"
      ]
     },
     "metadata": {},
     "output_type": "display_data"
    }
   ],
   "source": [
    "plt.plot(history.history['loss'], label = 'loss')\n",
    "plt.plot(history.history['val_loss'], label = 'val_loss')\n",
    "plt.xlabel('Epoch')\n",
    "plt.ylabel('Loss')\n",
    "plt.legend()\n",
    "plt.show()"
   ]
  },
  {
   "cell_type": "code",
   "execution_count": 23,
   "id": "e92833a8-e2d5-4789-a56e-2fc24a677b8b",
   "metadata": {},
   "outputs": [
    {
     "name": "stdout",
     "output_type": "stream",
     "text": [
      "\u001b[1m5/5\u001b[0m \u001b[32m━━━━━━━━━━━━━━━━━━━━\u001b[0m\u001b[37m\u001b[0m \u001b[1m0s\u001b[0m 34ms/step\n"
     ]
    }
   ],
   "source": [
    "pred = model.predict(X_test)"
   ]
  },
  {
   "cell_type": "code",
   "execution_count": 24,
   "id": "04cab334-c9ed-4110-9c82-5e8d70ea0af9",
   "metadata": {},
   "outputs": [
    {
     "name": "stdout",
     "output_type": "stream",
     "text": [
      "Mean Absolute Error: 4.996142377351461\n",
      "Mean Squared Error: 50.74557001983966\n",
      "Mean Square Root Error: 7.123592493948518\n"
     ]
    }
   ],
   "source": [
    "print('Mean Absolute Error:', mean_absolute_error(y_test, pred))\n",
    "print('Mean Squared Error:', mean_squared_error(y_test, pred))\n",
    "print('Mean Square Root Error:', np.sqrt(mean_squared_error(y_test, pred)))"
   ]
  },
  {
   "cell_type": "code",
   "execution_count": 25,
   "id": "9e827fa8-0b07-4ee9-9f8a-7bba82b06cf6",
   "metadata": {},
   "outputs": [
    {
     "name": "stdout",
     "output_type": "stream",
     "text": [
      " 84.77766749379651\n"
     ]
    }
   ],
   "source": [
    "print('', data['pitch_speed_mph'].mean())"
   ]
  },
  {
   "cell_type": "markdown",
   "id": "01a7a3bd-f7e4-4bb5-a9e6-a89437a0a307",
   "metadata": {},
   "source": [
    "The absolute error is about ~5 mph and the average velocity in the dataset is 84.778 mph, which is about a 5.9 percent error that the model is making."
   ]
  },
  {
   "cell_type": "code",
   "execution_count": null,
   "id": "dc289735-0d53-4823-943f-ebe690e47dbd",
   "metadata": {},
   "outputs": [],
   "source": []
  }
 ],
 "metadata": {
  "kernelspec": {
   "display_name": "Python 3 (ipykernel)",
   "language": "python",
   "name": "python3"
  },
  "language_info": {
   "codemirror_mode": {
    "name": "ipython",
    "version": 3
   },
   "file_extension": ".py",
   "mimetype": "text/x-python",
   "name": "python",
   "nbconvert_exporter": "python",
   "pygments_lexer": "ipython3",
   "version": "3.12.2"
  }
 },
 "nbformat": 4,
 "nbformat_minor": 5
}
