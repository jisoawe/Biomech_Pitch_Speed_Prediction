{
 "cells": [
  {
   "cell_type": "markdown",
   "id": "64b97e33-a4e4-438b-ba37-3fdee2eae81c",
   "metadata": {},
   "source": [
    "# TensorFlow Biomech Pitch Speed Prediction\n",
    "### Mojisoluwa (Jiso) Awe\n",
    "\n",
    "In this notebook I will be implementing TensorFlow to try and predict pitch velocity based on kinematic movements."
   ]
  },
  {
   "cell_type": "code",
   "execution_count": 38,
   "id": "df75dcd9-b218-487b-875d-f7ff2e980be2",
   "metadata": {},
   "outputs": [],
   "source": [
    "import numpy as np\n",
    "import pandas as pd\n",
    "import matplotlib.pyplot as plt\n",
    "import tensorflow as tf\n",
    "from tensorflow import keras\n",
    "from tensorflow.keras import layers\n",
    "from sklearn.model_selection import train_test_split\n",
    "from sklearn.preprocessing import StandardScaler"
   ]
  },
  {
   "cell_type": "code",
   "execution_count": 52,
   "id": "c0cc4e58-ee9f-48f0-81dc-83d89f0155f3",
   "metadata": {},
   "outputs": [],
   "source": [
    "biomech = pd.read_csv('pitching_poi_metrics.csv')\n",
    "metadata = pd.read_csv('pitching_metadata.csv')\n",
    "data = pd.merge(biomech, metadata)"
   ]
  },
  {
   "cell_type": "code",
   "execution_count": 54,
   "id": "197f08df-fa31-4fbc-8e61-29ac126aac42",
   "metadata": {},
   "outputs": [
    {
     "data": {
      "text/plain": [
       "['session_pitch',\n",
       " 'session',\n",
       " 'p_throws',\n",
       " 'pitch_type',\n",
       " 'pitch_speed_mph',\n",
       " 'max_shoulder_internal_rotational_velo',\n",
       " 'max_elbow_extension_velo',\n",
       " 'max_torso_rotational_velo',\n",
       " 'max_rotation_hip_shoulder_separation',\n",
       " 'max_elbow_flexion',\n",
       " 'max_shoulder_external_rotation',\n",
       " 'elbow_flexion_fp',\n",
       " 'elbow_pronation_fp',\n",
       " 'rotation_hip_shoulder_separation_fp',\n",
       " 'shoulder_horizontal_abduction_fp',\n",
       " 'shoulder_abduction_fp',\n",
       " 'shoulder_external_rotation_fp',\n",
       " 'lead_knee_extension_angular_velo_fp',\n",
       " 'lead_knee_extension_angular_velo_br',\n",
       " 'lead_knee_extension_angular_velo_max',\n",
       " 'torso_anterior_tilt_fp',\n",
       " 'torso_lateral_tilt_fp',\n",
       " 'torso_rotation_fp',\n",
       " 'pelvis_anterior_tilt_fp',\n",
       " 'pelvis_lateral_tilt_fp',\n",
       " 'pelvis_rotation_fp',\n",
       " 'max_cog_velo_x',\n",
       " 'torso_rotation_min',\n",
       " 'max_pelvis_rotational_velo',\n",
       " 'glove_shoulder_horizontal_abduction_fp',\n",
       " 'glove_shoulder_abduction_fp',\n",
       " 'glove_shoulder_external_rotation_fp',\n",
       " 'glove_shoulder_abduction_mer',\n",
       " 'elbow_flexion_mer',\n",
       " 'torso_anterior_tilt_mer',\n",
       " 'torso_lateral_tilt_mer',\n",
       " 'torso_rotation_mer',\n",
       " 'elbow_varus_moment',\n",
       " 'shoulder_internal_rotation_moment',\n",
       " 'torso_anterior_tilt_br',\n",
       " 'torso_lateral_tilt_br',\n",
       " 'torso_rotation_br',\n",
       " 'lead_knee_extension_from_fp_to_br',\n",
       " 'cog_velo_pkh',\n",
       " 'stride_length',\n",
       " 'stride_angle',\n",
       " 'arm_slot',\n",
       " 'timing_peak_torso_to_peak_pelvis_rot_velo',\n",
       " 'max_shoulder_horizontal_abduction',\n",
       " 'shoulder_transfer_fp_br',\n",
       " 'shoulder_generation_fp_br',\n",
       " 'shoulder_absorption_fp_br',\n",
       " 'elbow_transfer_fp_br',\n",
       " 'elbow_generation_fp_br',\n",
       " 'elbow_absorption_fp_br',\n",
       " 'lead_hip_transfer_fp_br',\n",
       " 'lead_hip_generation_fp_br',\n",
       " 'lead_hip_absorption_fp_br',\n",
       " 'lead_knee_transfer_fp_br',\n",
       " 'lead_knee_generation_fp_br',\n",
       " 'lead_knee_absorption_fp_br',\n",
       " 'rear_hip_transfer_pkh_fp',\n",
       " 'rear_hip_generation_pkh_fp',\n",
       " 'rear_hip_absorption_pkh_fp',\n",
       " 'rear_knee_transfer_pkh_fp',\n",
       " 'rear_knee_generation_pkh_fp',\n",
       " 'rear_knee_absorption_pkh_fp',\n",
       " 'pelvis_lumbar_transfer_fp_br',\n",
       " 'thorax_distal_transfer_fp_br',\n",
       " 'rear_grf_x_max',\n",
       " 'rear_grf_y_max',\n",
       " 'rear_grf_z_max',\n",
       " 'rear_grf_mag_max',\n",
       " 'rear_grf_angle_at_max',\n",
       " 'lead_grf_x_max',\n",
       " 'lead_grf_y_max',\n",
       " 'lead_grf_z_max',\n",
       " 'lead_grf_mag_max',\n",
       " 'lead_grf_angle_at_max',\n",
       " 'peak_rfd_rear',\n",
       " 'peak_rfd_lead',\n",
       " 'user',\n",
       " 'session_mass_kg',\n",
       " 'session_height_m',\n",
       " 'age_yrs',\n",
       " 'playing_level',\n",
       " 'filename_new',\n",
       " 'modelname_new']"
      ]
     },
     "execution_count": 54,
     "metadata": {},
     "output_type": "execute_result"
    }
   ],
   "source": [
    "list(data.columns)"
   ]
  },
  {
   "cell_type": "code",
   "execution_count": 56,
   "id": "26c11d6f-3601-4d86-82bd-cff9b40cbce7",
   "metadata": {},
   "outputs": [
    {
     "data": {
      "text/plain": [
       "8"
      ]
     },
     "execution_count": 56,
     "metadata": {},
     "output_type": "execute_result"
    }
   ],
   "source": [
    "data.isnull().sum().max()"
   ]
  },
  {
   "cell_type": "code",
   "execution_count": 58,
   "id": "ffd52a4d-9e0c-4d19-82e2-26f54b585f76",
   "metadata": {},
   "outputs": [],
   "source": [
    "data = data.dropna()"
   ]
  },
  {
   "cell_type": "code",
   "execution_count": 60,
   "id": "cb363d4b-a01d-42d9-bae8-5312c4add65a",
   "metadata": {},
   "outputs": [
    {
     "data": {
      "text/plain": [
       "['session_pitch',\n",
       " 'p_throws',\n",
       " 'pitch_type',\n",
       " 'playing_level',\n",
       " 'filename_new',\n",
       " 'modelname_new']"
      ]
     },
     "execution_count": 60,
     "metadata": {},
     "output_type": "execute_result"
    }
   ],
   "source": [
    "cat = data.select_dtypes(include = ['object', 'category'])\n",
    "list(cat.columns)"
   ]
  },
  {
   "cell_type": "code",
   "execution_count": 62,
   "id": "20e5bc54-66d7-4c8b-a1b7-f22232833ce8",
   "metadata": {},
   "outputs": [],
   "source": [
    "merged_data = data.drop(columns = ['session_pitch','filename_new', 'modelname_new'])\n",
    "data = pd.get_dummies(merged_data)"
   ]
  },
  {
   "cell_type": "code",
   "execution_count": 64,
   "id": "d4f627cf-febd-4460-a888-72229296c69a",
   "metadata": {},
   "outputs": [],
   "source": [
    "y = data['pitch_speed_mph']\n",
    "X = data.drop(columns = ['pitch_speed_mph'])"
   ]
  },
  {
   "cell_type": "code",
   "execution_count": 66,
   "id": "a5d2ec25-28d9-486b-b9b1-fcabc46009cd",
   "metadata": {},
   "outputs": [],
   "source": [
    "X_train, X_test, y_train, y_test = train_test_split(X, y, test_size = 0.25, random_state = 234)"
   ]
  },
  {
   "cell_type": "code",
   "execution_count": 80,
   "id": "43374eea-cd3f-4620-9a03-1c9dce33def4",
   "metadata": {},
   "outputs": [
    {
     "name": "stderr",
     "output_type": "stream",
     "text": [
      "/opt/anaconda3/lib/python3.12/site-packages/keras/src/layers/core/input_layer.py:26: UserWarning: Argument `input_shape` is deprecated. Use `shape` instead.\n",
      "  warnings.warn(\n"
     ]
    }
   ],
   "source": [
    "#building tensorflow model\n",
    "model = keras.Sequential([\n",
    "    layers.InputLayer(input_shape = (X_train.shape[1],)),\n",
    "    layers.Dense(64, activation = 'relu'),\n",
    "    layers.Dense(32, activation = 'relu'),\n",
    "    layers.Dense(1)\n",
    "])\n",
    "\n",
    "model.compile(optimizer = 'adam', loss = 'mean_squared_error', metrics = ['mean_absolute_error'])"
   ]
  },
  {
   "cell_type": "code",
   "execution_count": 82,
   "id": "24f52a69-fb74-4cb3-9425-33be53d12c9c",
   "metadata": {},
   "outputs": [
    {
     "name": "stdout",
     "output_type": "stream",
     "text": [
      "Epoch 1/100\n",
      "\u001b[1m10/10\u001b[0m \u001b[32m━━━━━━━━━━━━━━━━━━━━\u001b[0m\u001b[37m\u001b[0m \u001b[1m2s\u001b[0m 27ms/step - loss: 480857.0312 - mean_absolute_error: 602.4410 - val_loss: 157697.1406 - val_mean_absolute_error: 346.8099\n",
      "Epoch 2/100\n",
      "\u001b[1m10/10\u001b[0m \u001b[32m━━━━━━━━━━━━━━━━━━━━\u001b[0m\u001b[37m\u001b[0m \u001b[1m0s\u001b[0m 8ms/step - loss: 112469.2109 - mean_absolute_error: 312.1544 - val_loss: 52909.5156 - val_mean_absolute_error: 101.0709\n",
      "Epoch 3/100\n",
      "\u001b[1m10/10\u001b[0m \u001b[32m━━━━━━━━━━━━━━━━━━━━\u001b[0m\u001b[37m\u001b[0m \u001b[1m0s\u001b[0m 12ms/step - loss: 51617.9961 - mean_absolute_error: 141.8555 - val_loss: 25947.3223 - val_mean_absolute_error: 113.2859\n",
      "Epoch 4/100\n",
      "\u001b[1m10/10\u001b[0m \u001b[32m━━━━━━━━━━━━━━━━━━━━\u001b[0m\u001b[37m\u001b[0m \u001b[1m0s\u001b[0m 10ms/step - loss: 44587.1758 - mean_absolute_error: 107.9965 - val_loss: 26452.9453 - val_mean_absolute_error: 82.7964\n",
      "Epoch 5/100\n",
      "\u001b[1m10/10\u001b[0m \u001b[32m━━━━━━━━━━━━━━━━━━━━\u001b[0m\u001b[37m\u001b[0m \u001b[1m0s\u001b[0m 11ms/step - loss: 18517.6855 - mean_absolute_error: 83.1187 - val_loss: 23247.5293 - val_mean_absolute_error: 74.3703\n",
      "Epoch 6/100\n",
      "\u001b[1m10/10\u001b[0m \u001b[32m━━━━━━━━━━━━━━━━━━━━\u001b[0m\u001b[37m\u001b[0m \u001b[1m0s\u001b[0m 15ms/step - loss: 12051.9980 - mean_absolute_error: 66.0085 - val_loss: 11181.4209 - val_mean_absolute_error: 58.3693\n",
      "Epoch 7/100\n",
      "\u001b[1m10/10\u001b[0m \u001b[32m━━━━━━━━━━━━━━━━━━━━\u001b[0m\u001b[37m\u001b[0m \u001b[1m0s\u001b[0m 12ms/step - loss: 12642.4824 - mean_absolute_error: 62.1452 - val_loss: 8703.1484 - val_mean_absolute_error: 53.6587\n",
      "Epoch 8/100\n",
      "\u001b[1m10/10\u001b[0m \u001b[32m━━━━━━━━━━━━━━━━━━━━\u001b[0m\u001b[37m\u001b[0m \u001b[1m0s\u001b[0m 9ms/step - loss: 12834.4092 - mean_absolute_error: 60.9103 - val_loss: 18771.5352 - val_mean_absolute_error: 70.5789\n",
      "Epoch 9/100\n",
      "\u001b[1m10/10\u001b[0m \u001b[32m━━━━━━━━━━━━━━━━━━━━\u001b[0m\u001b[37m\u001b[0m \u001b[1m0s\u001b[0m 9ms/step - loss: 7254.7900 - mean_absolute_error: 51.5897 - val_loss: 6781.4229 - val_mean_absolute_error: 46.7440\n",
      "Epoch 10/100\n",
      "\u001b[1m10/10\u001b[0m \u001b[32m━━━━━━━━━━━━━━━━━━━━\u001b[0m\u001b[37m\u001b[0m \u001b[1m0s\u001b[0m 9ms/step - loss: 4834.7080 - mean_absolute_error: 43.5197 - val_loss: 5197.7993 - val_mean_absolute_error: 44.5527\n",
      "Epoch 11/100\n",
      "\u001b[1m10/10\u001b[0m \u001b[32m━━━━━━━━━━━━━━━━━━━━\u001b[0m\u001b[37m\u001b[0m \u001b[1m0s\u001b[0m 15ms/step - loss: 4792.6504 - mean_absolute_error: 41.5062 - val_loss: 4174.3579 - val_mean_absolute_error: 41.8852\n",
      "Epoch 12/100\n",
      "\u001b[1m10/10\u001b[0m \u001b[32m━━━━━━━━━━━━━━━━━━━━\u001b[0m\u001b[37m\u001b[0m \u001b[1m0s\u001b[0m 15ms/step - loss: 4784.4585 - mean_absolute_error: 40.7960 - val_loss: 3568.1365 - val_mean_absolute_error: 39.4599\n",
      "Epoch 13/100\n",
      "\u001b[1m10/10\u001b[0m \u001b[32m━━━━━━━━━━━━━━━━━━━━\u001b[0m\u001b[37m\u001b[0m \u001b[1m0s\u001b[0m 11ms/step - loss: 3525.3838 - mean_absolute_error: 37.8627 - val_loss: 5141.2925 - val_mean_absolute_error: 41.5169\n",
      "Epoch 14/100\n",
      "\u001b[1m10/10\u001b[0m \u001b[32m━━━━━━━━━━━━━━━━━━━━\u001b[0m\u001b[37m\u001b[0m \u001b[1m0s\u001b[0m 11ms/step - loss: 2683.0947 - mean_absolute_error: 32.5485 - val_loss: 3438.9453 - val_mean_absolute_error: 37.7242\n",
      "Epoch 15/100\n",
      "\u001b[1m10/10\u001b[0m \u001b[32m━━━━━━━━━━━━━━━━━━━━\u001b[0m\u001b[37m\u001b[0m \u001b[1m0s\u001b[0m 8ms/step - loss: 4067.6086 - mean_absolute_error: 37.5167 - val_loss: 2632.0454 - val_mean_absolute_error: 33.7370\n",
      "Epoch 16/100\n",
      "\u001b[1m10/10\u001b[0m \u001b[32m━━━━━━━━━━━━━━━━━━━━\u001b[0m\u001b[37m\u001b[0m \u001b[1m0s\u001b[0m 11ms/step - loss: 2115.1799 - mean_absolute_error: 29.6475 - val_loss: 2236.6389 - val_mean_absolute_error: 32.8610\n",
      "Epoch 17/100\n",
      "\u001b[1m10/10\u001b[0m \u001b[32m━━━━━━━━━━━━━━━━━━━━\u001b[0m\u001b[37m\u001b[0m \u001b[1m0s\u001b[0m 10ms/step - loss: 1901.8744 - mean_absolute_error: 28.0670 - val_loss: 2055.2119 - val_mean_absolute_error: 31.7537\n",
      "Epoch 18/100\n",
      "\u001b[1m10/10\u001b[0m \u001b[32m━━━━━━━━━━━━━━━━━━━━\u001b[0m\u001b[37m\u001b[0m \u001b[1m0s\u001b[0m 11ms/step - loss: 1803.4973 - mean_absolute_error: 29.8577 - val_loss: 2333.6230 - val_mean_absolute_error: 32.0533\n",
      "Epoch 19/100\n",
      "\u001b[1m10/10\u001b[0m \u001b[32m━━━━━━━━━━━━━━━━━━━━\u001b[0m\u001b[37m\u001b[0m \u001b[1m0s\u001b[0m 8ms/step - loss: 3327.0950 - mean_absolute_error: 32.2598 - val_loss: 1773.6921 - val_mean_absolute_error: 29.6585\n",
      "Epoch 20/100\n",
      "\u001b[1m10/10\u001b[0m \u001b[32m━━━━━━━━━━━━━━━━━━━━\u001b[0m\u001b[37m\u001b[0m \u001b[1m0s\u001b[0m 10ms/step - loss: 1584.4324 - mean_absolute_error: 27.6597 - val_loss: 1566.9915 - val_mean_absolute_error: 27.7779\n",
      "Epoch 21/100\n",
      "\u001b[1m10/10\u001b[0m \u001b[32m━━━━━━━━━━━━━━━━━━━━\u001b[0m\u001b[37m\u001b[0m \u001b[1m0s\u001b[0m 7ms/step - loss: 1304.1058 - mean_absolute_error: 26.2399 - val_loss: 1597.0745 - val_mean_absolute_error: 28.3318\n",
      "Epoch 22/100\n",
      "\u001b[1m10/10\u001b[0m \u001b[32m━━━━━━━━━━━━━━━━━━━━\u001b[0m\u001b[37m\u001b[0m \u001b[1m0s\u001b[0m 9ms/step - loss: 1034.9418 - mean_absolute_error: 23.0697 - val_loss: 1381.6110 - val_mean_absolute_error: 26.0445\n",
      "Epoch 23/100\n",
      "\u001b[1m10/10\u001b[0m \u001b[32m━━━━━━━━━━━━━━━━━━━━\u001b[0m\u001b[37m\u001b[0m \u001b[1m0s\u001b[0m 10ms/step - loss: 1027.7845 - mean_absolute_error: 23.0443 - val_loss: 1569.4462 - val_mean_absolute_error: 28.0936\n",
      "Epoch 24/100\n",
      "\u001b[1m10/10\u001b[0m \u001b[32m━━━━━━━━━━━━━━━━━━━━\u001b[0m\u001b[37m\u001b[0m \u001b[1m0s\u001b[0m 9ms/step - loss: 965.4802 - mean_absolute_error: 23.0878 - val_loss: 1283.8914 - val_mean_absolute_error: 25.2039\n",
      "Epoch 25/100\n",
      "\u001b[1m10/10\u001b[0m \u001b[32m━━━━━━━━━━━━━━━━━━━━\u001b[0m\u001b[37m\u001b[0m \u001b[1m0s\u001b[0m 13ms/step - loss: 753.3029 - mean_absolute_error: 20.7856 - val_loss: 1281.1385 - val_mean_absolute_error: 25.5069\n",
      "Epoch 26/100\n",
      "\u001b[1m10/10\u001b[0m \u001b[32m━━━━━━━━━━━━━━━━━━━━\u001b[0m\u001b[37m\u001b[0m \u001b[1m0s\u001b[0m 13ms/step - loss: 718.8789 - mean_absolute_error: 20.2264 - val_loss: 1320.3253 - val_mean_absolute_error: 24.9766\n",
      "Epoch 27/100\n",
      "\u001b[1m10/10\u001b[0m \u001b[32m━━━━━━━━━━━━━━━━━━━━\u001b[0m\u001b[37m\u001b[0m \u001b[1m0s\u001b[0m 11ms/step - loss: 1033.9318 - mean_absolute_error: 21.6099 - val_loss: 1804.1256 - val_mean_absolute_error: 25.8240\n",
      "Epoch 28/100\n",
      "\u001b[1m10/10\u001b[0m \u001b[32m━━━━━━━━━━━━━━━━━━━━\u001b[0m\u001b[37m\u001b[0m \u001b[1m0s\u001b[0m 9ms/step - loss: 2032.2976 - mean_absolute_error: 25.9859 - val_loss: 1211.1044 - val_mean_absolute_error: 23.7406\n",
      "Epoch 29/100\n",
      "\u001b[1m10/10\u001b[0m \u001b[32m━━━━━━━━━━━━━━━━━━━━\u001b[0m\u001b[37m\u001b[0m \u001b[1m0s\u001b[0m 7ms/step - loss: 951.6147 - mean_absolute_error: 21.1393 - val_loss: 1148.1801 - val_mean_absolute_error: 23.6016\n",
      "Epoch 30/100\n",
      "\u001b[1m10/10\u001b[0m \u001b[32m━━━━━━━━━━━━━━━━━━━━\u001b[0m\u001b[37m\u001b[0m \u001b[1m0s\u001b[0m 8ms/step - loss: 640.9804 - mean_absolute_error: 18.9264 - val_loss: 997.7638 - val_mean_absolute_error: 21.8212\n",
      "Epoch 31/100\n",
      "\u001b[1m10/10\u001b[0m \u001b[32m━━━━━━━━━━━━━━━━━━━━\u001b[0m\u001b[37m\u001b[0m \u001b[1m0s\u001b[0m 9ms/step - loss: 753.1233 - mean_absolute_error: 20.6071 - val_loss: 966.1229 - val_mean_absolute_error: 21.4019\n",
      "Epoch 32/100\n",
      "\u001b[1m10/10\u001b[0m \u001b[32m━━━━━━━━━━━━━━━━━━━━\u001b[0m\u001b[37m\u001b[0m \u001b[1m0s\u001b[0m 6ms/step - loss: 635.0770 - mean_absolute_error: 18.0579 - val_loss: 1157.9225 - val_mean_absolute_error: 23.8636\n",
      "Epoch 33/100\n",
      "\u001b[1m10/10\u001b[0m \u001b[32m━━━━━━━━━━━━━━━━━━━━\u001b[0m\u001b[37m\u001b[0m \u001b[1m0s\u001b[0m 8ms/step - loss: 936.8900 - mean_absolute_error: 20.3647 - val_loss: 1009.5115 - val_mean_absolute_error: 21.4946\n",
      "Epoch 34/100\n",
      "\u001b[1m10/10\u001b[0m \u001b[32m━━━━━━━━━━━━━━━━━━━━\u001b[0m\u001b[37m\u001b[0m \u001b[1m0s\u001b[0m 12ms/step - loss: 1528.8168 - mean_absolute_error: 23.2648 - val_loss: 1529.0922 - val_mean_absolute_error: 23.2424\n",
      "Epoch 35/100\n",
      "\u001b[1m10/10\u001b[0m \u001b[32m━━━━━━━━━━━━━━━━━━━━\u001b[0m\u001b[37m\u001b[0m \u001b[1m0s\u001b[0m 18ms/step - loss: 1887.5221 - mean_absolute_error: 23.7041 - val_loss: 1176.8025 - val_mean_absolute_error: 22.2530\n",
      "Epoch 36/100\n",
      "\u001b[1m10/10\u001b[0m \u001b[32m━━━━━━━━━━━━━━━━━━━━\u001b[0m\u001b[37m\u001b[0m \u001b[1m0s\u001b[0m 10ms/step - loss: 1395.5173 - mean_absolute_error: 23.2727 - val_loss: 1762.7021 - val_mean_absolute_error: 23.6287\n",
      "Epoch 37/100\n",
      "\u001b[1m10/10\u001b[0m \u001b[32m━━━━━━━━━━━━━━━━━━━━\u001b[0m\u001b[37m\u001b[0m \u001b[1m0s\u001b[0m 11ms/step - loss: 2259.1968 - mean_absolute_error: 26.2466 - val_loss: 3088.2568 - val_mean_absolute_error: 27.4518\n",
      "Epoch 38/100\n",
      "\u001b[1m10/10\u001b[0m \u001b[32m━━━━━━━━━━━━━━━━━━━━\u001b[0m\u001b[37m\u001b[0m \u001b[1m0s\u001b[0m 11ms/step - loss: 6456.8696 - mean_absolute_error: 32.4355 - val_loss: 13675.1221 - val_mean_absolute_error: 46.1376\n",
      "Epoch 39/100\n",
      "\u001b[1m10/10\u001b[0m \u001b[32m━━━━━━━━━━━━━━━━━━━━\u001b[0m\u001b[37m\u001b[0m \u001b[1m0s\u001b[0m 14ms/step - loss: 16446.4102 - mean_absolute_error: 51.0788 - val_loss: 7316.1660 - val_mean_absolute_error: 42.8774\n",
      "Epoch 40/100\n",
      "\u001b[1m10/10\u001b[0m \u001b[32m━━━━━━━━━━━━━━━━━━━━\u001b[0m\u001b[37m\u001b[0m \u001b[1m0s\u001b[0m 13ms/step - loss: 10936.0576 - mean_absolute_error: 48.0787 - val_loss: 9660.2461 - val_mean_absolute_error: 37.7961\n",
      "Epoch 41/100\n",
      "\u001b[1m10/10\u001b[0m \u001b[32m━━━━━━━━━━━━━━━━━━━━\u001b[0m\u001b[37m\u001b[0m \u001b[1m0s\u001b[0m 11ms/step - loss: 16315.7568 - mean_absolute_error: 43.3543 - val_loss: 15489.0830 - val_mean_absolute_error: 52.9112\n",
      "Epoch 42/100\n",
      "\u001b[1m10/10\u001b[0m \u001b[32m━━━━━━━━━━━━━━━━━━━━\u001b[0m\u001b[37m\u001b[0m \u001b[1m0s\u001b[0m 12ms/step - loss: 28880.4727 - mean_absolute_error: 63.0805 - val_loss: 32376.2949 - val_mean_absolute_error: 71.6318\n",
      "Epoch 43/100\n",
      "\u001b[1m10/10\u001b[0m \u001b[32m━━━━━━━━━━━━━━━━━━━━\u001b[0m\u001b[37m\u001b[0m \u001b[1m0s\u001b[0m 12ms/step - loss: 67124.4844 - mean_absolute_error: 92.7689 - val_loss: 15868.2002 - val_mean_absolute_error: 50.3317\n",
      "Epoch 44/100\n",
      "\u001b[1m10/10\u001b[0m \u001b[32m━━━━━━━━━━━━━━━━━━━━\u001b[0m\u001b[37m\u001b[0m \u001b[1m0s\u001b[0m 20ms/step - loss: 17886.6250 - mean_absolute_error: 50.7913 - val_loss: 6490.2158 - val_mean_absolute_error: 41.7960\n",
      "Epoch 45/100\n",
      "\u001b[1m10/10\u001b[0m \u001b[32m━━━━━━━━━━━━━━━━━━━━\u001b[0m\u001b[37m\u001b[0m \u001b[1m0s\u001b[0m 11ms/step - loss: 7031.4297 - mean_absolute_error: 41.7478 - val_loss: 735.2108 - val_mean_absolute_error: 18.6969\n",
      "Epoch 46/100\n",
      "\u001b[1m10/10\u001b[0m \u001b[32m━━━━━━━━━━━━━━━━━━━━\u001b[0m\u001b[37m\u001b[0m \u001b[1m0s\u001b[0m 10ms/step - loss: 1834.9688 - mean_absolute_error: 23.2028 - val_loss: 1109.7278 - val_mean_absolute_error: 20.2126\n",
      "Epoch 47/100\n",
      "\u001b[1m10/10\u001b[0m \u001b[32m━━━━━━━━━━━━━━━━━━━━\u001b[0m\u001b[37m\u001b[0m \u001b[1m0s\u001b[0m 12ms/step - loss: 593.6685 - mean_absolute_error: 16.4636 - val_loss: 1012.8853 - val_mean_absolute_error: 21.5819\n",
      "Epoch 48/100\n",
      "\u001b[1m10/10\u001b[0m \u001b[32m━━━━━━━━━━━━━━━━━━━━\u001b[0m\u001b[37m\u001b[0m \u001b[1m0s\u001b[0m 11ms/step - loss: 772.2895 - mean_absolute_error: 19.3101 - val_loss: 990.0526 - val_mean_absolute_error: 19.6805\n",
      "Epoch 49/100\n",
      "\u001b[1m10/10\u001b[0m \u001b[32m━━━━━━━━━━━━━━━━━━━━\u001b[0m\u001b[37m\u001b[0m \u001b[1m0s\u001b[0m 10ms/step - loss: 753.8212 - mean_absolute_error: 17.9441 - val_loss: 691.5825 - val_mean_absolute_error: 17.3519\n",
      "Epoch 50/100\n",
      "\u001b[1m10/10\u001b[0m \u001b[32m━━━━━━━━━━━━━━━━━━━━\u001b[0m\u001b[37m\u001b[0m \u001b[1m0s\u001b[0m 10ms/step - loss: 582.2736 - mean_absolute_error: 15.9411 - val_loss: 1084.2427 - val_mean_absolute_error: 20.0448\n",
      "Epoch 51/100\n",
      "\u001b[1m10/10\u001b[0m \u001b[32m━━━━━━━━━━━━━━━━━━━━\u001b[0m\u001b[37m\u001b[0m \u001b[1m0s\u001b[0m 12ms/step - loss: 502.8073 - mean_absolute_error: 16.5805 - val_loss: 682.9841 - val_mean_absolute_error: 17.2734\n",
      "Epoch 52/100\n",
      "\u001b[1m10/10\u001b[0m \u001b[32m━━━━━━━━━━━━━━━━━━━━\u001b[0m\u001b[37m\u001b[0m \u001b[1m0s\u001b[0m 11ms/step - loss: 379.3940 - mean_absolute_error: 14.8404 - val_loss: 693.7720 - val_mean_absolute_error: 17.8550\n",
      "Epoch 53/100\n",
      "\u001b[1m10/10\u001b[0m \u001b[32m━━━━━━━━━━━━━━━━━━━━\u001b[0m\u001b[37m\u001b[0m \u001b[1m0s\u001b[0m 9ms/step - loss: 448.4914 - mean_absolute_error: 15.1442 - val_loss: 650.5021 - val_mean_absolute_error: 16.8898\n",
      "Epoch 54/100\n",
      "\u001b[1m10/10\u001b[0m \u001b[32m━━━━━━━━━━━━━━━━━━━━\u001b[0m\u001b[37m\u001b[0m \u001b[1m0s\u001b[0m 16ms/step - loss: 466.9677 - mean_absolute_error: 15.6189 - val_loss: 881.3553 - val_mean_absolute_error: 18.5598\n",
      "Epoch 55/100\n",
      "\u001b[1m10/10\u001b[0m \u001b[32m━━━━━━━━━━━━━━━━━━━━\u001b[0m\u001b[37m\u001b[0m \u001b[1m0s\u001b[0m 14ms/step - loss: 652.6429 - mean_absolute_error: 16.8876 - val_loss: 820.8578 - val_mean_absolute_error: 19.9136\n",
      "Epoch 56/100\n",
      "\u001b[1m10/10\u001b[0m \u001b[32m━━━━━━━━━━━━━━━━━━━━\u001b[0m\u001b[37m\u001b[0m \u001b[1m0s\u001b[0m 13ms/step - loss: 433.0791 - mean_absolute_error: 16.3541 - val_loss: 651.2644 - val_mean_absolute_error: 17.2924\n",
      "Epoch 57/100\n",
      "\u001b[1m10/10\u001b[0m \u001b[32m━━━━━━━━━━━━━━━━━━━━\u001b[0m\u001b[37m\u001b[0m \u001b[1m0s\u001b[0m 13ms/step - loss: 343.3214 - mean_absolute_error: 13.9801 - val_loss: 587.2828 - val_mean_absolute_error: 15.8348\n",
      "Epoch 58/100\n",
      "\u001b[1m10/10\u001b[0m \u001b[32m━━━━━━━━━━━━━━━━━━━━\u001b[0m\u001b[37m\u001b[0m \u001b[1m0s\u001b[0m 14ms/step - loss: 380.0916 - mean_absolute_error: 14.7604 - val_loss: 614.4707 - val_mean_absolute_error: 16.0959\n",
      "Epoch 59/100\n",
      "\u001b[1m10/10\u001b[0m \u001b[32m━━━━━━━━━━━━━━━━━━━━\u001b[0m\u001b[37m\u001b[0m \u001b[1m0s\u001b[0m 20ms/step - loss: 285.4511 - mean_absolute_error: 12.9071 - val_loss: 622.0566 - val_mean_absolute_error: 16.5309\n",
      "Epoch 60/100\n",
      "\u001b[1m10/10\u001b[0m \u001b[32m━━━━━━━━━━━━━━━━━━━━\u001b[0m\u001b[37m\u001b[0m \u001b[1m0s\u001b[0m 16ms/step - loss: 340.6012 - mean_absolute_error: 13.9815 - val_loss: 607.8836 - val_mean_absolute_error: 16.2176\n",
      "Epoch 61/100\n",
      "\u001b[1m10/10\u001b[0m \u001b[32m━━━━━━━━━━━━━━━━━━━━\u001b[0m\u001b[37m\u001b[0m \u001b[1m0s\u001b[0m 23ms/step - loss: 517.3580 - mean_absolute_error: 14.9680 - val_loss: 674.0237 - val_mean_absolute_error: 16.4408\n",
      "Epoch 62/100\n",
      "\u001b[1m10/10\u001b[0m \u001b[32m━━━━━━━━━━━━━━━━━━━━\u001b[0m\u001b[37m\u001b[0m \u001b[1m0s\u001b[0m 12ms/step - loss: 634.9962 - mean_absolute_error: 15.7287 - val_loss: 645.5643 - val_mean_absolute_error: 16.2283\n",
      "Epoch 63/100\n",
      "\u001b[1m10/10\u001b[0m \u001b[32m━━━━━━━━━━━━━━━━━━━━\u001b[0m\u001b[37m\u001b[0m \u001b[1m0s\u001b[0m 10ms/step - loss: 474.7917 - mean_absolute_error: 15.3916 - val_loss: 620.2600 - val_mean_absolute_error: 15.8732\n",
      "Epoch 64/100\n",
      "\u001b[1m10/10\u001b[0m \u001b[32m━━━━━━━━━━━━━━━━━━━━\u001b[0m\u001b[37m\u001b[0m \u001b[1m0s\u001b[0m 11ms/step - loss: 312.9221 - mean_absolute_error: 13.2880 - val_loss: 685.9960 - val_mean_absolute_error: 17.1479\n",
      "Epoch 65/100\n",
      "\u001b[1m10/10\u001b[0m \u001b[32m━━━━━━━━━━━━━━━━━━━━\u001b[0m\u001b[37m\u001b[0m \u001b[1m0s\u001b[0m 10ms/step - loss: 328.6096 - mean_absolute_error: 13.9225 - val_loss: 599.4503 - val_mean_absolute_error: 16.0813\n",
      "Epoch 66/100\n",
      "\u001b[1m10/10\u001b[0m \u001b[32m━━━━━━━━━━━━━━━━━━━━\u001b[0m\u001b[37m\u001b[0m \u001b[1m0s\u001b[0m 9ms/step - loss: 311.3205 - mean_absolute_error: 13.7949 - val_loss: 604.6744 - val_mean_absolute_error: 15.9854\n",
      "Epoch 67/100\n",
      "\u001b[1m10/10\u001b[0m \u001b[32m━━━━━━━━━━━━━━━━━━━━\u001b[0m\u001b[37m\u001b[0m \u001b[1m0s\u001b[0m 18ms/step - loss: 320.6859 - mean_absolute_error: 13.1968 - val_loss: 576.5371 - val_mean_absolute_error: 15.2113\n",
      "Epoch 68/100\n",
      "\u001b[1m10/10\u001b[0m \u001b[32m━━━━━━━━━━━━━━━━━━━━\u001b[0m\u001b[37m\u001b[0m \u001b[1m0s\u001b[0m 9ms/step - loss: 286.6655 - mean_absolute_error: 12.9780 - val_loss: 587.6725 - val_mean_absolute_error: 15.3675\n",
      "Epoch 69/100\n",
      "\u001b[1m10/10\u001b[0m \u001b[32m━━━━━━━━━━━━━━━━━━━━\u001b[0m\u001b[37m\u001b[0m \u001b[1m0s\u001b[0m 10ms/step - loss: 377.6752 - mean_absolute_error: 14.1157 - val_loss: 536.2521 - val_mean_absolute_error: 14.8939\n",
      "Epoch 70/100\n",
      "\u001b[1m10/10\u001b[0m \u001b[32m━━━━━━━━━━━━━━━━━━━━\u001b[0m\u001b[37m\u001b[0m \u001b[1m0s\u001b[0m 10ms/step - loss: 328.3087 - mean_absolute_error: 13.6553 - val_loss: 542.1663 - val_mean_absolute_error: 14.7329\n",
      "Epoch 71/100\n",
      "\u001b[1m10/10\u001b[0m \u001b[32m━━━━━━━━━━━━━━━━━━━━\u001b[0m\u001b[37m\u001b[0m \u001b[1m0s\u001b[0m 12ms/step - loss: 392.1587 - mean_absolute_error: 13.2166 - val_loss: 525.0577 - val_mean_absolute_error: 14.4911\n",
      "Epoch 72/100\n",
      "\u001b[1m10/10\u001b[0m \u001b[32m━━━━━━━━━━━━━━━━━━━━\u001b[0m\u001b[37m\u001b[0m \u001b[1m0s\u001b[0m 10ms/step - loss: 283.6937 - mean_absolute_error: 12.7420 - val_loss: 575.3141 - val_mean_absolute_error: 15.3320\n",
      "Epoch 73/100\n",
      "\u001b[1m10/10\u001b[0m \u001b[32m━━━━━━━━━━━━━━━━━━━━\u001b[0m\u001b[37m\u001b[0m \u001b[1m0s\u001b[0m 7ms/step - loss: 266.7257 - mean_absolute_error: 12.4276 - val_loss: 545.7224 - val_mean_absolute_error: 14.9393\n",
      "Epoch 74/100\n",
      "\u001b[1m10/10\u001b[0m \u001b[32m━━━━━━━━━━━━━━━━━━━━\u001b[0m\u001b[37m\u001b[0m \u001b[1m0s\u001b[0m 7ms/step - loss: 298.2021 - mean_absolute_error: 12.7165 - val_loss: 542.8693 - val_mean_absolute_error: 14.7551\n",
      "Epoch 75/100\n",
      "\u001b[1m10/10\u001b[0m \u001b[32m━━━━━━━━━━━━━━━━━━━━\u001b[0m\u001b[37m\u001b[0m \u001b[1m0s\u001b[0m 9ms/step - loss: 299.2797 - mean_absolute_error: 12.7008 - val_loss: 604.3869 - val_mean_absolute_error: 15.1771\n",
      "Epoch 76/100\n",
      "\u001b[1m10/10\u001b[0m \u001b[32m━━━━━━━━━━━━━━━━━━━━\u001b[0m\u001b[37m\u001b[0m \u001b[1m0s\u001b[0m 8ms/step - loss: 241.9183 - mean_absolute_error: 12.2874 - val_loss: 498.7952 - val_mean_absolute_error: 14.0634\n",
      "Epoch 77/100\n",
      "\u001b[1m10/10\u001b[0m \u001b[32m━━━━━━━━━━━━━━━━━━━━\u001b[0m\u001b[37m\u001b[0m \u001b[1m0s\u001b[0m 9ms/step - loss: 276.6566 - mean_absolute_error: 12.0430 - val_loss: 503.3939 - val_mean_absolute_error: 14.1207\n",
      "Epoch 78/100\n",
      "\u001b[1m10/10\u001b[0m \u001b[32m━━━━━━━━━━━━━━━━━━━━\u001b[0m\u001b[37m\u001b[0m \u001b[1m0s\u001b[0m 8ms/step - loss: 209.5714 - mean_absolute_error: 11.4968 - val_loss: 501.9438 - val_mean_absolute_error: 14.1205\n",
      "Epoch 79/100\n",
      "\u001b[1m10/10\u001b[0m \u001b[32m━━━━━━━━━━━━━━━━━━━━\u001b[0m\u001b[37m\u001b[0m \u001b[1m0s\u001b[0m 8ms/step - loss: 270.6096 - mean_absolute_error: 12.5609 - val_loss: 529.0571 - val_mean_absolute_error: 14.6667\n",
      "Epoch 80/100\n",
      "\u001b[1m10/10\u001b[0m \u001b[32m━━━━━━━━━━━━━━━━━━━━\u001b[0m\u001b[37m\u001b[0m \u001b[1m0s\u001b[0m 7ms/step - loss: 256.8898 - mean_absolute_error: 11.3176 - val_loss: 511.0788 - val_mean_absolute_error: 14.1421\n",
      "Epoch 81/100\n",
      "\u001b[1m10/10\u001b[0m \u001b[32m━━━━━━━━━━━━━━━━━━━━\u001b[0m\u001b[37m\u001b[0m \u001b[1m0s\u001b[0m 12ms/step - loss: 204.8737 - mean_absolute_error: 11.2540 - val_loss: 779.8400 - val_mean_absolute_error: 15.7643\n",
      "Epoch 82/100\n",
      "\u001b[1m10/10\u001b[0m \u001b[32m━━━━━━━━━━━━━━━━━━━━\u001b[0m\u001b[37m\u001b[0m \u001b[1m0s\u001b[0m 8ms/step - loss: 545.8839 - mean_absolute_error: 14.7038 - val_loss: 694.5510 - val_mean_absolute_error: 15.8481\n",
      "Epoch 83/100\n",
      "\u001b[1m10/10\u001b[0m \u001b[32m━━━━━━━━━━━━━━━━━━━━\u001b[0m\u001b[37m\u001b[0m \u001b[1m0s\u001b[0m 7ms/step - loss: 451.0053 - mean_absolute_error: 14.0021 - val_loss: 487.4508 - val_mean_absolute_error: 14.1576\n",
      "Epoch 84/100\n",
      "\u001b[1m10/10\u001b[0m \u001b[32m━━━━━━━━━━━━━━━━━━━━\u001b[0m\u001b[37m\u001b[0m \u001b[1m0s\u001b[0m 7ms/step - loss: 268.7371 - mean_absolute_error: 11.4397 - val_loss: 517.8319 - val_mean_absolute_error: 14.5498\n",
      "Epoch 85/100\n",
      "\u001b[1m10/10\u001b[0m \u001b[32m━━━━━━━━━━━━━━━━━━━━\u001b[0m\u001b[37m\u001b[0m \u001b[1m0s\u001b[0m 8ms/step - loss: 378.5930 - mean_absolute_error: 13.0994 - val_loss: 508.0286 - val_mean_absolute_error: 14.5766\n",
      "Epoch 86/100\n",
      "\u001b[1m10/10\u001b[0m \u001b[32m━━━━━━━━━━━━━━━━━━━━\u001b[0m\u001b[37m\u001b[0m \u001b[1m0s\u001b[0m 7ms/step - loss: 399.6624 - mean_absolute_error: 12.1026 - val_loss: 711.7891 - val_mean_absolute_error: 16.1192\n",
      "Epoch 87/100\n",
      "\u001b[1m10/10\u001b[0m \u001b[32m━━━━━━━━━━━━━━━━━━━━\u001b[0m\u001b[37m\u001b[0m \u001b[1m0s\u001b[0m 7ms/step - loss: 744.7719 - mean_absolute_error: 14.7076 - val_loss: 1277.5861 - val_mean_absolute_error: 19.3886\n",
      "Epoch 88/100\n",
      "\u001b[1m10/10\u001b[0m \u001b[32m━━━━━━━━━━━━━━━━━━━━\u001b[0m\u001b[37m\u001b[0m \u001b[1m0s\u001b[0m 12ms/step - loss: 424.1549 - mean_absolute_error: 12.8497 - val_loss: 656.6964 - val_mean_absolute_error: 15.7177\n",
      "Epoch 89/100\n",
      "\u001b[1m10/10\u001b[0m \u001b[32m━━━━━━━━━━━━━━━━━━━━\u001b[0m\u001b[37m\u001b[0m \u001b[1m0s\u001b[0m 8ms/step - loss: 654.2964 - mean_absolute_error: 14.7266 - val_loss: 516.8657 - val_mean_absolute_error: 14.1489\n",
      "Epoch 90/100\n",
      "\u001b[1m10/10\u001b[0m \u001b[32m━━━━━━━━━━━━━━━━━━━━\u001b[0m\u001b[37m\u001b[0m \u001b[1m0s\u001b[0m 9ms/step - loss: 561.0474 - mean_absolute_error: 14.5045 - val_loss: 467.8356 - val_mean_absolute_error: 13.9322\n",
      "Epoch 91/100\n",
      "\u001b[1m10/10\u001b[0m \u001b[32m━━━━━━━━━━━━━━━━━━━━\u001b[0m\u001b[37m\u001b[0m \u001b[1m0s\u001b[0m 7ms/step - loss: 690.8943 - mean_absolute_error: 14.7156 - val_loss: 830.6420 - val_mean_absolute_error: 15.6735\n",
      "Epoch 92/100\n",
      "\u001b[1m10/10\u001b[0m \u001b[32m━━━━━━━━━━━━━━━━━━━━\u001b[0m\u001b[37m\u001b[0m \u001b[1m0s\u001b[0m 10ms/step - loss: 855.1253 - mean_absolute_error: 15.0072 - val_loss: 429.7131 - val_mean_absolute_error: 13.5626\n",
      "Epoch 93/100\n",
      "\u001b[1m10/10\u001b[0m \u001b[32m━━━━━━━━━━━━━━━━━━━━\u001b[0m\u001b[37m\u001b[0m \u001b[1m0s\u001b[0m 7ms/step - loss: 358.2105 - mean_absolute_error: 12.1392 - val_loss: 660.0949 - val_mean_absolute_error: 17.2376\n",
      "Epoch 94/100\n",
      "\u001b[1m10/10\u001b[0m \u001b[32m━━━━━━━━━━━━━━━━━━━━\u001b[0m\u001b[37m\u001b[0m \u001b[1m0s\u001b[0m 8ms/step - loss: 562.6709 - mean_absolute_error: 13.9457 - val_loss: 414.4996 - val_mean_absolute_error: 13.3057\n",
      "Epoch 95/100\n",
      "\u001b[1m10/10\u001b[0m \u001b[32m━━━━━━━━━━━━━━━━━━━━\u001b[0m\u001b[37m\u001b[0m \u001b[1m0s\u001b[0m 8ms/step - loss: 224.3503 - mean_absolute_error: 11.0312 - val_loss: 405.1817 - val_mean_absolute_error: 13.2576\n",
      "Epoch 96/100\n",
      "\u001b[1m10/10\u001b[0m \u001b[32m━━━━━━━━━━━━━━━━━━━━\u001b[0m\u001b[37m\u001b[0m \u001b[1m0s\u001b[0m 8ms/step - loss: 265.7815 - mean_absolute_error: 11.9201 - val_loss: 413.4809 - val_mean_absolute_error: 13.0713\n",
      "Epoch 97/100\n",
      "\u001b[1m10/10\u001b[0m \u001b[32m━━━━━━━━━━━━━━━━━━━━\u001b[0m\u001b[37m\u001b[0m \u001b[1m0s\u001b[0m 7ms/step - loss: 156.5627 - mean_absolute_error: 10.0853 - val_loss: 430.8812 - val_mean_absolute_error: 13.2413\n",
      "Epoch 98/100\n",
      "\u001b[1m10/10\u001b[0m \u001b[32m━━━━━━━━━━━━━━━━━━━━\u001b[0m\u001b[37m\u001b[0m \u001b[1m0s\u001b[0m 8ms/step - loss: 160.9866 - mean_absolute_error: 9.7061 - val_loss: 401.9823 - val_mean_absolute_error: 12.9088\n",
      "Epoch 99/100\n",
      "\u001b[1m10/10\u001b[0m \u001b[32m━━━━━━━━━━━━━━━━━━━━\u001b[0m\u001b[37m\u001b[0m \u001b[1m0s\u001b[0m 9ms/step - loss: 188.0279 - mean_absolute_error: 10.6614 - val_loss: 385.6436 - val_mean_absolute_error: 12.8151\n",
      "Epoch 100/100\n",
      "\u001b[1m10/10\u001b[0m \u001b[32m━━━━━━━━━━━━━━━━━━━━\u001b[0m\u001b[37m\u001b[0m \u001b[1m0s\u001b[0m 8ms/step - loss: 213.8591 - mean_absolute_error: 10.8725 - val_loss: 419.6202 - val_mean_absolute_error: 13.2020\n"
     ]
    }
   ],
   "source": [
    "history = model.fit(X_train, y_train, validation_data = (X_test, y_test), epochs = 100)"
   ]
  },
  {
   "cell_type": "code",
   "execution_count": 83,
   "id": "981973ba-e3c7-4497-be0d-d785e9d1ea09",
   "metadata": {},
   "outputs": [
    {
     "name": "stdout",
     "output_type": "stream",
     "text": [
      "\u001b[1m4/4\u001b[0m \u001b[32m━━━━━━━━━━━━━━━━━━━━\u001b[0m\u001b[37m\u001b[0m \u001b[1m0s\u001b[0m 6ms/step - loss: 342.8824 - mean_absolute_error: 11.7723\n",
      "Test MAE: 13.201955795288086\n"
     ]
    }
   ],
   "source": [
    "test_loss, test_mae = model.evaluate(X_test, y_test)\n",
    "print('Test MAE:', test_mae)"
   ]
  },
  {
   "cell_type": "code",
   "execution_count": 84,
   "id": "ad3c95e8-bf05-43f6-909e-164843a51f19",
   "metadata": {},
   "outputs": [
    {
     "name": "stdout",
     "output_type": "stream",
     "text": [
      "WARNING:tensorflow:5 out of the last 9 calls to <function TensorFlowTrainer.make_predict_function.<locals>.one_step_on_data_distributed at 0x16fc95f80> triggered tf.function retracing. Tracing is expensive and the excessive number of tracings could be due to (1) creating @tf.function repeatedly in a loop, (2) passing tensors with different shapes, (3) passing Python objects instead of tensors. For (1), please define your @tf.function outside of the loop. For (2), @tf.function has reduce_retracing=True option that can avoid unnecessary retracing. For (3), please refer to https://www.tensorflow.org/guide/function#controlling_retracing and https://www.tensorflow.org/api_docs/python/tf/function for  more details.\n",
      "\u001b[1m1/4\u001b[0m \u001b[32m━━━━━\u001b[0m\u001b[37m━━━━━━━━━━━━━━━\u001b[0m \u001b[1m0s\u001b[0m 79ms/stepWARNING:tensorflow:6 out of the last 12 calls to <function TensorFlowTrainer.make_predict_function.<locals>.one_step_on_data_distributed at 0x16fc95f80> triggered tf.function retracing. Tracing is expensive and the excessive number of tracings could be due to (1) creating @tf.function repeatedly in a loop, (2) passing tensors with different shapes, (3) passing Python objects instead of tensors. For (1), please define your @tf.function outside of the loop. For (2), @tf.function has reduce_retracing=True option that can avoid unnecessary retracing. For (3), please refer to https://www.tensorflow.org/guide/function#controlling_retracing and https://www.tensorflow.org/api_docs/python/tf/function for  more details.\n",
      "\u001b[1m4/4\u001b[0m \u001b[32m━━━━━━━━━━━━━━━━━━━━\u001b[0m\u001b[37m\u001b[0m \u001b[1m0s\u001b[0m 28ms/step\n"
     ]
    }
   ],
   "source": [
    "predictions = model.predict(X_test)"
   ]
  },
  {
   "cell_type": "code",
   "execution_count": 85,
   "id": "b8980aa9-7669-4d04-929b-ebce6a618e77",
   "metadata": {},
   "outputs": [
    {
     "data": {
      "image/png": "[encoded data removed]",
      "text/plain": [
       "<Figure size 640x480 with 1 Axes>"
      ]
     },
     "metadata": {},
     "output_type": "display_data"
    }
   ],
   "source": [
    "plt.plot(history.history['loss'], label = 'loss')\n",
    "plt.plot(history.history['val_loss'], label = 'val_loss')\n",
    "plt.xlabel('Epoch')\n",
    "plt.ylabel('Loss')\n",
    "plt.legend()\n",
    "plt.show()"
   ]
  },
  {
   "cell_type": "code",
   "execution_count": null,
   "id": "4482a56e-ebac-4267-bba5-f8e97104be05",
   "metadata": {},
   "outputs": [],
   "source": [
    "# Hyperparameter Tuning"
   ]
  },
  {
   "cell_type": "code",
   "execution_count": null,
   "id": "4b264a43-3015-4a2a-a39d-245e2b1e7f7e",
   "metadata": {},
   "outputs": [],
   "source": []
  }
 ],
 "metadata": {
  "kernelspec": {
   "display_name": "Python 3 (ipykernel)",
   "language": "python",
   "name": "python3"
  },
  "language_info": {
   "codemirror_mode": {
    "name": "ipython",
    "version": 3
   },
   "file_extension": ".py",
   "mimetype": "text/x-python",
   "name": "python",
   "nbconvert_exporter": "python",
   "pygments_lexer": "ipython3",
   "version": "3.12.2"
  }
 },
 "nbformat": 4,
 "nbformat_minor": 5
}
